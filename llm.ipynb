{
 "cells": [
  {
   "cell_type": "markdown",
   "id": "acfe33bc-c510-4f6d-b1cd-3721627dda25",
   "metadata": {},
   "source": [
    "Text loader and Text splitting"
   ]
  },
  {
   "cell_type": "markdown",
   "id": "7d4b7b1a-b8f5-4778-9667-be7e3dfd26c7",
   "metadata": {},
   "source": [
    "pip install langchain"
   ]
  },
  {
   "cell_type": "code",
   "execution_count": 6,
   "id": "7285ef3b-676e-4b82-b0de-6675459b9cf9",
   "metadata": {},
   "outputs": [
    {
     "name": "stdout",
     "output_type": "stream",
     "text": [
      "Requirement already satisfied: pip in c:\\users\\sree ram\\appdata\\local\\programs\\python\\python312\\lib\\site-packages (24.0)\n",
      "Collecting pip\n",
      "  Downloading pip-24.2-py3-none-any.whl.metadata (3.6 kB)\n",
      "Downloading pip-24.2-py3-none-any.whl (1.8 MB)\n",
      "   ---------------------------------------- 0.0/1.8 MB ? eta -:--:--\n",
      "   ---------------------------------------- 0.0/1.8 MB ? eta -:--:--\n",
      "   ---------------------------------------- 0.0/1.8 MB ? eta -:--:--\n",
      "    --------------------------------------- 0.0/1.8 MB 393.8 kB/s eta 0:00:05\n",
      "   - -------------------------------------- 0.1/1.8 MB 491.5 kB/s eta 0:00:04\n",
      "   -- ------------------------------------- 0.1/1.8 MB 654.9 kB/s eta 0:00:03\n",
      "   --- ------------------------------------ 0.2/1.8 MB 706.2 kB/s eta 0:00:03\n",
      "   ---- ----------------------------------- 0.2/1.8 MB 808.4 kB/s eta 0:00:02\n",
      "   ----- ---------------------------------- 0.3/1.8 MB 874.6 kB/s eta 0:00:02\n",
      "   ------ --------------------------------- 0.3/1.8 MB 855.7 kB/s eta 0:00:02\n",
      "   ------- -------------------------------- 0.3/1.8 MB 864.2 kB/s eta 0:00:02\n",
      "   --------- ------------------------------ 0.4/1.8 MB 904.2 kB/s eta 0:00:02\n",
      "   ---------- ----------------------------- 0.5/1.8 MB 921.6 kB/s eta 0:00:02\n",
      "   ----------- ---------------------------- 0.5/1.8 MB 944.9 kB/s eta 0:00:02\n",
      "   ------------ --------------------------- 0.6/1.8 MB 956.7 kB/s eta 0:00:02\n",
      "   -------------- ------------------------- 0.6/1.8 MB 990.5 kB/s eta 0:00:02\n",
      "   -------------- ------------------------- 0.7/1.8 MB 1.0 MB/s eta 0:00:02\n",
      "   ---------------- ----------------------- 0.7/1.8 MB 976.6 kB/s eta 0:00:02\n",
      "   ----------------- ---------------------- 0.8/1.8 MB 1.0 MB/s eta 0:00:02\n",
      "   ------------------ --------------------- 0.9/1.8 MB 1.0 MB/s eta 0:00:01\n",
      "   -------------------- ------------------- 0.9/1.8 MB 1.1 MB/s eta 0:00:01\n",
      "   --------------------- ------------------ 1.0/1.8 MB 1.0 MB/s eta 0:00:01\n",
      "   ----------------------- ---------------- 1.1/1.8 MB 1.1 MB/s eta 0:00:01\n",
      "   ------------------------ --------------- 1.1/1.8 MB 1.1 MB/s eta 0:00:01\n",
      "   -------------------------- ------------- 1.2/1.8 MB 1.2 MB/s eta 0:00:01\n",
      "   ---------------------------- ----------- 1.3/1.8 MB 1.2 MB/s eta 0:00:01\n",
      "   ------------------------------ --------- 1.4/1.8 MB 1.2 MB/s eta 0:00:01\n",
      "   -------------------------------- ------- 1.5/1.8 MB 1.2 MB/s eta 0:00:01\n",
      "   ---------------------------------- ----- 1.6/1.8 MB 1.2 MB/s eta 0:00:01\n",
      "   ----------------------------------- ---- 1.6/1.8 MB 1.2 MB/s eta 0:00:01\n",
      "   -------------------------------------- - 1.7/1.8 MB 1.3 MB/s eta 0:00:01\n",
      "   ---------------------------------------  1.8/1.8 MB 1.3 MB/s eta 0:00:01\n",
      "   ---------------------------------------- 1.8/1.8 MB 1.3 MB/s eta 0:00:00\n",
      "Installing collected packages: pip\n",
      "  Attempting uninstall: pip\n",
      "    Found existing installation: pip 24.0\n",
      "    Uninstalling pip-24.0:\n",
      "      Successfully uninstalled pip-24.0\n",
      "Successfully installed pip-24.2\n",
      "Note: you may need to restart the kernel to use updated packages.\n"
     ]
    }
   ],
   "source": [
    "pip install --upgrade pip\n"
   ]
  },
  {
   "cell_type": "code",
   "execution_count": 2,
   "id": "d4d7e689-dcab-41e7-9f06-7a0e8bcbc6ba",
   "metadata": {},
   "outputs": [
    {
     "name": "stdout",
     "output_type": "stream",
     "text": [
      "Collecting langchain-community\n",
      "  Downloading langchain_community-0.3.2-py3-none-any.whl.metadata (2.8 kB)\n",
      "Requirement already satisfied: PyYAML>=5.3 in c:\\users\\sree ram\\appdata\\local\\programs\\python\\python312\\lib\\site-packages (from langchain-community) (6.0.1)\n",
      "Requirement already satisfied: SQLAlchemy<3,>=1.4 in c:\\users\\sree ram\\appdata\\local\\programs\\python\\python312\\lib\\site-packages (from langchain-community) (2.0.35)\n",
      "Requirement already satisfied: aiohttp<4.0.0,>=3.8.3 in c:\\users\\sree ram\\appdata\\local\\programs\\python\\python312\\lib\\site-packages (from langchain-community) (3.10.9)\n",
      "Collecting dataclasses-json<0.7,>=0.5.7 (from langchain-community)\n",
      "  Downloading dataclasses_json-0.6.7-py3-none-any.whl.metadata (25 kB)\n",
      "Requirement already satisfied: langchain<0.4.0,>=0.3.3 in c:\\users\\sree ram\\appdata\\local\\programs\\python\\python312\\lib\\site-packages (from langchain-community) (0.3.3)\n",
      "Requirement already satisfied: langchain-core<0.4.0,>=0.3.10 in c:\\users\\sree ram\\appdata\\local\\programs\\python\\python312\\lib\\site-packages (from langchain-community) (0.3.10)\n",
      "Requirement already satisfied: langsmith<0.2.0,>=0.1.125 in c:\\users\\sree ram\\appdata\\local\\programs\\python\\python312\\lib\\site-packages (from langchain-community) (0.1.133)\n",
      "Requirement already satisfied: numpy<2.0.0,>=1.26.0 in c:\\users\\sree ram\\appdata\\local\\programs\\python\\python312\\lib\\site-packages (from langchain-community) (1.26.4)\n",
      "Collecting pydantic-settings<3.0.0,>=2.4.0 (from langchain-community)\n",
      "  Downloading pydantic_settings-2.5.2-py3-none-any.whl.metadata (3.5 kB)\n",
      "Requirement already satisfied: requests<3,>=2 in c:\\users\\sree ram\\appdata\\local\\programs\\python\\python312\\lib\\site-packages (from langchain-community) (2.31.0)\n",
      "Requirement already satisfied: tenacity!=8.4.0,<9.0.0,>=8.1.0 in c:\\users\\sree ram\\appdata\\local\\programs\\python\\python312\\lib\\site-packages (from langchain-community) (8.5.0)\n",
      "Requirement already satisfied: aiohappyeyeballs>=2.3.0 in c:\\users\\sree ram\\appdata\\local\\programs\\python\\python312\\lib\\site-packages (from aiohttp<4.0.0,>=3.8.3->langchain-community) (2.4.3)\n",
      "Requirement already satisfied: aiosignal>=1.1.2 in c:\\users\\sree ram\\appdata\\local\\programs\\python\\python312\\lib\\site-packages (from aiohttp<4.0.0,>=3.8.3->langchain-community) (1.3.1)\n",
      "Requirement already satisfied: attrs>=17.3.0 in c:\\users\\sree ram\\appdata\\local\\programs\\python\\python312\\lib\\site-packages (from aiohttp<4.0.0,>=3.8.3->langchain-community) (23.2.0)\n",
      "Requirement already satisfied: frozenlist>=1.1.1 in c:\\users\\sree ram\\appdata\\local\\programs\\python\\python312\\lib\\site-packages (from aiohttp<4.0.0,>=3.8.3->langchain-community) (1.4.1)\n",
      "Requirement already satisfied: multidict<7.0,>=4.5 in c:\\users\\sree ram\\appdata\\local\\programs\\python\\python312\\lib\\site-packages (from aiohttp<4.0.0,>=3.8.3->langchain-community) (6.1.0)\n",
      "Requirement already satisfied: yarl<2.0,>=1.12.0 in c:\\users\\sree ram\\appdata\\local\\programs\\python\\python312\\lib\\site-packages (from aiohttp<4.0.0,>=3.8.3->langchain-community) (1.14.0)\n",
      "Collecting marshmallow<4.0.0,>=3.18.0 (from dataclasses-json<0.7,>=0.5.7->langchain-community)\n",
      "  Downloading marshmallow-3.22.0-py3-none-any.whl.metadata (7.2 kB)\n",
      "Collecting typing-inspect<1,>=0.4.0 (from dataclasses-json<0.7,>=0.5.7->langchain-community)\n",
      "  Downloading typing_inspect-0.9.0-py3-none-any.whl.metadata (1.5 kB)\n",
      "Requirement already satisfied: langchain-text-splitters<0.4.0,>=0.3.0 in c:\\users\\sree ram\\appdata\\local\\programs\\python\\python312\\lib\\site-packages (from langchain<0.4.0,>=0.3.3->langchain-community) (0.3.0)\n",
      "Requirement already satisfied: pydantic<3.0.0,>=2.7.4 in c:\\users\\sree ram\\appdata\\local\\programs\\python\\python312\\lib\\site-packages (from langchain<0.4.0,>=0.3.3->langchain-community) (2.9.2)\n",
      "Requirement already satisfied: jsonpatch<2.0,>=1.33 in c:\\users\\sree ram\\appdata\\local\\programs\\python\\python312\\lib\\site-packages (from langchain-core<0.4.0,>=0.3.10->langchain-community) (1.33)\n",
      "Requirement already satisfied: packaging<25,>=23.2 in c:\\users\\sree ram\\appdata\\local\\programs\\python\\python312\\lib\\site-packages (from langchain-core<0.4.0,>=0.3.10->langchain-community) (23.2)\n",
      "Requirement already satisfied: typing-extensions>=4.7 in c:\\users\\sree ram\\appdata\\local\\programs\\python\\python312\\lib\\site-packages (from langchain-core<0.4.0,>=0.3.10->langchain-community) (4.12.2)\n",
      "Requirement already satisfied: httpx<1,>=0.23.0 in c:\\users\\sree ram\\appdata\\local\\programs\\python\\python312\\lib\\site-packages (from langsmith<0.2.0,>=0.1.125->langchain-community) (0.26.0)\n",
      "Requirement already satisfied: orjson<4.0.0,>=3.9.14 in c:\\users\\sree ram\\appdata\\local\\programs\\python\\python312\\lib\\site-packages (from langsmith<0.2.0,>=0.1.125->langchain-community) (3.10.7)\n",
      "Requirement already satisfied: requests-toolbelt<2.0.0,>=1.0.0 in c:\\users\\sree ram\\appdata\\local\\programs\\python\\python312\\lib\\site-packages (from langsmith<0.2.0,>=0.1.125->langchain-community) (1.0.0)\n",
      "Collecting python-dotenv>=0.21.0 (from pydantic-settings<3.0.0,>=2.4.0->langchain-community)\n",
      "  Downloading python_dotenv-1.0.1-py3-none-any.whl.metadata (23 kB)\n",
      "Requirement already satisfied: charset-normalizer<4,>=2 in c:\\users\\sree ram\\appdata\\local\\programs\\python\\python312\\lib\\site-packages (from requests<3,>=2->langchain-community) (3.3.2)\n",
      "Requirement already satisfied: idna<4,>=2.5 in c:\\users\\sree ram\\appdata\\local\\programs\\python\\python312\\lib\\site-packages (from requests<3,>=2->langchain-community) (3.6)\n",
      "Requirement already satisfied: urllib3<3,>=1.21.1 in c:\\users\\sree ram\\appdata\\local\\programs\\python\\python312\\lib\\site-packages (from requests<3,>=2->langchain-community) (2.2.1)\n",
      "Requirement already satisfied: certifi>=2017.4.17 in c:\\users\\sree ram\\appdata\\local\\programs\\python\\python312\\lib\\site-packages (from requests<3,>=2->langchain-community) (2024.2.2)\n",
      "Requirement already satisfied: greenlet!=0.4.17 in c:\\users\\sree ram\\appdata\\local\\programs\\python\\python312\\lib\\site-packages (from SQLAlchemy<3,>=1.4->langchain-community) (3.1.1)\n",
      "Requirement already satisfied: anyio in c:\\users\\sree ram\\appdata\\local\\programs\\python\\python312\\lib\\site-packages (from httpx<1,>=0.23.0->langsmith<0.2.0,>=0.1.125->langchain-community) (4.3.0)\n",
      "Requirement already satisfied: httpcore==1.* in c:\\users\\sree ram\\appdata\\local\\programs\\python\\python312\\lib\\site-packages (from httpx<1,>=0.23.0->langsmith<0.2.0,>=0.1.125->langchain-community) (1.0.3)\n",
      "Requirement already satisfied: sniffio in c:\\users\\sree ram\\appdata\\local\\programs\\python\\python312\\lib\\site-packages (from httpx<1,>=0.23.0->langsmith<0.2.0,>=0.1.125->langchain-community) (1.3.0)\n",
      "Requirement already satisfied: h11<0.15,>=0.13 in c:\\users\\sree ram\\appdata\\local\\programs\\python\\python312\\lib\\site-packages (from httpcore==1.*->httpx<1,>=0.23.0->langsmith<0.2.0,>=0.1.125->langchain-community) (0.14.0)\n",
      "Requirement already satisfied: jsonpointer>=1.9 in c:\\users\\sree ram\\appdata\\local\\programs\\python\\python312\\lib\\site-packages (from jsonpatch<2.0,>=1.33->langchain-core<0.4.0,>=0.3.10->langchain-community) (2.4)\n",
      "Requirement already satisfied: annotated-types>=0.6.0 in c:\\users\\sree ram\\appdata\\local\\programs\\python\\python312\\lib\\site-packages (from pydantic<3.0.0,>=2.7.4->langchain<0.4.0,>=0.3.3->langchain-community) (0.7.0)\n",
      "Requirement already satisfied: pydantic-core==2.23.4 in c:\\users\\sree ram\\appdata\\local\\programs\\python\\python312\\lib\\site-packages (from pydantic<3.0.0,>=2.7.4->langchain<0.4.0,>=0.3.3->langchain-community) (2.23.4)\n",
      "Collecting mypy-extensions>=0.3.0 (from typing-inspect<1,>=0.4.0->dataclasses-json<0.7,>=0.5.7->langchain-community)\n",
      "  Downloading mypy_extensions-1.0.0-py3-none-any.whl.metadata (1.1 kB)\n",
      "Requirement already satisfied: propcache>=0.2.0 in c:\\users\\sree ram\\appdata\\local\\programs\\python\\python312\\lib\\site-packages (from yarl<2.0,>=1.12.0->aiohttp<4.0.0,>=3.8.3->langchain-community) (0.2.0)\n",
      "Downloading langchain_community-0.3.2-py3-none-any.whl (2.4 MB)\n",
      "   ---------------------------------------- 0.0/2.4 MB ? eta -:--:--\n",
      "   ---------------------------------------- 0.0/2.4 MB ? eta -:--:--\n",
      "   ---- ----------------------------------- 0.3/2.4 MB ? eta -:--:--\n",
      "   -------- ------------------------------- 0.5/2.4 MB 932.9 kB/s eta 0:00:02\n",
      "   -------- ------------------------------- 0.5/2.4 MB 932.9 kB/s eta 0:00:02\n",
      "   ------------- -------------------------- 0.8/2.4 MB 932.9 kB/s eta 0:00:02\n",
      "   ----------------- ---------------------- 1.0/2.4 MB 986.7 kB/s eta 0:00:02\n",
      "   -------------------------- ------------- 1.6/2.4 MB 1.1 MB/s eta 0:00:01\n",
      "   ------------------------------ --------- 1.8/2.4 MB 1.2 MB/s eta 0:00:01\n",
      "   ----------------------------------- ---- 2.1/2.4 MB 1.3 MB/s eta 0:00:01\n",
      "   ---------------------------------------- 2.4/2.4 MB 1.2 MB/s eta 0:00:00\n",
      "Downloading dataclasses_json-0.6.7-py3-none-any.whl (28 kB)\n",
      "Downloading pydantic_settings-2.5.2-py3-none-any.whl (26 kB)\n",
      "Downloading marshmallow-3.22.0-py3-none-any.whl (49 kB)\n",
      "Downloading python_dotenv-1.0.1-py3-none-any.whl (19 kB)\n",
      "Downloading typing_inspect-0.9.0-py3-none-any.whl (8.8 kB)\n",
      "Downloading mypy_extensions-1.0.0-py3-none-any.whl (4.7 kB)\n",
      "Installing collected packages: python-dotenv, mypy-extensions, marshmallow, typing-inspect, pydantic-settings, dataclasses-json, langchain-community\n",
      "Successfully installed dataclasses-json-0.6.7 langchain-community-0.3.2 marshmallow-3.22.0 mypy-extensions-1.0.0 pydantic-settings-2.5.2 python-dotenv-1.0.1 typing-inspect-0.9.0\n",
      "Note: you may need to restart the kernel to use updated packages.\n"
     ]
    }
   ],
   "source": [
    "pip install -U langchain-community\n"
   ]
  },
  {
   "cell_type": "code",
   "execution_count": 3,
   "id": "82b184a3-2697-4da7-b6bc-aad265abeca6",
   "metadata": {},
   "outputs": [],
   "source": [
    "from langchain.document_loaders import TextLoader\n"
   ]
  },
  {
   "cell_type": "code",
   "execution_count": 60,
   "id": "2f5fcd8e-d3bd-4bf8-8970-cccc05ee45f5",
   "metadata": {},
   "outputs": [],
   "source": [
    "loader1=TextLoader(\"tata_motors.txt\")"
   ]
  },
  {
   "cell_type": "code",
   "execution_count": 61,
   "id": "584a8611-b046-4746-93bf-b16c70890e56",
   "metadata": {},
   "outputs": [
    {
     "data": {
      "text/plain": [
       "[Document(metadata={'source': 'tata_motors.txt'}, page_content=\"Tata Motors is one of India's largest and most prominent automotive manufacturers, known for its diverse range of vehicles, innovation, and global presence. Hereâ€™s a detailed, 3000-word exploration of Tata Motors, covering its history, products, innovations, and impact.\\n\\nHistory of Tata Motors\\nTata Motors is a part of the Tata Group, one of India's oldest and most respected conglomerates. The company was founded in 1945 as Tata Engineering and Locomotive Co. Ltd. (TELCO) to produce locomotives and other engineering products. However, it ventured into automotive manufacturing in 1954 after forming a collaboration with Daimler-Benz to produce commercial vehicles. This was a significant milestone that laid the foundation for what would become a giant in the Indian automotive industry.\\n\\nTata Motors changed its name from TELCO to Tata Motors in 2003 to reflect its focus on the automotive business. Over the years, Tata Motors has expanded its reach and product lineup, moving from commercial vehicles to personal cars, buses, and more recently, electric vehicles. The company became a household name in India with vehicles that cater to different segments of the market, including affordable cars for the masses and premium cars for those who seek luxury.\\n\\nCommercial Vehicle Leadership\\nTata Motors began its journey in the automotive sector by focusing on commercial vehicles, which remains a core business to this day. The company has been the undisputed leader in the Indian commercial vehicle segment, and it also has a significant presence in markets abroad.\\n\\nThe company offers a range of trucks, buses, and defense vehicles that are designed for different purposes, from urban deliveries to long-haul freight transportation. In fact, Tata Motors was among the first Indian companies to produce fully indigenous commercial vehicles.\\n\\nTataâ€™s commercial vehicle lineup includes trucks and buses that serve different industries like logistics, construction, agriculture, and passenger transport. The Tata Prima range of trucks is especially popular in the global market, known for its robust build, fuel efficiency, and reliability.\\n\\nOne of Tata Motors' most remarkable achievements in this sector is the Tata Ace. Launched in 2005, the Ace is a mini truck that revolutionized the small cargo transport segment in India. It provided an affordable solution for small businesses, replacing hand-pulled carts and three-wheeled vehicles. The success of the Ace has been extraordinary, and it has even been exported to other developing markets.\\n\\nPassenger Vehicles: Revolutionizing Indian Mobility\\nTata Motors entered the passenger vehicle segment in 1991 with the launch of the Tata Sierra, an SUV designed for the Indian market. Over the years, Tata expanded its product range with sedans, hatchbacks, and utility vehicles to cater to various customer needs.\\n\\nOne of Tata Motors' biggest breakthroughs in the passenger vehicle segment came in 1998 with the launch of the Tata Indica, India's first indigenously developed car. The Indica was a compact hatchback designed for the Indian middle class and became an instant success due to its spacious interiors, fuel efficiency, and affordability. The car also helped Tata Motors gain a foothold in the competitive Indian car market, which was dominated by foreign players.\\n\\nTata Motors continued its momentum by introducing the Tata Safari, India's first fully indigenously designed SUV, which became an icon for adventurers and off-road enthusiasts.\\n\\nIn 2008, Tata Motors made global headlines by launching the Tata Nano, touted as the world's cheapest car. The Nano was designed to provide affordable mobility for India's lower-income segments. Although the car was highly anticipated and received significant media attention, its commercial success was limited due to various factors, including marketing challenges, safety perceptions, and changing consumer preferences. Nevertheless, the Nano remains a symbol of Tata Motors' innovation and commitment to making mobility accessible to everyone.\\n\\nAcquisitions and Global Expansion\\nA significant milestone in Tata Motors' journey came in 2008 when the company acquired the British luxury car brands Jaguar and Land Rover (JLR) from Ford. This acquisition was a bold move, as Tata Motors was primarily known for its mass-market vehicles in India, while JLR catered to the high-end luxury segment in global markets. The acquisition not only elevated Tata Motors' global standing but also provided access to cutting-edge technology and a prestigious brand portfolio.\\n\\nInitially, there were concerns about Tata Motorsâ€™ ability to manage JLR, especially during the global economic recession. However, Tata Motors turned the business around through strategic investments in new product development, electric vehicles, and expanding the global market reach. Today, Jaguar Land Rover contributes significantly to Tata Motors' overall revenue and profit.\\n\\nThe JLR acquisition also opened doors for Tata Motors in international markets, particularly in Europe, China, and North America. Through JLR, Tata Motors has strengthened its global R&D capabilities, producing vehicles that compete with the likes of BMW, Mercedes-Benz, and Audi.\\n\\nIn addition to JLR, Tata Motors also expanded its presence in other countries, including South Korea, South Africa, Thailand, and Indonesia, by forming joint ventures or acquiring local companies.\\n\\nElectric Vehicles and Sustainability\\nIn recent years, Tata Motors has taken significant strides in the electric vehicle (EV) space, aligning itself with the global shift towards sustainable and eco-friendly transportation. As climate change concerns grow and governments implement stricter emission norms, Tata Motors has made a strong commitment to green mobility.\\n\\nTata Motors is part of the Tata Group's larger strategy to promote sustainability, with its subsidiary, Tata Power, setting up electric vehicle charging infrastructure across India. This move complements Tata Motors' EV product lineup, making it easier for customers to charge their electric vehicles conveniently.\\n\\nThe Tata Nexon EV, launched in 2020, is one of Indiaâ€™s best-selling electric cars. It offers an impressive range, advanced features, and is affordably priced compared to other electric vehicles in the market. The Nexon EV has played a crucial role in driving EV adoption in India, where the electric vehicle market is still in its nascent stages.\\n\\nTata Motors' focus on EVs isn't limited to passenger vehicles. The company has also introduced electric buses and trucks, partnering with various state governments and organizations to promote public transport electrification. The Tata Ultra Electric Bus is an example of Tata Motorsâ€™ commitment to sustainable mobility in public transportation.\\n\\nThe companyâ€™s investments in EV technology also extend to developing more advanced batteries, efficient drivetrains, and other key components of electric vehicles. Tata Motors is actively working on localizing the production of these components to reduce costs and make EVs more accessible to the mass market.\\n\\nInnovation and Technology\\nInnovation has always been at the heart of Tata Motors' philosophy. The company has made considerable investments in research and development (R&D) to bring new technologies to market. From the early days of producing India's first indigenously designed cars to its recent foray into electric and autonomous vehicles, Tata Motors has remained at the forefront of automotive innovation.\\n\\nTata Motors has several R&D centers around the world, including in India, the UK, and South Korea. These centers work on a wide range of technologies, from electric vehicle powertrains to connected car technologies, lightweight materials, and advanced safety systems.\\n\\nThe companyâ€™s emphasis on technology is evident in its vehicles, which come equipped with features like advanced driver assistance systems (ADAS), connected car services, and over-the-air (OTA) software updates. Tata Motors' connected car platform, iRA (Intelligent Real-Time Assist), provides features like live vehicle tracking, remote commands, and geofencing, enhancing the driving experience.\\n\\nThe company's innovation extends beyond products to manufacturing processes as well. Tata Motors has adopted Industry 4.0 practices in its factories, including the use of automation, artificial intelligence, and robotics to improve productivity, quality, and safety. This has helped Tata Motors remain competitive in an increasingly globalized and technology-driven automotive industry.\\n\\nImpact on the Indian Economy\\nTata Motors plays a significant role in the Indian economy. As one of the largest automotive manufacturers in the country, the company directly and indirectly provides employment to hundreds of thousands of people. Tata Motors' extensive supply chain supports numerous industries, from steel production to electronics, contributing to the growth of India's manufacturing sector.\\n\\nMoreover, Tata Motors has been a major contributor to India's export earnings. The company exports its vehicles to several countries in Asia, Africa, the Middle East, and Latin America. Its commercial vehicles, in particular, are popular in developing markets due to their durability and affordability.\\n\\nTata Motors is also actively involved in various corporate social responsibility (CSR) initiatives. The company has undertaken numerous projects in the areas of education, healthcare, and rural development, improving the lives of millions of people across India.\\n\\nChallenges and Future Outlook\\nDespite its success, Tata Motors faces several challenges. The global automotive industry is undergoing a major transformation, with a shift towards electric and autonomous vehicles, stricter emission regulations, and changing consumer preferences. Tata Motors will need to continue investing in technology and innovation to stay competitive.\\n\\nThe company also faces competition from both domestic and international players in the Indian market. While Tata Motors has a strong presence in the commercial vehicle segment, its passenger vehicle market share has fluctuated over the years. However, recent launches like the Nexon EV and Altroz hatchback have shown promise, indicating that Tata Motors is on the right path.\\n\\nIn the global market, Tata Motors must navigate geopolitical uncertainties, fluctuating demand in different regions, and evolving trade policies. Additionally, managing the Jaguar Land Rover business in the face of changing luxury car market dynamics remains a key challenge.\\n\\nConclusion\\nTata Motors is not just an automotive company; it is a symbol of India's industrial prowess and entrepreneurial spirit. From its humble beginnings in the locomotive business to becoming a global automotive powerhouse, Tata Motors has made significant contributions to the automotive industry and beyond. Its innovations in commercial vehicles, passenger cars, and electric mobility have not only shaped the Indian market but also earned it a respected place on the global stage.\\n\\nAs the world moves towards more sustainable and connected forms of mobility, Tata Motors is well-positioned to lead the charge with its\")]"
      ]
     },
     "execution_count": 61,
     "metadata": {},
     "output_type": "execute_result"
    }
   ],
   "source": [
    "textdata=loader1.load()\n",
    "textdata"
   ]
  },
  {
   "cell_type": "code",
   "execution_count": 62,
   "id": "4eaee175-223e-4040-89f5-e5c208e815a2",
   "metadata": {},
   "outputs": [
    {
     "data": {
      "text/plain": [
       "list"
      ]
     },
     "execution_count": 62,
     "metadata": {},
     "output_type": "execute_result"
    }
   ],
   "source": [
    "type(textdata)"
   ]
  },
  {
   "cell_type": "code",
   "execution_count": 63,
   "id": "219f7818-5eb4-45ad-b476-73bfd7eeaac4",
   "metadata": {},
   "outputs": [
    {
     "data": {
      "text/plain": [
       "1"
      ]
     },
     "execution_count": 63,
     "metadata": {},
     "output_type": "execute_result"
    }
   ],
   "source": [
    "len(textdata)"
   ]
  },
  {
   "cell_type": "code",
   "execution_count": 8,
   "id": "3d6428bd-513d-4144-88cd-901efe612950",
   "metadata": {},
   "outputs": [
    {
     "data": {
      "text/plain": [
       "{'source': 'tata_motors.txt'}"
      ]
     },
     "execution_count": 8,
     "metadata": {},
     "output_type": "execute_result"
    }
   ],
   "source": [
    "data[0].metadata"
   ]
  },
  {
   "cell_type": "code",
   "execution_count": 9,
   "id": "652f2a47-f9ae-48f1-b586-7b9e06970226",
   "metadata": {},
   "outputs": [
    {
     "data": {
      "text/plain": [
       "\"Tata Motors is one of India's largest and most prominent automotive manufacturers, known for its diverse range of vehicles, innovation, and global presence. Hereâ€™s a detailed, 3000-word exploration of Tata Motors, covering its history, products, innovations, and impact.\\n\\nHistory of Tata Motors\\nTata Motors is a part of the Tata Group, one of India's oldest and most respected conglomerates. The company was founded in 1945 as Tata Engineering and Locomotive Co. Ltd. (TELCO) to produce locomotives and other engineering products. However, it ventured into automotive manufacturing in 1954 after forming a collaboration with Daimler-Benz to produce commercial vehicles. This was a significant milestone that laid the foundation for what would become a giant in the Indian automotive industry.\\n\\nTata Motors changed its name from TELCO to Tata Motors in 2003 to reflect its focus on the automotive business. Over the years, Tata Motors has expanded its reach and product lineup, moving from commercial vehicles to personal cars, buses, and more recently, electric vehicles. The company became a household name in India with vehicles that cater to different segments of the market, including affordable cars for the masses and premium cars for those who seek luxury.\\n\\nCommercial Vehicle Leadership\\nTata Motors began its journey in the automotive sector by focusing on commercial vehicles, which remains a core business to this day. The company has been the undisputed leader in the Indian commercial vehicle segment, and it also has a significant presence in markets abroad.\\n\\nThe company offers a range of trucks, buses, and defense vehicles that are designed for different purposes, from urban deliveries to long-haul freight transportation. In fact, Tata Motors was among the first Indian companies to produce fully indigenous commercial vehicles.\\n\\nTataâ€™s commercial vehicle lineup includes trucks and buses that serve different industries like logistics, construction, agriculture, and passenger transport. The Tata Prima range of trucks is especially popular in the global market, known for its robust build, fuel efficiency, and reliability.\\n\\nOne of Tata Motors' most remarkable achievements in this sector is the Tata Ace. Launched in 2005, the Ace is a mini truck that revolutionized the small cargo transport segment in India. It provided an affordable solution for small businesses, replacing hand-pulled carts and three-wheeled vehicles. The success of the Ace has been extraordinary, and it has even been exported to other developing markets.\\n\\nPassenger Vehicles: Revolutionizing Indian Mobility\\nTata Motors entered the passenger vehicle segment in 1991 with the launch of the Tata Sierra, an SUV designed for the Indian market. Over the years, Tata expanded its product range with sedans, hatchbacks, and utility vehicles to cater to various customer needs.\\n\\nOne of Tata Motors' biggest breakthroughs in the passenger vehicle segment came in 1998 with the launch of the Tata Indica, India's first indigenously developed car. The Indica was a compact hatchback designed for the Indian middle class and became an instant success due to its spacious interiors, fuel efficiency, and affordability. The car also helped Tata Motors gain a foothold in the competitive Indian car market, which was dominated by foreign players.\\n\\nTata Motors continued its momentum by introducing the Tata Safari, India's first fully indigenously designed SUV, which became an icon for adventurers and off-road enthusiasts.\\n\\nIn 2008, Tata Motors made global headlines by launching the Tata Nano, touted as the world's cheapest car. The Nano was designed to provide affordable mobility for India's lower-income segments. Although the car was highly anticipated and received significant media attention, its commercial success was limited due to various factors, including marketing challenges, safety perceptions, and changing consumer preferences. Nevertheless, the Nano remains a symbol of Tata Motors' innovation and commitment to making mobility accessible to everyone.\\n\\nAcquisitions and Global Expansion\\nA significant milestone in Tata Motors' journey came in 2008 when the company acquired the British luxury car brands Jaguar and Land Rover (JLR) from Ford. This acquisition was a bold move, as Tata Motors was primarily known for its mass-market vehicles in India, while JLR catered to the high-end luxury segment in global markets. The acquisition not only elevated Tata Motors' global standing but also provided access to cutting-edge technology and a prestigious brand portfolio.\\n\\nInitially, there were concerns about Tata Motorsâ€™ ability to manage JLR, especially during the global economic recession. However, Tata Motors turned the business around through strategic investments in new product development, electric vehicles, and expanding the global market reach. Today, Jaguar Land Rover contributes significantly to Tata Motors' overall revenue and profit.\\n\\nThe JLR acquisition also opened doors for Tata Motors in international markets, particularly in Europe, China, and North America. Through JLR, Tata Motors has strengthened its global R&D capabilities, producing vehicles that compete with the likes of BMW, Mercedes-Benz, and Audi.\\n\\nIn addition to JLR, Tata Motors also expanded its presence in other countries, including South Korea, South Africa, Thailand, and Indonesia, by forming joint ventures or acquiring local companies.\\n\\nElectric Vehicles and Sustainability\\nIn recent years, Tata Motors has taken significant strides in the electric vehicle (EV) space, aligning itself with the global shift towards sustainable and eco-friendly transportation. As climate change concerns grow and governments implement stricter emission norms, Tata Motors has made a strong commitment to green mobility.\\n\\nTata Motors is part of the Tata Group's larger strategy to promote sustainability, with its subsidiary, Tata Power, setting up electric vehicle charging infrastructure across India. This move complements Tata Motors' EV product lineup, making it easier for customers to charge their electric vehicles conveniently.\\n\\nThe Tata Nexon EV, launched in 2020, is one of Indiaâ€™s best-selling electric cars. It offers an impressive range, advanced features, and is affordably priced compared to other electric vehicles in the market. The Nexon EV has played a crucial role in driving EV adoption in India, where the electric vehicle market is still in its nascent stages.\\n\\nTata Motors' focus on EVs isn't limited to passenger vehicles. The company has also introduced electric buses and trucks, partnering with various state governments and organizations to promote public transport electrification. The Tata Ultra Electric Bus is an example of Tata Motorsâ€™ commitment to sustainable mobility in public transportation.\\n\\nThe companyâ€™s investments in EV technology also extend to developing more advanced batteries, efficient drivetrains, and other key components of electric vehicles. Tata Motors is actively working on localizing the production of these components to reduce costs and make EVs more accessible to the mass market.\\n\\nInnovation and Technology\\nInnovation has always been at the heart of Tata Motors' philosophy. The company has made considerable investments in research and development (R&D) to bring new technologies to market. From the early days of producing India's first indigenously designed cars to its recent foray into electric and autonomous vehicles, Tata Motors has remained at the forefront of automotive innovation.\\n\\nTata Motors has several R&D centers around the world, including in India, the UK, and South Korea. These centers work on a wide range of technologies, from electric vehicle powertrains to connected car technologies, lightweight materials, and advanced safety systems.\\n\\nThe companyâ€™s emphasis on technology is evident in its vehicles, which come equipped with features like advanced driver assistance systems (ADAS), connected car services, and over-the-air (OTA) software updates. Tata Motors' connected car platform, iRA (Intelligent Real-Time Assist), provides features like live vehicle tracking, remote commands, and geofencing, enhancing the driving experience.\\n\\nThe company's innovation extends beyond products to manufacturing processes as well. Tata Motors has adopted Industry 4.0 practices in its factories, including the use of automation, artificial intelligence, and robotics to improve productivity, quality, and safety. This has helped Tata Motors remain competitive in an increasingly globalized and technology-driven automotive industry.\\n\\nImpact on the Indian Economy\\nTata Motors plays a significant role in the Indian economy. As one of the largest automotive manufacturers in the country, the company directly and indirectly provides employment to hundreds of thousands of people. Tata Motors' extensive supply chain supports numerous industries, from steel production to electronics, contributing to the growth of India's manufacturing sector.\\n\\nMoreover, Tata Motors has been a major contributor to India's export earnings. The company exports its vehicles to several countries in Asia, Africa, the Middle East, and Latin America. Its commercial vehicles, in particular, are popular in developing markets due to their durability and affordability.\\n\\nTata Motors is also actively involved in various corporate social responsibility (CSR) initiatives. The company has undertaken numerous projects in the areas of education, healthcare, and rural development, improving the lives of millions of people across India.\\n\\nChallenges and Future Outlook\\nDespite its success, Tata Motors faces several challenges. The global automotive industry is undergoing a major transformation, with a shift towards electric and autonomous vehicles, stricter emission regulations, and changing consumer preferences. Tata Motors will need to continue investing in technology and innovation to stay competitive.\\n\\nThe company also faces competition from both domestic and international players in the Indian market. While Tata Motors has a strong presence in the commercial vehicle segment, its passenger vehicle market share has fluctuated over the years. However, recent launches like the Nexon EV and Altroz hatchback have shown promise, indicating that Tata Motors is on the right path.\\n\\nIn the global market, Tata Motors must navigate geopolitical uncertainties, fluctuating demand in different regions, and evolving trade policies. Additionally, managing the Jaguar Land Rover business in the face of changing luxury car market dynamics remains a key challenge.\\n\\nConclusion\\nTata Motors is not just an automotive company; it is a symbol of India's industrial prowess and entrepreneurial spirit. From its humble beginnings in the locomotive business to becoming a global automotive powerhouse, Tata Motors has made significant contributions to the automotive industry and beyond. Its innovations in commercial vehicles, passenger cars, and electric mobility have not only shaped the Indian market but also earned it a respected place on the global stage.\\n\\nAs the world moves towards more sustainable and connected forms of mobility, Tata Motors is well-positioned to lead the charge with its\""
      ]
     },
     "execution_count": 9,
     "metadata": {},
     "output_type": "execute_result"
    }
   ],
   "source": [
    "data[0].page_content"
   ]
  },
  {
   "cell_type": "markdown",
   "id": "049f92ee-1950-4f62-a81f-661d2f1be76e",
   "metadata": {},
   "source": [
    "Loading CSV files"
   ]
  },
  {
   "cell_type": "code",
   "execution_count": 10,
   "id": "0365869a-1a7c-4559-a859-42a4983d3e34",
   "metadata": {},
   "outputs": [],
   "source": [
    "from langchain.document_loaders.csv_loader import CSVLoader"
   ]
  },
  {
   "cell_type": "code",
   "execution_count": 56,
   "id": "c790030c-e167-46ed-852c-733727d218c7",
   "metadata": {},
   "outputs": [],
   "source": [
    "loader=CSVLoader(\"cleaned_star_data.csv\")\n",
    "csv_data=loader.load()"
   ]
  },
  {
   "cell_type": "code",
   "execution_count": 17,
   "id": "5bb6939f-5051-41b8-8861-f30803961e7c",
   "metadata": {},
   "outputs": [
    {
     "data": {
      "text/plain": [
       "[Document(metadata={'source': 'cleaned_star_data.csv', 'row': 0}, page_content='Temperature (K): \\nLuminosity(L/Lo): \\nRadius(R/Ro): \\nAbsolute magnitude(Mv): \\nStar type: \\nStar color: \\nSpectral Class: '),\n",
       " Document(metadata={'source': 'cleaned_star_data.csv', 'row': 1}, page_content='Temperature (K): 3042\\nLuminosity(L/Lo): 0.0005\\nRadius(R/Ro): 0.1542\\nAbsolute magnitude(Mv): 16.6\\nStar type: 0\\nStar color: Red\\nSpectral Class: M'),\n",
       " Document(metadata={'source': 'cleaned_star_data.csv', 'row': 2}, page_content='Temperature (K): 2600\\nLuminosity(L/Lo): 0.0003\\nRadius(R/Ro): 0.102\\nAbsolute magnitude(Mv): 18.7\\nStar type: 0\\nStar color: Red\\nSpectral Class: M'),\n",
       " Document(metadata={'source': 'cleaned_star_data.csv', 'row': 3}, page_content='Temperature (K): 2800\\nLuminosity(L/Lo): 0.0002\\nRadius(R/Ro): \\nAbsolute magnitude(Mv): 16.65\\nStar type: 0\\nStar color: Red\\nSpectral Class: M'),\n",
       " Document(metadata={'source': 'cleaned_star_data.csv', 'row': 4}, page_content='Temperature (K): 1939\\nLuminosity(L/Lo): 0.000138\\nRadius(R/Ro): 0.103\\nAbsolute magnitude(Mv): 20.06\\nStar type: 0\\nStar color: Red\\nSpectral Class: M'),\n",
       " Document(metadata={'source': 'cleaned_star_data.csv', 'row': 5}, page_content='Temperature (K): 2840\\nLuminosity(L/Lo): \\nRadius(R/Ro): 0.11\\nAbsolute magnitude(Mv): 16.98\\nStar type: 0\\nStar color: Red\\nSpectral Class: M'),\n",
       " Document(metadata={'source': 'cleaned_star_data.csv', 'row': 6}, page_content='Temperature (K): 2637\\nLuminosity(L/Lo): 0.00073\\nRadius(R/Ro): 0.127\\nAbsolute magnitude(Mv): 17.22\\nStar type: 0\\nStar color: Red\\nSpectral Class: M'),\n",
       " Document(metadata={'source': 'cleaned_star_data.csv', 'row': 7}, page_content='Temperature (K): 2600\\nLuminosity(L/Lo): 0.0004\\nRadius(R/Ro): 0.096\\nAbsolute magnitude(Mv): 17.4\\nStar type: 0\\nStar color: Red\\nSpectral Class: M'),\n",
       " Document(metadata={'source': 'cleaned_star_data.csv', 'row': 8}, page_content='Temperature (K): 2650\\nLuminosity(L/Lo): 0.00069\\nRadius(R/Ro): 0.11\\nAbsolute magnitude(Mv): 17.45\\nStar type: 0\\nStar color: Red\\nSpectral Class: M'),\n",
       " Document(metadata={'source': 'cleaned_star_data.csv', 'row': 9}, page_content='Temperature (K): 2700\\nLuminosity(L/Lo): 0.00018\\nRadius(R/Ro): 0.13\\nAbsolute magnitude(Mv): 16.05\\nStar type: 0\\nStar color: Red\\nSpectral Class: M'),\n",
       " Document(metadata={'source': 'cleaned_star_data.csv', 'row': 10}, page_content='Temperature (K): 3600\\nLuminosity(L/Lo): \\nRadius(R/Ro): 0.51\\nAbsolute magnitude(Mv): 10.69\\nStar type: 1\\nStar color: Red\\nSpectral Class: M'),\n",
       " Document(metadata={'source': 'cleaned_star_data.csv', 'row': 11}, page_content='Temperature (K): 3129\\nLuminosity(L/Lo): 0.0122\\nRadius(R/Ro): 0.3761\\nAbsolute magnitude(Mv): 11.79\\nStar type: 1\\nStar color: Red\\nSpectral Class: M'),\n",
       " Document(metadata={'source': 'cleaned_star_data.csv', 'row': 12}, page_content='Temperature (K): 3134\\nLuminosity(L/Lo): 0.0004\\nRadius(R/Ro): 0.196\\nAbsolute magnitude(Mv): 13.21\\nStar type: 1\\nStar color: Red\\nSpectral Class: M'),\n",
       " Document(metadata={'source': 'cleaned_star_data.csv', 'row': 13}, page_content='Temperature (K): 3628\\nLuminosity(L/Lo): 0.0055\\nRadius(R/Ro): 0.393\\nAbsolute magnitude(Mv): 10.48\\nStar type: 1\\nStar color: Red\\nSpectral Class: M'),\n",
       " Document(metadata={'source': 'cleaned_star_data.csv', 'row': 14}, page_content='Temperature (K): 2650\\nLuminosity(L/Lo): 0.0006\\nRadius(R/Ro): 0.14\\nAbsolute magnitude(Mv): 11.782\\nStar type: 1\\nStar color: Red\\nSpectral Class: M'),\n",
       " Document(metadata={'source': 'cleaned_star_data.csv', 'row': 15}, page_content='Temperature (K): 3340\\nLuminosity(L/Lo): 0.0038\\nRadius(R/Ro): 0.24\\nAbsolute magnitude(Mv): 13.07\\nStar type: 1\\nStar color: Red\\nSpectral Class: M'),\n",
       " Document(metadata={'source': 'cleaned_star_data.csv', 'row': 16}, page_content='Temperature (K): 2799\\nLuminosity(L/Lo): 0.0018\\nRadius(R/Ro): 0.16\\nAbsolute magnitude(Mv): 14.79\\nStar type: 1\\nStar color: Red\\nSpectral Class: M'),\n",
       " Document(metadata={'source': 'cleaned_star_data.csv', 'row': 17}, page_content='Temperature (K): 3692\\nLuminosity(L/Lo): 0.00367\\nRadius(R/Ro): 0.47\\nAbsolute magnitude(Mv): 10.8\\nStar type: 1\\nStar color: Red\\nSpectral Class: M'),\n",
       " Document(metadata={'source': 'cleaned_star_data.csv', 'row': 18}, page_content='Temperature (K): 3192\\nLuminosity(L/Lo): \\nRadius(R/Ro): 0.1967\\nAbsolute magnitude(Mv): 13.53\\nStar type: 1\\nStar color: Red\\nSpectral Class: M'),\n",
       " Document(metadata={'source': 'cleaned_star_data.csv', 'row': 19}, page_content='Temperature (K): 3441\\nLuminosity(L/Lo): 0.039\\nRadius(R/Ro): 0.351\\nAbsolute magnitude(Mv): 11.18\\nStar type: 1\\nStar color: Red\\nSpectral Class: M'),\n",
       " Document(metadata={'source': 'cleaned_star_data.csv', 'row': 20}, page_content='Temperature (K): 25000\\nLuminosity(L/Lo): 0.056\\nRadius(R/Ro): 0.0084\\nAbsolute magnitude(Mv): 10.58\\nStar type: 2\\nStar color: Blue-White\\nSpectral Class: B'),\n",
       " Document(metadata={'source': 'cleaned_star_data.csv', 'row': 21}, page_content='Temperature (K): 7740\\nLuminosity(L/Lo): 0.00049\\nRadius(R/Ro): 0.01234\\nAbsolute magnitude(Mv): 14.02\\nStar type: 2\\nStar color: White\\nSpectral Class: A'),\n",
       " Document(metadata={'source': 'cleaned_star_data.csv', 'row': 22}, page_content='Temperature (K): 7220\\nLuminosity(L/Lo): 0.00017\\nRadius(R/Ro): 0.011\\nAbsolute magnitude(Mv): 14.23\\nStar type: 2\\nStar color: White\\nSpectral Class: F'),\n",
       " Document(metadata={'source': 'cleaned_star_data.csv', 'row': 23}, page_content='Temperature (K): 8500\\nLuminosity(L/Lo): 0.0005\\nRadius(R/Ro): 0.01\\nAbsolute magnitude(Mv): 14.5\\nStar type: 2\\nStar color: \\nSpectral Class: A'),\n",
       " Document(metadata={'source': 'cleaned_star_data.csv', 'row': 24}, page_content='Temperature (K): 16500\\nLuminosity(L/Lo): 0.013\\nRadius(R/Ro): 0.014\\nAbsolute magnitude(Mv): 11.89\\nStar type: 2\\nStar color: Blue-White\\nSpectral Class: B'),\n",
       " Document(metadata={'source': 'cleaned_star_data.csv', 'row': 25}, page_content='Temperature (K): 12990\\nLuminosity(L/Lo): 0.000085\\nRadius(R/Ro): 0.00984\\nAbsolute magnitude(Mv): 12.23\\nStar type: 2\\nStar color: Yellow-White\\nSpectral Class: F'),\n",
       " Document(metadata={'source': 'cleaned_star_data.csv', 'row': 26}, page_content='Temperature (K): 8570\\nLuminosity(L/Lo): 0.00081\\nRadius(R/Ro): 0.0097\\nAbsolute magnitude(Mv): 14.2\\nStar type: 2\\nStar color: Blue-White\\nSpectral Class: A'),\n",
       " Document(metadata={'source': 'cleaned_star_data.csv', 'row': 27}, page_content='Temperature (K): 7700\\nLuminosity(L/Lo): 0.00011\\nRadius(R/Ro): 0.0128\\nAbsolute magnitude(Mv): 14.47\\nStar type: 2\\nStar color: Yellow-White\\nSpectral Class: F'),\n",
       " Document(metadata={'source': 'cleaned_star_data.csv', 'row': 28}, page_content='Temperature (K): 11790\\nLuminosity(L/Lo): 0.00015\\nRadius(R/Ro): 0.011\\nAbsolute magnitude(Mv): 12.59\\nStar type: 2\\nStar color: Yellow-White\\nSpectral Class: F'),\n",
       " Document(metadata={'source': 'cleaned_star_data.csv', 'row': 29}, page_content='Temperature (K): 7230\\nLuminosity(L/Lo): 0.00008\\nRadius(R/Ro): 0.013\\nAbsolute magnitude(Mv): 14.08\\nStar type: 2\\nStar color: Red\\nSpectral Class: F'),\n",
       " Document(metadata={'source': 'cleaned_star_data.csv', 'row': 30}, page_content='Temperature (K): 39000\\nLuminosity(L/Lo): 204000\\nRadius(R/Ro): 10.6\\nAbsolute magnitude(Mv): -4.7\\nStar type: 3\\nStar color: Blue\\nSpectral Class: O'),\n",
       " Document(metadata={'source': 'cleaned_star_data.csv', 'row': 31}, page_content='Temperature (K): 30000\\nLuminosity(L/Lo): 28840\\nRadius(R/Ro): 6.3\\nAbsolute magnitude(Mv): -4.2\\nStar type: 3\\nStar color: \\nSpectral Class: B'),\n",
       " Document(metadata={'source': 'cleaned_star_data.csv', 'row': 32}, page_content='Temperature (K): 15276\\nLuminosity(L/Lo): 1136\\nRadius(R/Ro): 7.2\\nAbsolute magnitude(Mv): -1.97\\nStar type: 3\\nStar color: Blue-White\\nSpectral Class: B'),\n",
       " Document(metadata={'source': 'cleaned_star_data.csv', 'row': 33}, page_content='Temperature (K): 9700\\nLuminosity(L/Lo): 74\\nRadius(R/Ro): 2.89\\nAbsolute magnitude(Mv): 0.16\\nStar type: 3\\nStar color: White\\nSpectral Class: B'),\n",
       " Document(metadata={'source': 'cleaned_star_data.csv', 'row': 34}, page_content='Temperature (K): 5800\\nLuminosity(L/Lo): 0.81\\nRadius(R/Ro): 0.9\\nAbsolute magnitude(Mv): 5.05\\nStar type: 3\\nStar color: Yellow-White\\nSpectral Class: F'),\n",
       " Document(metadata={'source': 'cleaned_star_data.csv', 'row': 35}, page_content='Temperature (K): 8052\\nLuminosity(L/Lo): 8.7\\nRadius(R/Ro): 1.8\\nAbsolute magnitude(Mv): 2.42\\nStar type: 3\\nStar color: White\\nSpectral Class: A'),\n",
       " Document(metadata={'source': 'cleaned_star_data.csv', 'row': 36}, page_content='Temperature (K): 6757\\nLuminosity(L/Lo): 1.43\\nRadius(R/Ro): 1.12\\nAbsolute magnitude(Mv): 2.41\\nStar type: 3\\nStar color: Yellow-White\\nSpectral Class: F'),\n",
       " Document(metadata={'source': 'cleaned_star_data.csv', 'row': 37}, page_content='Temperature (K): 6380\\nLuminosity(L/Lo): 1.35\\nRadius(R/Ro): 0.98\\nAbsolute magnitude(Mv): \\nStar type: 3\\nStar color: \\nSpectral Class: F'),\n",
       " Document(metadata={'source': 'cleaned_star_data.csv', 'row': 38}, page_content='Temperature (K): 5936\\nLuminosity(L/Lo): 1.357\\nRadius(R/Ro): 1.106\\nAbsolute magnitude(Mv): 4.46\\nStar type: 3\\nStar color: Yellow-White\\nSpectral Class: F'),\n",
       " Document(metadata={'source': 'cleaned_star_data.csv', 'row': 39}, page_content='Temperature (K): 5587\\nLuminosity(L/Lo): 0.819\\nRadius(R/Ro): 0.99\\nAbsolute magnitude(Mv): 5.03\\nStar type: 3\\nStar color: Yellow-White\\nSpectral Class: F'),\n",
       " Document(metadata={'source': 'cleaned_star_data.csv', 'row': 40}, page_content='Temperature (K): 3826\\nLuminosity(L/Lo): 200000\\nRadius(R/Ro): 19\\nAbsolute magnitude(Mv): -6.93\\nStar type: 4\\nStar color: Red\\nSpectral Class: M'),\n",
       " Document(metadata={'source': 'cleaned_star_data.csv', 'row': 41}, page_content='Temperature (K): 3365\\nLuminosity(L/Lo): 340000\\nRadius(R/Ro): 23\\nAbsolute magnitude(Mv): -6.2\\nStar type: 4\\nStar color: Red\\nSpectral Class: M'),\n",
       " Document(metadata={'source': 'cleaned_star_data.csv', 'row': 42}, page_content='Temperature (K): 3270\\nLuminosity(L/Lo): 150000\\nRadius(R/Ro): 88\\nAbsolute magnitude(Mv): -6.02\\nStar type: 4\\nStar color: Red\\nSpectral Class: M'),\n",
       " Document(metadata={'source': 'cleaned_star_data.csv', 'row': 43}, page_content='Temperature (K): 3200\\nLuminosity(L/Lo): 195000\\nRadius(R/Ro): 17\\nAbsolute magnitude(Mv): -7.22\\nStar type: 4\\nStar color: Red\\nSpectral Class: M'),\n",
       " Document(metadata={'source': 'cleaned_star_data.csv', 'row': 44}, page_content='Temperature (K): 3008\\nLuminosity(L/Lo): \\nRadius(R/Ro): 25\\nAbsolute magnitude(Mv): -6\\nStar type: 4\\nStar color: Red\\nSpectral Class: M'),\n",
       " Document(metadata={'source': 'cleaned_star_data.csv', 'row': 45}, page_content='Temperature (K): 3600\\nLuminosity(L/Lo): 320000\\nRadius(R/Ro): 29\\nAbsolute magnitude(Mv): -6.6\\nStar type: 4\\nStar color: Red\\nSpectral Class: M'),\n",
       " Document(metadata={'source': 'cleaned_star_data.csv', 'row': 46}, page_content='Temperature (K): 3575\\nLuminosity(L/Lo): 123000\\nRadius(R/Ro): 45\\nAbsolute magnitude(Mv): -6.78\\nStar type: 4\\nStar color: Red\\nSpectral Class: M'),\n",
       " Document(metadata={'source': 'cleaned_star_data.csv', 'row': 47}, page_content='Temperature (K): 3574\\nLuminosity(L/Lo): 200000\\nRadius(R/Ro): 89\\nAbsolute magnitude(Mv): -5.24\\nStar type: 4\\nStar color: Red\\nSpectral Class: M'),\n",
       " Document(metadata={'source': 'cleaned_star_data.csv', 'row': 48}, page_content='Temperature (K): 3625\\nLuminosity(L/Lo): 184000\\nRadius(R/Ro): 84\\nAbsolute magnitude(Mv): -6.74\\nStar type: 4\\nStar color: Red\\nSpectral Class: M'),\n",
       " Document(metadata={'source': 'cleaned_star_data.csv', 'row': 49}, page_content='Temperature (K): 33750\\nLuminosity(L/Lo): 220000\\nRadius(R/Ro): 26\\nAbsolute magnitude(Mv): -6.1\\nStar type: 4\\nStar color: Blue\\nSpectral Class: B'),\n",
       " Document(metadata={'source': 'cleaned_star_data.csv', 'row': 50}, page_content='Temperature (K): 3490\\nLuminosity(L/Lo): 270000\\nRadius(R/Ro): 1520\\nAbsolute magnitude(Mv): -9.4\\nStar type: 5\\nStar color: Red\\nSpectral Class: M'),\n",
       " Document(metadata={'source': 'cleaned_star_data.csv', 'row': 51}, page_content='Temperature (K): 3750\\nLuminosity(L/Lo): 283000\\nRadius(R/Ro): 1260\\nAbsolute magnitude(Mv): \\nStar type: 5\\nStar color: Red\\nSpectral Class: M'),\n",
       " Document(metadata={'source': 'cleaned_star_data.csv', 'row': 52}, page_content='Temperature (K): 3834\\nLuminosity(L/Lo): 272000\\nRadius(R/Ro): 1183\\nAbsolute magnitude(Mv): -9.2\\nStar type: 5\\nStar color: Red\\nSpectral Class: M'),\n",
       " Document(metadata={'source': 'cleaned_star_data.csv', 'row': 53}, page_content='Temperature (K): 3749\\nLuminosity(L/Lo): 550000\\nRadius(R/Ro): 1648\\nAbsolute magnitude(Mv): -8.05\\nStar type: 5\\nStar color: Red\\nSpectral Class: M'),\n",
       " Document(metadata={'source': 'cleaned_star_data.csv', 'row': 54}, page_content='Temperature (K): 3650\\nLuminosity(L/Lo): 310000\\nRadius(R/Ro): 1324\\nAbsolute magnitude(Mv): -7.79\\nStar type: 5\\nStar color: Red\\nSpectral Class: M'),\n",
       " Document(metadata={'source': 'cleaned_star_data.csv', 'row': 55}, page_content='Temperature (K): 3450\\nLuminosity(L/Lo): 263000\\nRadius(R/Ro): 1349\\nAbsolute magnitude(Mv): -11.75\\nStar type: 5\\nStar color: Red\\nSpectral Class: M'),\n",
       " Document(metadata={'source': 'cleaned_star_data.csv', 'row': 56}, page_content='Temperature (K): 3660\\nLuminosity(L/Lo): 363000\\nRadius(R/Ro): 1673\\nAbsolute magnitude(Mv): -11.92\\nStar type: 5\\nStar color: Red\\nSpectral Class: M'),\n",
       " Document(metadata={'source': 'cleaned_star_data.csv', 'row': 57}, page_content='Temperature (K): 3450\\nLuminosity(L/Lo): 174000\\nRadius(R/Ro): 1284\\nAbsolute magnitude(Mv): -11.28\\nStar type: 5\\nStar color: Red\\nSpectral Class: M'),\n",
       " Document(metadata={'source': 'cleaned_star_data.csv', 'row': 58}, page_content='Temperature (K): 3752\\nLuminosity(L/Lo): 209000\\nRadius(R/Ro): 955\\nAbsolute magnitude(Mv): \\nStar type: 5\\nStar color: Red\\nSpectral Class: '),\n",
       " Document(metadata={'source': 'cleaned_star_data.csv', 'row': 59}, page_content='Temperature (K): 3535\\nLuminosity(L/Lo): 195000\\nRadius(R/Ro): 1546\\nAbsolute magnitude(Mv): -11.36\\nStar type: 5\\nStar color: Red\\nSpectral Class: M'),\n",
       " Document(metadata={'source': 'cleaned_star_data.csv', 'row': 60}, page_content='Temperature (K): 3341\\nLuminosity(L/Lo): 0.0056\\nRadius(R/Ro): 0.057\\nAbsolute magnitude(Mv): 16.23\\nStar type: 0\\nStar color: Red\\nSpectral Class: M'),\n",
       " Document(metadata={'source': 'cleaned_star_data.csv', 'row': 61}, page_content='Temperature (K): 3432\\nLuminosity(L/Lo): 0.00067\\nRadius(R/Ro): 0.19\\nAbsolute magnitude(Mv): 16.94\\nStar type: 0\\nStar color: Red\\nSpectral Class: M'),\n",
       " Document(metadata={'source': 'cleaned_star_data.csv', 'row': 62}, page_content='Temperature (K): 2983\\nLuminosity(L/Lo): 0.00024\\nRadius(R/Ro): 0.094\\nAbsolute magnitude(Mv): 16.09\\nStar type: 0\\nStar color: Red\\nSpectral Class: M'),\n",
       " Document(metadata={'source': 'cleaned_star_data.csv', 'row': 63}, page_content='Temperature (K): 2835\\nLuminosity(L/Lo): 0.00034\\nRadius(R/Ro): 0.0918\\nAbsolute magnitude(Mv): 16.96\\nStar type: 0\\nStar color: Red\\nSpectral Class: M'),\n",
       " Document(metadata={'source': 'cleaned_star_data.csv', 'row': 64}, page_content='Temperature (K): 2935\\nLuminosity(L/Lo): 0.00014\\nRadius(R/Ro): 0.116\\nAbsolute magnitude(Mv): 18.89\\nStar type: 0\\nStar color: Red\\nSpectral Class: M'),\n",
       " Document(metadata={'source': 'cleaned_star_data.csv', 'row': 65}, page_content='Temperature (K): 3295\\nLuminosity(L/Lo): 0.00098\\nRadius(R/Ro): \\nAbsolute magnitude(Mv): 17.13\\nStar type: 0\\nStar color: Red\\nSpectral Class: M'),\n",
       " Document(metadata={'source': 'cleaned_star_data.csv', 'row': 66}, page_content='Temperature (K): 2945\\nLuminosity(L/Lo): 0.00032\\nRadius(R/Ro): 0.093\\nAbsolute magnitude(Mv): 18.34\\nStar type: 0\\nStar color: Red\\nSpectral Class: M'),\n",
       " Document(metadata={'source': 'cleaned_star_data.csv', 'row': 67}, page_content='Temperature (K): 2817\\nLuminosity(L/Lo): 0.00098\\nRadius(R/Ro): 0.0911\\nAbsolute magnitude(Mv): 16.45\\nStar type: 0\\nStar color: Red\\nSpectral Class: M'),\n",
       " Document(metadata={'source': 'cleaned_star_data.csv', 'row': 68}, page_content='Temperature (K): 2774\\nLuminosity(L/Lo): 0.00036\\nRadius(R/Ro): 0.118\\nAbsolute magnitude(Mv): 17.39\\nStar type: 0\\nStar color: Red\\nSpectral Class: M'),\n",
       " Document(metadata={'source': 'cleaned_star_data.csv', 'row': 69}, page_content='Temperature (K): 2871\\nLuminosity(L/Lo): 0.00072\\nRadius(R/Ro): 0.12\\nAbsolute magnitude(Mv): 19.43\\nStar type: 0\\nStar color: Red\\nSpectral Class: M'),\n",
       " Document(metadata={'source': 'cleaned_star_data.csv', 'row': 70}, page_content='Temperature (K): 3345\\nLuminosity(L/Lo): 0.021\\nRadius(R/Ro): 0.273\\nAbsolute magnitude(Mv): 12.3\\nStar type: 1\\nStar color: Red\\nSpectral Class: M'),\n",
       " Document(metadata={'source': 'cleaned_star_data.csv', 'row': 71}, page_content='Temperature (K): 3607\\nLuminosity(L/Lo): 0.022\\nRadius(R/Ro): 0.38\\nAbsolute magnitude(Mv): 10.12\\nStar type: 1\\nStar color: Red\\nSpectral Class: M'),\n",
       " Document(metadata={'source': 'cleaned_star_data.csv', 'row': 72}, page_content='Temperature (K): 3304\\nLuminosity(L/Lo): 0.0085\\nRadius(R/Ro): 0.18\\nAbsolute magnitude(Mv): \\nStar type: 1\\nStar color: Red\\nSpectral Class: M'),\n",
       " Document(metadata={'source': 'cleaned_star_data.csv', 'row': 73}, page_content='Temperature (K): 3150\\nLuminosity(L/Lo): 0.0088\\nRadius(R/Ro): 0.35\\nAbsolute magnitude(Mv): 11.94\\nStar type: 1\\nStar color: Red\\nSpectral Class: M'),\n",
       " Document(metadata={'source': 'cleaned_star_data.csv', 'row': 74}, page_content='Temperature (K): 3550\\nLuminosity(L/Lo): 0.004\\nRadius(R/Ro): 0.291\\nAbsolute magnitude(Mv): 10.89\\nStar type: 1\\nStar color: Red\\nSpectral Class: M'),\n",
       " Document(metadata={'source': 'cleaned_star_data.csv', 'row': 75}, page_content='Temperature (K): 3180\\nLuminosity(L/Lo): 0.001\\nRadius(R/Ro): 0.35\\nAbsolute magnitude(Mv): 11.76\\nStar type: 1\\nStar color: Red\\nSpectral Class: M'),\n",
       " Document(metadata={'source': 'cleaned_star_data.csv', 'row': 76}, page_content='Temperature (K): 2890\\nLuminosity(L/Lo): 0.0034\\nRadius(R/Ro): 0.24\\nAbsolute magnitude(Mv): 13.46\\nStar type: 1\\nStar color: Red\\nSpectral Class: M'),\n",
       " Document(metadata={'source': 'cleaned_star_data.csv', 'row': 77}, page_content='Temperature (K): 3342\\nLuminosity(L/Lo): 0.0015\\nRadius(R/Ro): 0.307\\nAbsolute magnitude(Mv): 11.87\\nStar type: 1\\nStar color: Red\\nSpectral Class: M'),\n",
       " Document(metadata={'source': 'cleaned_star_data.csv', 'row': 78}, page_content='Temperature (K): 2621\\nLuminosity(L/Lo): 0.0006\\nRadius(R/Ro): 0.098\\nAbsolute magnitude(Mv): 12.81\\nStar type: 1\\nStar color: Red\\nSpectral Class: M'),\n",
       " Document(metadata={'source': 'cleaned_star_data.csv', 'row': 79}, page_content='Temperature (K): 3158\\nLuminosity(L/Lo): 0.00135\\nRadius(R/Ro): 0.161\\nAbsolute magnitude(Mv): 13.98\\nStar type: 1\\nStar color: Red\\nSpectral Class: M'),\n",
       " Document(metadata={'source': 'cleaned_star_data.csv', 'row': 80}, page_content='Temperature (K): 7100\\nLuminosity(L/Lo): 0.00029\\nRadius(R/Ro): 0.012\\nAbsolute magnitude(Mv): 14.09\\nStar type: 2\\nStar color: Yellow-White\\nSpectral Class: F'),\n",
       " Document(metadata={'source': 'cleaned_star_data.csv', 'row': 81}, page_content='Temperature (K): 10574\\nLuminosity(L/Lo): 0.00014\\nRadius(R/Ro): \\nAbsolute magnitude(Mv): 12.02\\nStar type: 2\\nStar color: White\\nSpectral Class: F'),\n",
       " Document(metadata={'source': 'cleaned_star_data.csv', 'row': 82}, page_content='Temperature (K): 8930\\nLuminosity(L/Lo): 0.00056\\nRadius(R/Ro): 0.0095\\nAbsolute magnitude(Mv): 13.78\\nStar type: 2\\nStar color: White\\nSpectral Class: A'),\n",
       " Document(metadata={'source': 'cleaned_star_data.csv', 'row': 83}, page_content='Temperature (K): 17200\\nLuminosity(L/Lo): 0.00098\\nRadius(R/Ro): 0.015\\nAbsolute magnitude(Mv): 12.45\\nStar type: 2\\nStar color: Blue-White\\nSpectral Class: B'),\n",
       " Document(metadata={'source': 'cleaned_star_data.csv', 'row': 84}, page_content='Temperature (K): 14100\\nLuminosity(L/Lo): 0.00067\\nRadius(R/Ro): 0.0089\\nAbsolute magnitude(Mv): 12.17\\nStar type: 2\\nStar color: Blue-White\\nSpectral Class: B'),\n",
       " Document(metadata={'source': 'cleaned_star_data.csv', 'row': 85}, page_content='Temperature (K): 9675\\nLuminosity(L/Lo): 0.00045\\nRadius(R/Ro): 0.0109\\nAbsolute magnitude(Mv): 13.98\\nStar type: 2\\nStar color: Blue-White\\nSpectral Class: A'),\n",
       " Document(metadata={'source': 'cleaned_star_data.csv', 'row': 86}, page_content='Temperature (K): 12010\\nLuminosity(L/Lo): 0.00078\\nRadius(R/Ro): 0.0092\\nAbsolute magnitude(Mv): 12.13\\nStar type: 2\\nStar color: Blue-White\\nSpectral Class: B'),\n",
       " Document(metadata={'source': 'cleaned_star_data.csv', 'row': 87}, page_content='Temperature (K): 10980\\nLuminosity(L/Lo): 0.00074\\nRadius(R/Ro): 0.0087\\nAbsolute magnitude(Mv): 11.19\\nStar type: 2\\nStar color: Blue-White\\nSpectral Class: B'),\n",
       " Document(metadata={'source': 'cleaned_star_data.csv', 'row': 88}, page_content='Temperature (K): 13720\\nLuminosity(L/Lo): 0.00018\\nRadius(R/Ro): 0.00892\\nAbsolute magnitude(Mv): 12.97\\nStar type: 2\\nStar color: White\\nSpectral Class: F'),\n",
       " Document(metadata={'source': 'cleaned_star_data.csv', 'row': 89}, page_content='Temperature (K): 19860\\nLuminosity(L/Lo): \\nRadius(R/Ro): 0.0131\\nAbsolute magnitude(Mv): 11.34\\nStar type: 2\\nStar color: Blue\\nSpectral Class: B'),\n",
       " Document(metadata={'source': 'cleaned_star_data.csv', 'row': 90}, page_content='Temperature (K): 5300\\nLuminosity(L/Lo): 0.59\\nRadius(R/Ro): 0.91\\nAbsolute magnitude(Mv): 5.49\\nStar type: 3\\nStar color: Yellow-White\\nSpectral Class: F'),\n",
       " Document(metadata={'source': 'cleaned_star_data.csv', 'row': 91}, page_content='Temperature (K): 4526\\nLuminosity(L/Lo): 0.153\\nRadius(R/Ro): 0.865\\nAbsolute magnitude(Mv): 6.506\\nStar type: 3\\nStar color: \\nSpectral Class: K'),\n",
       " Document(metadata={'source': 'cleaned_star_data.csv', 'row': 92}, page_content='Temperature (K): 4077\\nLuminosity(L/Lo): 0.085\\nRadius(R/Ro): 0.795\\nAbsolute magnitude(Mv): 6.228\\nStar type: 3\\nStar color: Yellow-White\\nSpectral Class: K'),\n",
       " Document(metadata={'source': 'cleaned_star_data.csv', 'row': 93}, page_content='Temperature (K): 4980\\nLuminosity(L/Lo): 0.357\\nRadius(R/Ro): 1.13\\nAbsolute magnitude(Mv): 4.78\\nStar type: 3\\nStar color: Yellow-White\\nSpectral Class: K'),\n",
       " Document(metadata={'source': 'cleaned_star_data.csv', 'row': 94}, page_content='Temperature (K): 9030\\nLuminosity(L/Lo): 45\\nRadius(R/Ro): 2.63\\nAbsolute magnitude(Mv): 1.45\\nStar type: 3\\nStar color: Blue-White\\nSpectral Class: A'),\n",
       " Document(metadata={'source': 'cleaned_star_data.csv', 'row': 95}, page_content='Temperature (K): 11250\\nLuminosity(L/Lo): 672\\nRadius(R/Ro): 6.98\\nAbsolute magnitude(Mv): -2.3\\nStar type: 3\\nStar color: Blue-White\\nSpectral Class: A'),\n",
       " Document(metadata={'source': 'cleaned_star_data.csv', 'row': 96}, page_content='Temperature (K): 5112\\nLuminosity(L/Lo): 0.63\\nRadius(R/Ro): 0.876\\nAbsolute magnitude(Mv): 4.68\\nStar type: 3\\nStar color: Red\\nSpectral Class: K'),\n",
       " Document(metadata={'source': 'cleaned_star_data.csv', 'row': 97}, page_content='Temperature (K): 7720\\nLuminosity(L/Lo): 7.92\\nRadius(R/Ro): 1.34\\nAbsolute magnitude(Mv): 2.44\\nStar type: 3\\nStar color: Yellow-White\\nSpectral Class: F'),\n",
       " Document(metadata={'source': 'cleaned_star_data.csv', 'row': 98}, page_content='Temperature (K): 12098\\nLuminosity(L/Lo): 689\\nRadius(R/Ro): 7.01\\nAbsolute magnitude(Mv): 0.02\\nStar type: 3\\nStar color: Blue-White\\nSpectral Class: A'),\n",
       " Document(metadata={'source': 'cleaned_star_data.csv', 'row': 99}, page_content='Temperature (K): 36108\\nLuminosity(L/Lo): 198000\\nRadius(R/Ro): 10.2\\nAbsolute magnitude(Mv): -4.4\\nStar type: 3\\nStar color: Blue\\nSpectral Class: O'),\n",
       " Document(metadata={'source': 'cleaned_star_data.csv', 'row': 100}, page_content='Temperature (K): 33300\\nLuminosity(L/Lo): 240000\\nRadius(R/Ro): \\nAbsolute magnitude(Mv): -6.5\\nStar type: 4\\nStar color: \\nSpectral Class: B'),\n",
       " Document(metadata={'source': 'cleaned_star_data.csv', 'row': 101}, page_content='Temperature (K): 40000\\nLuminosity(L/Lo): 813000\\nRadius(R/Ro): 14\\nAbsolute magnitude(Mv): -6.23\\nStar type: 4\\nStar color: Blue\\nSpectral Class: O'),\n",
       " Document(metadata={'source': 'cleaned_star_data.csv', 'row': 102}, page_content='Temperature (K): 23000\\nLuminosity(L/Lo): 127000\\nRadius(R/Ro): 36\\nAbsolute magnitude(Mv): -5.76\\nStar type: 4\\nStar color: Blue\\nSpectral Class: O'),\n",
       " Document(metadata={'source': 'cleaned_star_data.csv', 'row': 103}, page_content='Temperature (K): 17120\\nLuminosity(L/Lo): 235000\\nRadius(R/Ro): 83\\nAbsolute magnitude(Mv): -6.89\\nStar type: 4\\nStar color: Blue\\nSpectral Class: O'),\n",
       " Document(metadata={'source': 'cleaned_star_data.csv', 'row': 104}, page_content='Temperature (K): 11096\\nLuminosity(L/Lo): 112000\\nRadius(R/Ro): 12\\nAbsolute magnitude(Mv): -5.91\\nStar type: 4\\nStar color: Blue\\nSpectral Class: O'),\n",
       " Document(metadata={'source': 'cleaned_star_data.csv', 'row': 105}, page_content='Temperature (K): 14245\\nLuminosity(L/Lo): 231000\\nRadius(R/Ro): 42\\nAbsolute magnitude(Mv): -6.12\\nStar type: 4\\nStar color: Blue\\nSpectral Class: O'),\n",
       " Document(metadata={'source': 'cleaned_star_data.csv', 'row': 106}, page_content='Temperature (K): 24630\\nLuminosity(L/Lo): 363000\\nRadius(R/Ro): 63\\nAbsolute magnitude(Mv): -5.83\\nStar type: 4\\nStar color: Blue\\nSpectral Class: O'),\n",
       " Document(metadata={'source': 'cleaned_star_data.csv', 'row': 107}, page_content='Temperature (K): 12893\\nLuminosity(L/Lo): 184000\\nRadius(R/Ro): 36\\nAbsolute magnitude(Mv): -6.34\\nStar type: 4\\nStar color: Blue\\nSpectral Class: O'),\n",
       " Document(metadata={'source': 'cleaned_star_data.csv', 'row': 108}, page_content='Temperature (K): 24345\\nLuminosity(L/Lo): 142000\\nRadius(R/Ro): 57\\nAbsolute magnitude(Mv): -6.24\\nStar type: 4\\nStar color: Blue\\nSpectral Class: O'),\n",
       " Document(metadata={'source': 'cleaned_star_data.csv', 'row': 109}, page_content='Temperature (K): 33421\\nLuminosity(L/Lo): 352000\\nRadius(R/Ro): 67\\nAbsolute magnitude(Mv): -5.79\\nStar type: 4\\nStar color: Blue\\nSpectral Class: O'),\n",
       " Document(metadata={'source': 'cleaned_star_data.csv', 'row': 110}, page_content='Temperature (K): 3459\\nLuminosity(L/Lo): 100000\\nRadius(R/Ro): 1289\\nAbsolute magnitude(Mv): -10.7\\nStar type: 5\\nStar color: Red\\nSpectral Class: M'),\n",
       " Document(metadata={'source': 'cleaned_star_data.csv', 'row': 111}, page_content='Temperature (K): 3605\\nLuminosity(L/Lo): 126000\\nRadius(R/Ro): 1124\\nAbsolute magnitude(Mv): -10.81\\nStar type: 5\\nStar color: Red\\nSpectral Class: M'),\n",
       " Document(metadata={'source': 'cleaned_star_data.csv', 'row': 112}, page_content='Temperature (K): 3615\\nLuminosity(L/Lo): 200000\\nRadius(R/Ro): 1635\\nAbsolute magnitude(Mv): -11.33\\nStar type: 5\\nStar color: Red\\nSpectral Class: M'),\n",
       " Document(metadata={'source': 'cleaned_star_data.csv', 'row': 113}, page_content='Temperature (K): 3399\\nLuminosity(L/Lo): 117000\\nRadius(R/Ro): 1486\\nAbsolute magnitude(Mv): -10.92\\nStar type: 5\\nStar color: Red\\nSpectral Class: M'),\n",
       " Document(metadata={'source': 'cleaned_star_data.csv', 'row': 114}, page_content='Temperature (K): \\nLuminosity(L/Lo): 132000\\nRadius(R/Ro): \\nAbsolute magnitude(Mv): -10.86\\nStar type: 5\\nStar color: Red\\nSpectral Class: M'),\n",
       " Document(metadata={'source': 'cleaned_star_data.csv', 'row': 115}, page_content='Temperature (K): 3553\\nLuminosity(L/Lo): 145000\\nRadius(R/Ro): 1324\\nAbsolute magnitude(Mv): -11.03\\nStar type: 5\\nStar color: Red\\nSpectral Class: M'),\n",
       " Document(metadata={'source': 'cleaned_star_data.csv', 'row': 116}, page_content='Temperature (K): 4015\\nLuminosity(L/Lo): 282000\\nRadius(R/Ro): 1534\\nAbsolute magnitude(Mv): -11.39\\nStar type: 5\\nStar color: Red\\nSpectral Class: K'),\n",
       " Document(metadata={'source': 'cleaned_star_data.csv', 'row': 117}, page_content='Temperature (K): 3625\\nLuminosity(L/Lo): 74000\\nRadius(R/Ro): 876\\nAbsolute magnitude(Mv): -10.25\\nStar type: 5\\nStar color: Red\\nSpectral Class: M'),\n",
       " Document(metadata={'source': 'cleaned_star_data.csv', 'row': 118}, page_content='Temperature (K): 6850\\nLuminosity(L/Lo): 229000\\nRadius(R/Ro): 1467\\nAbsolute magnitude(Mv): -10.07\\nStar type: 5\\nStar color: Red\\nSpectral Class: G'),\n",
       " Document(metadata={'source': 'cleaned_star_data.csv', 'row': 119}, page_content='Temperature (K): 3780\\nLuminosity(L/Lo): 200000\\nRadius(R/Ro): 1324\\nAbsolute magnitude(Mv): -10.7\\nStar type: 5\\nStar color: Red\\nSpectral Class: M'),\n",
       " Document(metadata={'source': 'cleaned_star_data.csv', 'row': 120}, page_content='Temperature (K): 3323\\nLuminosity(L/Lo): 0.00043\\nRadius(R/Ro): 0.0912\\nAbsolute magnitude(Mv): 17.16\\nStar type: 0\\nStar color: Red\\nSpectral Class: M'),\n",
       " Document(metadata={'source': 'cleaned_star_data.csv', 'row': 121}, page_content='Temperature (K): 3531\\nLuminosity(L/Lo): 0.00093\\nRadius(R/Ro): 0.0976\\nAbsolute magnitude(Mv): 19.94\\nStar type: 0\\nStar color: Red\\nSpectral Class: M'),\n",
       " Document(metadata={'source': 'cleaned_star_data.csv', 'row': 122}, page_content='Temperature (K): 3218\\nLuminosity(L/Lo): 0.00054\\nRadius(R/Ro): 0.11\\nAbsolute magnitude(Mv): 20.02\\nStar type: 0\\nStar color: Red\\nSpectral Class: M'),\n",
       " Document(metadata={'source': 'cleaned_star_data.csv', 'row': 123}, page_content='Temperature (K): 3146\\nLuminosity(L/Lo): 0.00015\\nRadius(R/Ro): 0.0932\\nAbsolute magnitude(Mv): 16.92\\nStar type: 0\\nStar color: Red\\nSpectral Class: M'),\n",
       " Document(metadata={'source': 'cleaned_star_data.csv', 'row': 124}, page_content='Temperature (K): 3511\\nLuminosity(L/Lo): 0.00064\\nRadius(R/Ro): 0.109\\nAbsolute magnitude(Mv): 17.12\\nStar type: 0\\nStar color: Red\\nSpectral Class: M'),\n",
       " Document(metadata={'source': 'cleaned_star_data.csv', 'row': 125}, page_content='Temperature (K): 3225\\nLuminosity(L/Lo): 0.00076\\nRadius(R/Ro): 0.121\\nAbsolute magnitude(Mv): 19.63\\nStar type: 0\\nStar color: Red\\nSpectral Class: M'),\n",
       " Document(metadata={'source': 'cleaned_star_data.csv', 'row': 126}, page_content='Temperature (K): 2935\\nLuminosity(L/Lo): 0.00087\\nRadius(R/Ro): 0.0932\\nAbsolute magnitude(Mv): 16.88\\nStar type: 0\\nStar color: Red\\nSpectral Class: M'),\n",
       " Document(metadata={'source': 'cleaned_star_data.csv', 'row': 127}, page_content='Temperature (K): 2861\\nLuminosity(L/Lo): 0.00019\\nRadius(R/Ro): 0.0899\\nAbsolute magnitude(Mv): 16.71\\nStar type: 0\\nStar color: Red\\nSpectral Class: M'),\n",
       " Document(metadata={'source': 'cleaned_star_data.csv', 'row': 128}, page_content='Temperature (K): 2856\\nLuminosity(L/Lo): 0.000896\\nRadius(R/Ro): 0.0782\\nAbsolute magnitude(Mv): 19.56\\nStar type: 0\\nStar color: Red\\nSpectral Class: M'),\n",
       " Document(metadata={'source': 'cleaned_star_data.csv', 'row': 129}, page_content='Temperature (K): 2731\\nLuminosity(L/Lo): 0.000437\\nRadius(R/Ro): 0.0856\\nAbsolute magnitude(Mv): 18.09\\nStar type: 0\\nStar color: Red\\nSpectral Class: M'),\n",
       " Document(metadata={'source': 'cleaned_star_data.csv', 'row': 130}, page_content='Temperature (K): 3095\\nLuminosity(L/Lo): 0.00019\\nRadius(R/Ro): 0.492\\nAbsolute magnitude(Mv): 10.87\\nStar type: 1\\nStar color: Red\\nSpectral Class: M'),\n",
       " Document(metadata={'source': 'cleaned_star_data.csv', 'row': 131}, page_content='Temperature (K): 3607\\nLuminosity(L/Lo): 0.00023\\nRadius(R/Ro): 0.38\\nAbsolute magnitude(Mv): 10.34\\nStar type: 1\\nStar color: Red\\nSpectral Class: M'),\n",
       " Document(metadata={'source': 'cleaned_star_data.csv', 'row': 132}, page_content='Temperature (K): 3100\\nLuminosity(L/Lo): 0.008\\nRadius(R/Ro): 0.31\\nAbsolute magnitude(Mv): 11.17\\nStar type: 1\\nStar color: Red\\nSpectral Class: M'),\n",
       " Document(metadata={'source': 'cleaned_star_data.csv', 'row': 133}, page_content='Temperature (K): 2989\\nLuminosity(L/Lo): 0.0087\\nRadius(R/Ro): 0.34\\nAbsolute magnitude(Mv): 13.12\\nStar type: 1\\nStar color: Red\\nSpectral Class: M'),\n",
       " Document(metadata={'source': 'cleaned_star_data.csv', 'row': 134}, page_content='Temperature (K): 3542\\nLuminosity(L/Lo): 0.0009\\nRadius(R/Ro): 0.62\\nAbsolute magnitude(Mv): 14.23\\nStar type: 1\\nStar color: Red\\nSpectral Class: M'),\n",
       " Document(metadata={'source': 'cleaned_star_data.csv', 'row': 135}, page_content='Temperature (K): 3243\\nLuminosity(L/Lo): 0.0023\\nRadius(R/Ro): 0.73\\nAbsolute magnitude(Mv): 14.75\\nStar type: 1\\nStar color: Red\\nSpectral Class: M'),\n",
       " Document(metadata={'source': 'cleaned_star_data.csv', 'row': 136}, page_content='Temperature (K): 3091\\nLuminosity(L/Lo): 0.0081\\nRadius(R/Ro): 0.24\\nAbsolute magnitude(Mv): 11.43\\nStar type: 1\\nStar color: Red\\nSpectral Class: M'),\n",
       " Document(metadata={'source': 'cleaned_star_data.csv', 'row': 137}, page_content='Temperature (K): 3598\\nLuminosity(L/Lo): 0.0011\\nRadius(R/Ro): 0.56\\nAbsolute magnitude(Mv): 14.26\\nStar type: 1\\nStar color: Red\\nSpectral Class: M'),\n",
       " Document(metadata={'source': 'cleaned_star_data.csv', 'row': 138}, page_content='Temperature (K): 3324\\nLuminosity(L/Lo): 0.0034\\nRadius(R/Ro): 0.34\\nAbsolute magnitude(Mv): 12.23\\nStar type: 1\\nStar color: Red\\nSpectral Class: M'),\n",
       " Document(metadata={'source': 'cleaned_star_data.csv', 'row': 139}, page_content='Temperature (K): 3541\\nLuminosity(L/Lo): 0.0013\\nRadius(R/Ro): 0.256\\nAbsolute magnitude(Mv): 14.33\\nStar type: 1\\nStar color: Red\\nSpectral Class: M'),\n",
       " Document(metadata={'source': 'cleaned_star_data.csv', 'row': 140}, page_content='Temperature (K): 13420\\nLuminosity(L/Lo): 0.00059\\nRadius(R/Ro): 0.00981\\nAbsolute magnitude(Mv): 13.67\\nStar type: 2\\nStar color: Blue-White\\nSpectral Class: B'),\n",
       " Document(metadata={'source': 'cleaned_star_data.csv', 'row': 141}, page_content='Temperature (K): \\nLuminosity(L/Lo): 0.0015\\nRadius(R/Ro): 0.0112\\nAbsolute magnitude(Mv): 11.52\\nStar type: 2\\nStar color: Blue\\nSpectral Class: B'),\n",
       " Document(metadata={'source': 'cleaned_star_data.csv', 'row': 142}, page_content='Temperature (K): 18290\\nLuminosity(L/Lo): 0.0013\\nRadius(R/Ro): 0.00934\\nAbsolute magnitude(Mv): 12.78\\nStar type: 2\\nStar color: Blue\\nSpectral Class: B'),\n",
       " Document(metadata={'source': 'cleaned_star_data.csv', 'row': 143}, page_content='Temperature (K): 14520\\nLuminosity(L/Lo): 0.00082\\nRadius(R/Ro): 0.00972\\nAbsolute magnitude(Mv): 11.92\\nStar type: 2\\nStar color: Blue-White\\nSpectral Class: B'),\n",
       " Document(metadata={'source': 'cleaned_star_data.csv', 'row': 144}, page_content='Temperature (K): 11900\\nLuminosity(L/Lo): 0.00067\\nRadius(R/Ro): 0.00898\\nAbsolute magnitude(Mv): 11.38\\nStar type: 2\\nStar color: Blue-White\\nSpectral Class: B'),\n",
       " Document(metadata={'source': 'cleaned_star_data.csv', 'row': 145}, page_content='Temperature (K): 8924\\nLuminosity(L/Lo): 0.00028\\nRadius(R/Ro): 0.00879\\nAbsolute magnitude(Mv): 14.87\\nStar type: 2\\nStar color: Blue-White\\nSpectral Class: A'),\n",
       " Document(metadata={'source': 'cleaned_star_data.csv', 'row': 146}, page_content='Temperature (K): 12912\\nLuminosity(L/Lo): 0.00071\\nRadius(R/Ro): 0.00945\\nAbsolute magnitude(Mv): 12.83\\nStar type: 2\\nStar color: Blue-White\\nSpectral Class: B'),\n",
       " Document(metadata={'source': 'cleaned_star_data.csv', 'row': 147}, page_content='Temperature (K): 14732\\nLuminosity(L/Lo): 0.00011\\nRadius(R/Ro): 0.00892\\nAbsolute magnitude(Mv): 12.89\\nStar type: 2\\nStar color: White\\nSpectral Class: F'),\n",
       " Document(metadata={'source': 'cleaned_star_data.csv', 'row': 148}, page_content='Temperature (K): 7723\\nLuminosity(L/Lo): 0.00014\\nRadius(R/Ro): 0.00878\\nAbsolute magnitude(Mv): 14.81\\nStar type: 2\\nStar color: White\\nSpectral Class: A'),\n",
       " Document(metadata={'source': 'cleaned_star_data.csv', 'row': 149}, page_content='Temperature (K): 12984\\nLuminosity(L/Lo): 0.00088\\nRadius(R/Ro): 0.00996\\nAbsolute magnitude(Mv): 11.23\\nStar type: 2\\nStar color: Blue-White\\nSpectral Class: B'),\n",
       " Document(metadata={'source': 'cleaned_star_data.csv', 'row': 150}, page_content='Temperature (K): 29560\\nLuminosity(L/Lo): 188000\\nRadius(R/Ro): 6.02\\nAbsolute magnitude(Mv): -4.01\\nStar type: 3\\nStar color: Blue-White\\nSpectral Class: B'),\n",
       " Document(metadata={'source': 'cleaned_star_data.csv', 'row': 151}, page_content='Temperature (K): 8945\\nLuminosity(L/Lo): 38\\nRadius(R/Ro): 2.487\\nAbsolute magnitude(Mv): 0.12\\nStar type: 3\\nStar color: Blue-White\\nSpectral Class: A'),\n",
       " Document(metadata={'source': 'cleaned_star_data.csv', 'row': 152}, page_content='Temperature (K): 14060\\nLuminosity(L/Lo): 1092\\nRadius(R/Ro): 5.745\\nAbsolute magnitude(Mv): -2.04\\nStar type: 3\\nStar color: Blue-White\\nSpectral Class: A'),\n",
       " Document(metadata={'source': 'cleaned_star_data.csv', 'row': 153}, page_content='Temperature (K): 16390\\nLuminosity(L/Lo): 1278\\nRadius(R/Ro): 5.68\\nAbsolute magnitude(Mv): -3.32\\nStar type: 3\\nStar color: Blue-White\\nSpectral Class: B'),\n",
       " Document(metadata={'source': 'cleaned_star_data.csv', 'row': 154}, page_content='Temperature (K): 25070\\nLuminosity(L/Lo): 14500\\nRadius(R/Ro): 5.92\\nAbsolute magnitude(Mv): -3.98\\nStar type: 3\\nStar color: Blue-White\\nSpectral Class: B'),\n",
       " Document(metadata={'source': 'cleaned_star_data.csv', 'row': 155}, page_content='Temperature (K): 28700\\nLuminosity(L/Lo): 16790\\nRadius(R/Ro): 6.4\\nAbsolute magnitude(Mv): -4.09\\nStar type: 3\\nStar color: Blue-White\\nSpectral Class: B'),\n",
       " Document(metadata={'source': 'cleaned_star_data.csv', 'row': 156}, page_content='Temperature (K): 26140\\nLuminosity(L/Lo): 14520\\nRadius(R/Ro): 5.49\\nAbsolute magnitude(Mv): -3.8\\nStar type: 3\\nStar color: Blue-White\\nSpectral Class: B'),\n",
       " Document(metadata={'source': 'cleaned_star_data.csv', 'row': 157}, page_content='Temperature (K): 20120\\nLuminosity(L/Lo): 4720\\nRadius(R/Ro): 6.78\\nAbsolute magnitude(Mv): -3.4\\nStar type: 3\\nStar color: Blue-White\\nSpectral Class: B'),\n",
       " Document(metadata={'source': 'cleaned_star_data.csv', 'row': 158}, page_content='Temperature (K): 13023\\nLuminosity(L/Lo): 998\\nRadius(R/Ro): 6.21\\nAbsolute magnitude(Mv): -1.38\\nStar type: 3\\nStar color: Blue-White\\nSpectral Class: A'),\n",
       " Document(metadata={'source': 'cleaned_star_data.csv', 'row': 159}, page_content='Temperature (K): 37800\\nLuminosity(L/Lo): 202900\\nRadius(R/Ro): 6.86\\nAbsolute magnitude(Mv): -4.56\\nStar type: 3\\nStar color: Blue\\nSpectral Class: O'),\n",
       " Document(metadata={'source': 'cleaned_star_data.csv', 'row': 160}, page_content='Temperature (K): 25390\\nLuminosity(L/Lo): 223000\\nRadius(R/Ro): 57\\nAbsolute magnitude(Mv): -5.92\\nStar type: 4\\nStar color: Blue\\nSpectral Class: O'),\n",
       " Document(metadata={'source': 'cleaned_star_data.csv', 'row': 161}, page_content='Temperature (K): 11567\\nLuminosity(L/Lo): 251000\\nRadius(R/Ro): 36\\nAbsolute magnitude(Mv): -6.245\\nStar type: 4\\nStar color: Blue\\nSpectral Class: O'),\n",
       " Document(metadata={'source': 'cleaned_star_data.csv', 'row': 162}, page_content='Temperature (K): 12675\\nLuminosity(L/Lo): \\nRadius(R/Ro): 83\\nAbsolute magnitude(Mv): -5.62\\nStar type: 4\\nStar color: Blue\\nSpectral Class: O'),\n",
       " Document(metadata={'source': 'cleaned_star_data.csv', 'row': 163}, page_content='Temperature (K): 5752\\nLuminosity(L/Lo): 245000\\nRadius(R/Ro): 97\\nAbsolute magnitude(Mv): -6.63\\nStar type: 4\\nStar color: Blue\\nSpectral Class: O'),\n",
       " Document(metadata={'source': 'cleaned_star_data.csv', 'row': 164}, page_content='Temperature (K): 8927\\nLuminosity(L/Lo): 239000\\nRadius(R/Ro): 35\\nAbsolute magnitude(Mv): -7.34\\nStar type: 4\\nStar color: Blue\\nSpectral Class: O'),\n",
       " Document(metadata={'source': 'cleaned_star_data.csv', 'row': 165}, page_content='Temperature (K): 7282\\nLuminosity(L/Lo): 131000\\nRadius(R/Ro): 24\\nAbsolute magnitude(Mv): -7.22\\nStar type: 4\\nStar color: Blue\\nSpectral Class: O'),\n",
       " Document(metadata={'source': 'cleaned_star_data.csv', 'row': 166}, page_content='Temperature (K): 19923\\nLuminosity(L/Lo): 152000\\nRadius(R/Ro): 73\\nAbsolute magnitude(Mv): -5.69\\nStar type: 4\\nStar color: Blue\\nSpectral Class: O'),\n",
       " Document(metadata={'source': 'cleaned_star_data.csv', 'row': 167}, page_content='Temperature (K): 26373\\nLuminosity(L/Lo): 198000\\nRadius(R/Ro): 39\\nAbsolute magnitude(Mv): -5.83\\nStar type: 4\\nStar color: Blue\\nSpectral Class: O'),\n",
       " Document(metadata={'source': 'cleaned_star_data.csv', 'row': 168}, page_content='Temperature (K): 17383\\nLuminosity(L/Lo): 342900\\nRadius(R/Ro): 30\\nAbsolute magnitude(Mv): -6.09\\nStar type: 4\\nStar color: Blue\\nSpectral Class: O'),\n",
       " Document(metadata={'source': 'cleaned_star_data.csv', 'row': 169}, page_content='Temperature (K): 9373\\nLuminosity(L/Lo): 424520\\nRadius(R/Ro): 24\\nAbsolute magnitude(Mv): -5.99\\nStar type: 4\\nStar color: Blue\\nSpectral Class: O'),\n",
       " Document(metadata={'source': 'cleaned_star_data.csv', 'row': 170}, page_content='Temperature (K): 3570\\nLuminosity(L/Lo): 320000\\nRadius(R/Ro): 1480\\nAbsolute magnitude(Mv): -7.58\\nStar type: 5\\nStar color: Red\\nSpectral Class: M'),\n",
       " Document(metadata={'source': 'cleaned_star_data.csv', 'row': 171}, page_content='Temperature (K): 3500\\nLuminosity(L/Lo): 138000\\nRadius(R/Ro): 1420\\nAbsolute magnitude(Mv): -8.18\\nStar type: 5\\nStar color: Red\\nSpectral Class: M'),\n",
       " Document(metadata={'source': 'cleaned_star_data.csv', 'row': 172}, page_content='Temperature (K): 4287\\nLuminosity(L/Lo): 630000\\nRadius(R/Ro): 1315\\nAbsolute magnitude(Mv): -9.2\\nStar type: 5\\nStar color: Red\\nSpectral Class: K'),\n",
       " Document(metadata={'source': 'cleaned_star_data.csv', 'row': 173}, page_content='Temperature (K): 26000\\nLuminosity(L/Lo): 316000\\nRadius(R/Ro): 1679\\nAbsolute magnitude(Mv): -9.1\\nStar type: 5\\nStar color: Blue\\nSpectral Class: B'),\n",
       " Document(metadata={'source': 'cleaned_star_data.csv', 'row': 174}, page_content='Temperature (K): 3600\\nLuminosity(L/Lo): 240000\\nRadius(R/Ro): 1190\\nAbsolute magnitude(Mv): -7.89\\nStar type: 5\\nStar color: Red\\nSpectral Class: M'),\n",
       " Document(metadata={'source': 'cleaned_star_data.csv', 'row': 175}, page_content='Temperature (K): 3614\\nLuminosity(L/Lo): 145000\\nRadius(R/Ro): 1553\\nAbsolute magnitude(Mv): \\nStar type: 5\\nStar color: Red\\nSpectral Class: M'),\n",
       " Document(metadata={'source': 'cleaned_star_data.csv', 'row': 176}, page_content='Temperature (K): 18000\\nLuminosity(L/Lo): 200000\\nRadius(R/Ro): 1045\\nAbsolute magnitude(Mv): -8.3\\nStar type: 5\\nStar color: Blue\\nSpectral Class: O'),\n",
       " Document(metadata={'source': 'cleaned_star_data.csv', 'row': 177}, page_content='Temperature (K): 11000\\nLuminosity(L/Lo): 170000\\nRadius(R/Ro): 1779\\nAbsolute magnitude(Mv): -9.9\\nStar type: 5\\nStar color: Blue-White\\nSpectral Class: B'),\n",
       " Document(metadata={'source': 'cleaned_star_data.csv', 'row': 178}, page_content='Temperature (K): 12100\\nLuminosity(L/Lo): 120000\\nRadius(R/Ro): 708.9\\nAbsolute magnitude(Mv): -7.84\\nStar type: 5\\nStar color: Blue-White\\nSpectral Class: B'),\n",
       " Document(metadata={'source': 'cleaned_star_data.csv', 'row': 179}, page_content='Temperature (K): 24490\\nLuminosity(L/Lo): 248490\\nRadius(R/Ro): 1134.5\\nAbsolute magnitude(Mv): -8.24\\nStar type: 5\\nStar color: Blue-White\\nSpectral Class: B'),\n",
       " Document(metadata={'source': 'cleaned_star_data.csv', 'row': 180}, page_content='Temperature (K): 2831\\nLuminosity(L/Lo): 0.000231\\nRadius(R/Ro): 0.0915\\nAbsolute magnitude(Mv): 16.21\\nStar type: 0\\nStar color: Red\\nSpectral Class: M'),\n",
       " Document(metadata={'source': 'cleaned_star_data.csv', 'row': 181}, page_content='Temperature (K): 2914\\nLuminosity(L/Lo): 0.000631\\nRadius(R/Ro): 0.116\\nAbsolute magnitude(Mv): 18.39\\nStar type: 0\\nStar color: Red\\nSpectral Class: M'),\n",
       " Document(metadata={'source': 'cleaned_star_data.csv', 'row': 182}, page_content='Temperature (K): 3419\\nLuminosity(L/Lo): 0.000245\\nRadius(R/Ro): 0.126\\nAbsolute magnitude(Mv): 17.56\\nStar type: 0\\nStar color: Red\\nSpectral Class: M'),\n",
       " Document(metadata={'source': 'cleaned_star_data.csv', 'row': 183}, page_content='Temperature (K): 3218\\nLuminosity(L/Lo): 0.000452\\nRadius(R/Ro): 0.0987\\nAbsolute magnitude(Mv): 17.34\\nStar type: 0\\nStar color: Red\\nSpectral Class: M'),\n",
       " Document(metadata={'source': 'cleaned_star_data.csv', 'row': 184}, page_content='Temperature (K): 3453\\nLuminosity(L/Lo): 0.000621\\nRadius(R/Ro): 0.0773\\nAbsolute magnitude(Mv): 17.08\\nStar type: 0\\nStar color: Red\\nSpectral Class: M'),\n",
       " Document(metadata={'source': 'cleaned_star_data.csv', 'row': 185}, page_content='Temperature (K): 2889\\nLuminosity(L/Lo): 0.000352\\nRadius(R/Ro): 0.0973\\nAbsolute magnitude(Mv): 16.93\\nStar type: 0\\nStar color: Red\\nSpectral Class: M'),\n",
       " Document(metadata={'source': 'cleaned_star_data.csv', 'row': 186}, page_content='Temperature (K): 2968\\nLuminosity(L/Lo): 0.000461\\nRadius(R/Ro): 0.119\\nAbsolute magnitude(Mv): 17.45\\nStar type: 0\\nStar color: Red\\nSpectral Class: M'),\n",
       " Document(metadata={'source': 'cleaned_star_data.csv', 'row': 187}, page_content='Temperature (K): 3484\\nLuminosity(L/Lo): 0.000551\\nRadius(R/Ro): 0.0998\\nAbsolute magnitude(Mv): 16.67\\nStar type: 0\\nStar color: Red\\nSpectral Class: M'),\n",
       " Document(metadata={'source': 'cleaned_star_data.csv', 'row': 188}, page_content='Temperature (K): 2778\\nLuminosity(L/Lo): 0.000849\\nRadius(R/Ro): 0.112\\nAbsolute magnitude(Mv): 19.45\\nStar type: 0\\nStar color: Red\\nSpectral Class: M'),\n",
       " Document(metadata={'source': 'cleaned_star_data.csv', 'row': 189}, page_content='Temperature (K): 3523\\nLuminosity(L/Lo): 0.000957\\nRadius(R/Ro): 0.129\\nAbsolute magnitude(Mv): 16.35\\nStar type: 0\\nStar color: Red\\nSpectral Class: M'),\n",
       " Document(metadata={'source': 'cleaned_star_data.csv', 'row': 190}, page_content='Temperature (K): 3462\\nLuminosity(L/Lo): 0.0053\\nRadius(R/Ro): 0.148\\nAbsolute magnitude(Mv): 11.47\\nStar type: 1\\nStar color: \\nSpectral Class: M'),\n",
       " Document(metadata={'source': 'cleaned_star_data.csv', 'row': 191}, page_content='Temperature (K): 3257\\nLuminosity(L/Lo): 0.0024\\nRadius(R/Ro): 0.46\\nAbsolute magnitude(Mv): 10.73\\nStar type: 1\\nStar color: Red\\nSpectral Class: M'),\n",
       " Document(metadata={'source': 'cleaned_star_data.csv', 'row': 192}, page_content='Temperature (K): 2994\\nLuminosity(L/Lo): 0.0072\\nRadius(R/Ro): 0.28\\nAbsolute magnitude(Mv): 13.45\\nStar type: 1\\nStar color: Red\\nSpectral Class: M'),\n",
       " Document(metadata={'source': 'cleaned_star_data.csv', 'row': 193}, page_content='Temperature (K): 3212\\nLuminosity(L/Lo): 0.0016\\nRadius(R/Ro): 0.378\\nAbsolute magnitude(Mv): 12.854\\nStar type: 1\\nStar color: Red\\nSpectral Class: M'),\n",
       " Document(metadata={'source': 'cleaned_star_data.csv', 'row': 194}, page_content='Temperature (K): 3523\\nLuminosity(L/Lo): 0.0054\\nRadius(R/Ro): 0.319\\nAbsolute magnitude(Mv): 12.43\\nStar type: 1\\nStar color: Red\\nSpectral Class: M'),\n",
       " Document(metadata={'source': 'cleaned_star_data.csv', 'row': 195}, page_content='Temperature (K): 3598\\nLuminosity(L/Lo): 0.0027\\nRadius(R/Ro): 0.67\\nAbsolute magnitude(Mv): 13.667\\nStar type: 1\\nStar color: Red\\nSpectral Class: M'),\n",
       " Document(metadata={'source': 'cleaned_star_data.csv', 'row': 196}, page_content='Temperature (K): 3142\\nLuminosity(L/Lo): 0.00132\\nRadius(R/Ro): 0.258\\nAbsolute magnitude(Mv): 14.12\\nStar type: 1\\nStar color: Red\\nSpectral Class: M'),\n",
       " Document(metadata={'source': 'cleaned_star_data.csv', 'row': 197}, page_content='Temperature (K): 3496\\nLuminosity(L/Lo): 0.00125\\nRadius(R/Ro): 0.336\\nAbsolute magnitude(Mv): 14.94\\nStar type: 1\\nStar color: Red\\nSpectral Class: M'),\n",
       " Document(metadata={'source': 'cleaned_star_data.csv', 'row': 198}, page_content='Temperature (K): 3324\\nLuminosity(L/Lo): 0.0065\\nRadius(R/Ro): 0.471\\nAbsolute magnitude(Mv): 12.78\\nStar type: 1\\nStar color: Red\\nSpectral Class: M'),\n",
       " Document(metadata={'source': 'cleaned_star_data.csv', 'row': 199}, page_content='Temperature (K): 3463\\nLuminosity(L/Lo): 0.0027\\nRadius(R/Ro): 0.675\\nAbsolute magnitude(Mv): 14.776\\nStar type: 1\\nStar color: Red\\nSpectral Class: M'),\n",
       " Document(metadata={'source': 'cleaned_star_data.csv', 'row': 200}, page_content='Temperature (K): 16790\\nLuminosity(L/Lo): 0.0014\\nRadius(R/Ro): 0.0121\\nAbsolute magnitude(Mv): 12.87\\nStar type: 2\\nStar color: Blue\\nSpectral Class: B'),\n",
       " Document(metadata={'source': 'cleaned_star_data.csv', 'row': 201}, page_content='Temperature (K): 15680\\nLuminosity(L/Lo): 0.00122\\nRadius(R/Ro): 0.0114\\nAbsolute magnitude(Mv): 11.92\\nStar type: 2\\nStar color: Blue\\nSpectral Class: B'),\n",
       " Document(metadata={'source': 'cleaned_star_data.csv', 'row': 202}, page_content='Temperature (K): 14982\\nLuminosity(L/Lo): 0.00118\\nRadius(R/Ro): 0.0113\\nAbsolute magnitude(Mv): 12.23\\nStar type: 2\\nStar color: Blue\\nSpectral Class: B'),\n",
       " Document(metadata={'source': 'cleaned_star_data.csv', 'row': 203}, page_content='Temperature (K): 13340\\nLuminosity(L/Lo): 0.00109\\nRadius(R/Ro): 0.0116\\nAbsolute magnitude(Mv): 12.9\\nStar type: 2\\nStar color: Blue\\nSpectral Class: B'),\n",
       " Document(metadata={'source': 'cleaned_star_data.csv', 'row': 204}, page_content='Temperature (K): 18340\\nLuminosity(L/Lo): 0.00134\\nRadius(R/Ro): 0.0124\\nAbsolute magnitude(Mv): 11.22\\nStar type: 2\\nStar color: Blue\\nSpectral Class: B'),\n",
       " Document(metadata={'source': 'cleaned_star_data.csv', 'row': 205}, page_content='Temperature (K): 19920\\nLuminosity(L/Lo): 0.00156\\nRadius(R/Ro): 0.0142\\nAbsolute magnitude(Mv): 11.34\\nStar type: 2\\nStar color: Blue\\nSpectral Class: B'),\n",
       " Document(metadata={'source': 'cleaned_star_data.csv', 'row': 206}, page_content='Temperature (K): 24020\\nLuminosity(L/Lo): 0.00159\\nRadius(R/Ro): 0.0127\\nAbsolute magnitude(Mv): 10.55\\nStar type: 2\\nStar color: Blue\\nSpectral Class: B'),\n",
       " Document(metadata={'source': 'cleaned_star_data.csv', 'row': 207}, page_content='Temperature (K): 23092\\nLuminosity(L/Lo): 0.00132\\nRadius(R/Ro): 0.0104\\nAbsolute magnitude(Mv): 10.18\\nStar type: 2\\nStar color: Blue\\nSpectral Class: B'),\n",
       " Document(metadata={'source': 'cleaned_star_data.csv', 'row': 208}, page_content='Temperature (K): 17920\\nLuminosity(L/Lo): 0.00111\\nRadius(R/Ro): 0.0106\\nAbsolute magnitude(Mv): 11.66\\nStar type: 2\\nStar color: Blue\\nSpectral Class: B'),\n",
       " Document(metadata={'source': 'cleaned_star_data.csv', 'row': 209}, page_content='Temperature (K): 19360\\nLuminosity(L/Lo): 0.00125\\nRadius(R/Ro): \\nAbsolute magnitude(Mv): 11.62\\nStar type: 2\\nStar color: Blue\\nSpectral Class: B'),\n",
       " Document(metadata={'source': 'cleaned_star_data.csv', 'row': 210}, page_content='Temperature (K): 22350\\nLuminosity(L/Lo): 12450\\nRadius(R/Ro): 6.36\\nAbsolute magnitude(Mv): -3.67\\nStar type: 3\\nStar color: Blue-White\\nSpectral Class: B'),\n",
       " Document(metadata={'source': 'cleaned_star_data.csv', 'row': 211}, page_content='Temperature (K): 10012\\nLuminosity(L/Lo): 552\\nRadius(R/Ro): 5.856\\nAbsolute magnitude(Mv): 0.013\\nStar type: 3\\nStar color: Blue-White\\nSpectral Class: A'),\n",
       " Document(metadata={'source': 'cleaned_star_data.csv', 'row': 212}, page_content='Temperature (K): 13089\\nLuminosity(L/Lo): 788\\nRadius(R/Ro): 5.992\\nAbsolute magnitude(Mv): -0.12\\nStar type: 3\\nStar color: Blue-White\\nSpectral Class: A'),\n",
       " Document(metadata={'source': 'cleaned_star_data.csv', 'row': 213}, page_content='Temperature (K): 22012\\nLuminosity(L/Lo): 6748\\nRadius(R/Ro): 6.64\\nAbsolute magnitude(Mv): -2.55\\nStar type: 3\\nStar color: Blue-White\\nSpectral Class: B'),\n",
       " Document(metadata={'source': 'cleaned_star_data.csv', 'row': 214}, page_content='Temperature (K): 34190\\nLuminosity(L/Lo): 198200\\nRadius(R/Ro): 6.39\\nAbsolute magnitude(Mv): -4.57\\nStar type: 3\\nStar color: Blue\\nSpectral Class: O'),\n",
       " Document(metadata={'source': 'cleaned_star_data.csv', 'row': 215}, page_content='Temperature (K): 32460\\nLuminosity(L/Lo): 173800\\nRadius(R/Ro): 6.237\\nAbsolute magnitude(Mv): -4.36\\nStar type: 3\\nStar color: Blue\\nSpectral Class: O'),\n",
       " Document(metadata={'source': 'cleaned_star_data.csv', 'row': 216}, page_content='Temperature (K): 9320\\nLuminosity(L/Lo): 29\\nRadius(R/Ro): 1.91\\nAbsolute magnitude(Mv): 1.236\\nStar type: 3\\nStar color: Blue-White\\nSpectral Class: A'),\n",
       " Document(metadata={'source': 'cleaned_star_data.csv', 'row': 217}, page_content='Temperature (K): 19400\\nLuminosity(L/Lo): 10920\\nRadius(R/Ro): 6.03\\nAbsolute magnitude(Mv): -3.08\\nStar type: 3\\nStar color: Blue-White\\nSpectral Class: B'),\n",
       " Document(metadata={'source': 'cleaned_star_data.csv', 'row': 218}, page_content='Temperature (K): 17140\\nLuminosity(L/Lo): 883\\nRadius(R/Ro): 5.653\\nAbsolute magnitude(Mv): -2.64\\nStar type: 3\\nStar color: Blue-White\\nSpectral Class: B'),\n",
       " Document(metadata={'source': 'cleaned_star_data.csv', 'row': 219}, page_content='Temperature (K): 8250\\nLuminosity(L/Lo): 9.25\\nRadius(R/Ro): 1.93\\nAbsolute magnitude(Mv): -0.98\\nStar type: 3\\nStar color: Yellow-White\\nSpectral Class: F'),\n",
       " Document(metadata={'source': 'cleaned_star_data.csv', 'row': 220}, page_content='Temperature (K): 23678\\nLuminosity(L/Lo): 244290\\nRadius(R/Ro): 35\\nAbsolute magnitude(Mv): -6.27\\nStar type: 4\\nStar color: Blue\\nSpectral Class: O'),\n",
       " Document(metadata={'source': 'cleaned_star_data.csv', 'row': 221}, page_content='Temperature (K): 12749\\nLuminosity(L/Lo): 332520\\nRadius(R/Ro): \\nAbsolute magnitude(Mv): -7.02\\nStar type: 4\\nStar color: Blue\\nSpectral Class: O'),\n",
       " Document(metadata={'source': 'cleaned_star_data.csv', 'row': 222}, page_content='Temperature (K): 9383\\nLuminosity(L/Lo): 342940\\nRadius(R/Ro): 98\\nAbsolute magnitude(Mv): -6.98\\nStar type: 4\\nStar color: Blue\\nSpectral Class: O'),\n",
       " Document(metadata={'source': 'cleaned_star_data.csv', 'row': 223}, page_content='Temperature (K): 23440\\nLuminosity(L/Lo): 537430\\nRadius(R/Ro): 81\\nAbsolute magnitude(Mv): -5.975\\nStar type: 4\\nStar color: Blue\\nSpectral Class: O'),\n",
       " Document(metadata={'source': 'cleaned_star_data.csv', 'row': 224}, page_content='Temperature (K): 16787\\nLuminosity(L/Lo): 246730\\nRadius(R/Ro): 62\\nAbsolute magnitude(Mv): -6.35\\nStar type: 4\\nStar color: Blue\\nSpectral Class: O'),\n",
       " Document(metadata={'source': 'cleaned_star_data.csv', 'row': 225}, page_content='Temperature (K): 18734\\nLuminosity(L/Lo): 224780\\nRadius(R/Ro): 46\\nAbsolute magnitude(Mv): -7.45\\nStar type: 4\\nStar color: Blue\\nSpectral Class: O'),\n",
       " Document(metadata={'source': 'cleaned_star_data.csv', 'row': 226}, page_content='Temperature (K): 9892\\nLuminosity(L/Lo): 593900\\nRadius(R/Ro): 80\\nAbsolute magnitude(Mv): -7.262\\nStar type: 4\\nStar color: Blue\\nSpectral Class: O'),\n",
       " Document(metadata={'source': 'cleaned_star_data.csv', 'row': 227}, page_content='Temperature (K): 10930\\nLuminosity(L/Lo): 783930\\nRadius(R/Ro): 25\\nAbsolute magnitude(Mv): -6.224\\nStar type: 4\\nStar color: Blue\\nSpectral Class: O'),\n",
       " Document(metadata={'source': 'cleaned_star_data.csv', 'row': 228}, page_content='Temperature (K): 23095\\nLuminosity(L/Lo): 347820\\nRadius(R/Ro): 86\\nAbsolute magnitude(Mv): -5.905\\nStar type: 4\\nStar color: Blue\\nSpectral Class: O'),\n",
       " Document(metadata={'source': 'cleaned_star_data.csv', 'row': 229}, page_content='Temperature (K): 21738\\nLuminosity(L/Lo): 748890\\nRadius(R/Ro): 92\\nAbsolute magnitude(Mv): -7.346\\nStar type: 4\\nStar color: Blue\\nSpectral Class: O'),\n",
       " Document(metadata={'source': 'cleaned_star_data.csv', 'row': 230}, page_content='Temperature (K): 24145\\nLuminosity(L/Lo): 382993\\nRadius(R/Ro): 1494\\nAbsolute magnitude(Mv): -8.84\\nStar type: 5\\nStar color: Blue-White\\nSpectral Class: B'),\n",
       " Document(metadata={'source': 'cleaned_star_data.csv', 'row': 231}, page_content='Temperature (K): 38234\\nLuminosity(L/Lo): 272830\\nRadius(R/Ro): 1356\\nAbsolute magnitude(Mv): -9.29\\nStar type: 5\\nStar color: Blue\\nSpectral Class: '),\n",
       " Document(metadata={'source': 'cleaned_star_data.csv', 'row': 232}, page_content='Temperature (K): 32489\\nLuminosity(L/Lo): 648430\\nRadius(R/Ro): 1948.5\\nAbsolute magnitude(Mv): -10.84\\nStar type: 5\\nStar color: Blue\\nSpectral Class: O'),\n",
       " Document(metadata={'source': 'cleaned_star_data.csv', 'row': 233}, page_content='Temperature (K): 27739\\nLuminosity(L/Lo): 849420\\nRadius(R/Ro): 1252\\nAbsolute magnitude(Mv): -7.59\\nStar type: 5\\nStar color: Blue-White\\nSpectral Class: B'),\n",
       " Document(metadata={'source': 'cleaned_star_data.csv', 'row': 234}, page_content='Temperature (K): 21904\\nLuminosity(L/Lo): 748490\\nRadius(R/Ro): 1130\\nAbsolute magnitude(Mv): -7.67\\nStar type: 5\\nStar color: Blue-White\\nSpectral Class: B'),\n",
       " Document(metadata={'source': 'cleaned_star_data.csv', 'row': 235}, page_content='Temperature (K): 38940\\nLuminosity(L/Lo): 374830\\nRadius(R/Ro): 1356\\nAbsolute magnitude(Mv): -9.93\\nStar type: 5\\nStar color: Blue\\nSpectral Class: O'),\n",
       " Document(metadata={'source': 'cleaned_star_data.csv', 'row': 236}, page_content='Temperature (K): 30839\\nLuminosity(L/Lo): 834042\\nRadius(R/Ro): 1194\\nAbsolute magnitude(Mv): -10.63\\nStar type: 5\\nStar color: Blue\\nSpectral Class: O'),\n",
       " Document(metadata={'source': 'cleaned_star_data.csv', 'row': 237}, page_content='Temperature (K): 8829\\nLuminosity(L/Lo): 537493\\nRadius(R/Ro): 1423\\nAbsolute magnitude(Mv): -10.73\\nStar type: 5\\nStar color: White\\nSpectral Class: A'),\n",
       " Document(metadata={'source': 'cleaned_star_data.csv', 'row': 238}, page_content='Temperature (K): 9235\\nLuminosity(L/Lo): 404940\\nRadius(R/Ro): 1112\\nAbsolute magnitude(Mv): -11.23\\nStar type: 5\\nStar color: White\\nSpectral Class: A'),\n",
       " Document(metadata={'source': 'cleaned_star_data.csv', 'row': 239}, page_content='Temperature (K): 37882\\nLuminosity(L/Lo): 294903\\nRadius(R/Ro): 1783\\nAbsolute magnitude(Mv): -7.8\\nStar type: 5\\nStar color: Blue\\nSpectral Class: O')]"
      ]
     },
     "execution_count": 17,
     "metadata": {},
     "output_type": "execute_result"
    }
   ],
   "source": [
    "csv_data"
   ]
  },
  {
   "cell_type": "code",
   "execution_count": 18,
   "id": "6748197c-06e4-4c4a-9bcc-98d8b995c951",
   "metadata": {},
   "outputs": [
    {
     "data": {
      "text/plain": [
       "240"
      ]
     },
     "execution_count": 18,
     "metadata": {},
     "output_type": "execute_result"
    }
   ],
   "source": [
    "len(csv_data)"
   ]
  },
  {
   "cell_type": "code",
   "execution_count": 19,
   "id": "3d5a8432-a720-4da4-92f8-9a9ac2319dcb",
   "metadata": {},
   "outputs": [
    {
     "data": {
      "text/plain": [
       "list"
      ]
     },
     "execution_count": 19,
     "metadata": {},
     "output_type": "execute_result"
    }
   ],
   "source": [
    "type(csv_data)"
   ]
  },
  {
   "cell_type": "code",
   "execution_count": 20,
   "id": "c4ff5167-be78-4d8d-afdf-6e4adeb6ee8b",
   "metadata": {},
   "outputs": [
    {
     "data": {
      "text/plain": [
       "Document(metadata={'source': 'cleaned_star_data.csv', 'row': 0}, page_content='Temperature (K): \\nLuminosity(L/Lo): \\nRadius(R/Ro): \\nAbsolute magnitude(Mv): \\nStar type: \\nStar color: \\nSpectral Class: ')"
      ]
     },
     "execution_count": 20,
     "metadata": {},
     "output_type": "execute_result"
    }
   ],
   "source": [
    "csv_data[0]"
   ]
  },
  {
   "cell_type": "code",
   "execution_count": 21,
   "id": "6e5ec55d-de9d-4a30-944c-119ec4e63361",
   "metadata": {},
   "outputs": [
    {
     "data": {
      "text/plain": [
       "{'source': 'cleaned_star_data.csv', 'row': 0}"
      ]
     },
     "execution_count": 21,
     "metadata": {},
     "output_type": "execute_result"
    }
   ],
   "source": [
    "csv_data[0].metadata"
   ]
  },
  {
   "cell_type": "code",
   "execution_count": 22,
   "id": "42439b78-ad1f-4c6e-a159-d13846be698c",
   "metadata": {},
   "outputs": [
    {
     "data": {
      "text/plain": [
       "Document(metadata={'source': 'cleaned_star_data.csv', 'row': 1}, page_content='Temperature (K): 3042\\nLuminosity(L/Lo): 0.0005\\nRadius(R/Ro): 0.1542\\nAbsolute magnitude(Mv): 16.6\\nStar type: 0\\nStar color: Red\\nSpectral Class: M')"
      ]
     },
     "execution_count": 22,
     "metadata": {},
     "output_type": "execute_result"
    }
   ],
   "source": [
    "csv_data[1]"
   ]
  },
  {
   "cell_type": "code",
   "execution_count": 28,
   "id": "4a782c57-e2b2-40a5-98ac-3344441e4cb7",
   "metadata": {},
   "outputs": [],
   "source": [
    "loader=CSVLoader(\"cleaned_star_data.csv\",source_column='Temperature (K)')\n",
    "csv_data=loader.load()"
   ]
  },
  {
   "cell_type": "code",
   "execution_count": 29,
   "id": "a8881b1b-ab61-4349-bcca-a033a3fefc5d",
   "metadata": {},
   "outputs": [
    {
     "data": {
      "text/plain": [
       "[Document(metadata={'source': '', 'row': 0}, page_content='Temperature (K): \\nLuminosity(L/Lo): \\nRadius(R/Ro): \\nAbsolute magnitude(Mv): \\nStar type: \\nStar color: \\nSpectral Class: '),\n",
       " Document(metadata={'source': '3042', 'row': 1}, page_content='Temperature (K): 3042\\nLuminosity(L/Lo): 0.0005\\nRadius(R/Ro): 0.1542\\nAbsolute magnitude(Mv): 16.6\\nStar type: 0\\nStar color: Red\\nSpectral Class: M'),\n",
       " Document(metadata={'source': '2600', 'row': 2}, page_content='Temperature (K): 2600\\nLuminosity(L/Lo): 0.0003\\nRadius(R/Ro): 0.102\\nAbsolute magnitude(Mv): 18.7\\nStar type: 0\\nStar color: Red\\nSpectral Class: M'),\n",
       " Document(metadata={'source': '2800', 'row': 3}, page_content='Temperature (K): 2800\\nLuminosity(L/Lo): 0.0002\\nRadius(R/Ro): \\nAbsolute magnitude(Mv): 16.65\\nStar type: 0\\nStar color: Red\\nSpectral Class: M'),\n",
       " Document(metadata={'source': '1939', 'row': 4}, page_content='Temperature (K): 1939\\nLuminosity(L/Lo): 0.000138\\nRadius(R/Ro): 0.103\\nAbsolute magnitude(Mv): 20.06\\nStar type: 0\\nStar color: Red\\nSpectral Class: M'),\n",
       " Document(metadata={'source': '2840', 'row': 5}, page_content='Temperature (K): 2840\\nLuminosity(L/Lo): \\nRadius(R/Ro): 0.11\\nAbsolute magnitude(Mv): 16.98\\nStar type: 0\\nStar color: Red\\nSpectral Class: M'),\n",
       " Document(metadata={'source': '2637', 'row': 6}, page_content='Temperature (K): 2637\\nLuminosity(L/Lo): 0.00073\\nRadius(R/Ro): 0.127\\nAbsolute magnitude(Mv): 17.22\\nStar type: 0\\nStar color: Red\\nSpectral Class: M'),\n",
       " Document(metadata={'source': '2600', 'row': 7}, page_content='Temperature (K): 2600\\nLuminosity(L/Lo): 0.0004\\nRadius(R/Ro): 0.096\\nAbsolute magnitude(Mv): 17.4\\nStar type: 0\\nStar color: Red\\nSpectral Class: M'),\n",
       " Document(metadata={'source': '2650', 'row': 8}, page_content='Temperature (K): 2650\\nLuminosity(L/Lo): 0.00069\\nRadius(R/Ro): 0.11\\nAbsolute magnitude(Mv): 17.45\\nStar type: 0\\nStar color: Red\\nSpectral Class: M'),\n",
       " Document(metadata={'source': '2700', 'row': 9}, page_content='Temperature (K): 2700\\nLuminosity(L/Lo): 0.00018\\nRadius(R/Ro): 0.13\\nAbsolute magnitude(Mv): 16.05\\nStar type: 0\\nStar color: Red\\nSpectral Class: M'),\n",
       " Document(metadata={'source': '3600', 'row': 10}, page_content='Temperature (K): 3600\\nLuminosity(L/Lo): \\nRadius(R/Ro): 0.51\\nAbsolute magnitude(Mv): 10.69\\nStar type: 1\\nStar color: Red\\nSpectral Class: M'),\n",
       " Document(metadata={'source': '3129', 'row': 11}, page_content='Temperature (K): 3129\\nLuminosity(L/Lo): 0.0122\\nRadius(R/Ro): 0.3761\\nAbsolute magnitude(Mv): 11.79\\nStar type: 1\\nStar color: Red\\nSpectral Class: M'),\n",
       " Document(metadata={'source': '3134', 'row': 12}, page_content='Temperature (K): 3134\\nLuminosity(L/Lo): 0.0004\\nRadius(R/Ro): 0.196\\nAbsolute magnitude(Mv): 13.21\\nStar type: 1\\nStar color: Red\\nSpectral Class: M'),\n",
       " Document(metadata={'source': '3628', 'row': 13}, page_content='Temperature (K): 3628\\nLuminosity(L/Lo): 0.0055\\nRadius(R/Ro): 0.393\\nAbsolute magnitude(Mv): 10.48\\nStar type: 1\\nStar color: Red\\nSpectral Class: M'),\n",
       " Document(metadata={'source': '2650', 'row': 14}, page_content='Temperature (K): 2650\\nLuminosity(L/Lo): 0.0006\\nRadius(R/Ro): 0.14\\nAbsolute magnitude(Mv): 11.782\\nStar type: 1\\nStar color: Red\\nSpectral Class: M'),\n",
       " Document(metadata={'source': '3340', 'row': 15}, page_content='Temperature (K): 3340\\nLuminosity(L/Lo): 0.0038\\nRadius(R/Ro): 0.24\\nAbsolute magnitude(Mv): 13.07\\nStar type: 1\\nStar color: Red\\nSpectral Class: M'),\n",
       " Document(metadata={'source': '2799', 'row': 16}, page_content='Temperature (K): 2799\\nLuminosity(L/Lo): 0.0018\\nRadius(R/Ro): 0.16\\nAbsolute magnitude(Mv): 14.79\\nStar type: 1\\nStar color: Red\\nSpectral Class: M'),\n",
       " Document(metadata={'source': '3692', 'row': 17}, page_content='Temperature (K): 3692\\nLuminosity(L/Lo): 0.00367\\nRadius(R/Ro): 0.47\\nAbsolute magnitude(Mv): 10.8\\nStar type: 1\\nStar color: Red\\nSpectral Class: M'),\n",
       " Document(metadata={'source': '3192', 'row': 18}, page_content='Temperature (K): 3192\\nLuminosity(L/Lo): \\nRadius(R/Ro): 0.1967\\nAbsolute magnitude(Mv): 13.53\\nStar type: 1\\nStar color: Red\\nSpectral Class: M'),\n",
       " Document(metadata={'source': '3441', 'row': 19}, page_content='Temperature (K): 3441\\nLuminosity(L/Lo): 0.039\\nRadius(R/Ro): 0.351\\nAbsolute magnitude(Mv): 11.18\\nStar type: 1\\nStar color: Red\\nSpectral Class: M'),\n",
       " Document(metadata={'source': '25000', 'row': 20}, page_content='Temperature (K): 25000\\nLuminosity(L/Lo): 0.056\\nRadius(R/Ro): 0.0084\\nAbsolute magnitude(Mv): 10.58\\nStar type: 2\\nStar color: Blue-White\\nSpectral Class: B'),\n",
       " Document(metadata={'source': '7740', 'row': 21}, page_content='Temperature (K): 7740\\nLuminosity(L/Lo): 0.00049\\nRadius(R/Ro): 0.01234\\nAbsolute magnitude(Mv): 14.02\\nStar type: 2\\nStar color: White\\nSpectral Class: A'),\n",
       " Document(metadata={'source': '7220', 'row': 22}, page_content='Temperature (K): 7220\\nLuminosity(L/Lo): 0.00017\\nRadius(R/Ro): 0.011\\nAbsolute magnitude(Mv): 14.23\\nStar type: 2\\nStar color: White\\nSpectral Class: F'),\n",
       " Document(metadata={'source': '8500', 'row': 23}, page_content='Temperature (K): 8500\\nLuminosity(L/Lo): 0.0005\\nRadius(R/Ro): 0.01\\nAbsolute magnitude(Mv): 14.5\\nStar type: 2\\nStar color: \\nSpectral Class: A'),\n",
       " Document(metadata={'source': '16500', 'row': 24}, page_content='Temperature (K): 16500\\nLuminosity(L/Lo): 0.013\\nRadius(R/Ro): 0.014\\nAbsolute magnitude(Mv): 11.89\\nStar type: 2\\nStar color: Blue-White\\nSpectral Class: B'),\n",
       " Document(metadata={'source': '12990', 'row': 25}, page_content='Temperature (K): 12990\\nLuminosity(L/Lo): 0.000085\\nRadius(R/Ro): 0.00984\\nAbsolute magnitude(Mv): 12.23\\nStar type: 2\\nStar color: Yellow-White\\nSpectral Class: F'),\n",
       " Document(metadata={'source': '8570', 'row': 26}, page_content='Temperature (K): 8570\\nLuminosity(L/Lo): 0.00081\\nRadius(R/Ro): 0.0097\\nAbsolute magnitude(Mv): 14.2\\nStar type: 2\\nStar color: Blue-White\\nSpectral Class: A'),\n",
       " Document(metadata={'source': '7700', 'row': 27}, page_content='Temperature (K): 7700\\nLuminosity(L/Lo): 0.00011\\nRadius(R/Ro): 0.0128\\nAbsolute magnitude(Mv): 14.47\\nStar type: 2\\nStar color: Yellow-White\\nSpectral Class: F'),\n",
       " Document(metadata={'source': '11790', 'row': 28}, page_content='Temperature (K): 11790\\nLuminosity(L/Lo): 0.00015\\nRadius(R/Ro): 0.011\\nAbsolute magnitude(Mv): 12.59\\nStar type: 2\\nStar color: Yellow-White\\nSpectral Class: F'),\n",
       " Document(metadata={'source': '7230', 'row': 29}, page_content='Temperature (K): 7230\\nLuminosity(L/Lo): 0.00008\\nRadius(R/Ro): 0.013\\nAbsolute magnitude(Mv): 14.08\\nStar type: 2\\nStar color: Red\\nSpectral Class: F'),\n",
       " Document(metadata={'source': '39000', 'row': 30}, page_content='Temperature (K): 39000\\nLuminosity(L/Lo): 204000\\nRadius(R/Ro): 10.6\\nAbsolute magnitude(Mv): -4.7\\nStar type: 3\\nStar color: Blue\\nSpectral Class: O'),\n",
       " Document(metadata={'source': '30000', 'row': 31}, page_content='Temperature (K): 30000\\nLuminosity(L/Lo): 28840\\nRadius(R/Ro): 6.3\\nAbsolute magnitude(Mv): -4.2\\nStar type: 3\\nStar color: \\nSpectral Class: B'),\n",
       " Document(metadata={'source': '15276', 'row': 32}, page_content='Temperature (K): 15276\\nLuminosity(L/Lo): 1136\\nRadius(R/Ro): 7.2\\nAbsolute magnitude(Mv): -1.97\\nStar type: 3\\nStar color: Blue-White\\nSpectral Class: B'),\n",
       " Document(metadata={'source': '9700', 'row': 33}, page_content='Temperature (K): 9700\\nLuminosity(L/Lo): 74\\nRadius(R/Ro): 2.89\\nAbsolute magnitude(Mv): 0.16\\nStar type: 3\\nStar color: White\\nSpectral Class: B'),\n",
       " Document(metadata={'source': '5800', 'row': 34}, page_content='Temperature (K): 5800\\nLuminosity(L/Lo): 0.81\\nRadius(R/Ro): 0.9\\nAbsolute magnitude(Mv): 5.05\\nStar type: 3\\nStar color: Yellow-White\\nSpectral Class: F'),\n",
       " Document(metadata={'source': '8052', 'row': 35}, page_content='Temperature (K): 8052\\nLuminosity(L/Lo): 8.7\\nRadius(R/Ro): 1.8\\nAbsolute magnitude(Mv): 2.42\\nStar type: 3\\nStar color: White\\nSpectral Class: A'),\n",
       " Document(metadata={'source': '6757', 'row': 36}, page_content='Temperature (K): 6757\\nLuminosity(L/Lo): 1.43\\nRadius(R/Ro): 1.12\\nAbsolute magnitude(Mv): 2.41\\nStar type: 3\\nStar color: Yellow-White\\nSpectral Class: F'),\n",
       " Document(metadata={'source': '6380', 'row': 37}, page_content='Temperature (K): 6380\\nLuminosity(L/Lo): 1.35\\nRadius(R/Ro): 0.98\\nAbsolute magnitude(Mv): \\nStar type: 3\\nStar color: \\nSpectral Class: F'),\n",
       " Document(metadata={'source': '5936', 'row': 38}, page_content='Temperature (K): 5936\\nLuminosity(L/Lo): 1.357\\nRadius(R/Ro): 1.106\\nAbsolute magnitude(Mv): 4.46\\nStar type: 3\\nStar color: Yellow-White\\nSpectral Class: F'),\n",
       " Document(metadata={'source': '5587', 'row': 39}, page_content='Temperature (K): 5587\\nLuminosity(L/Lo): 0.819\\nRadius(R/Ro): 0.99\\nAbsolute magnitude(Mv): 5.03\\nStar type: 3\\nStar color: Yellow-White\\nSpectral Class: F'),\n",
       " Document(metadata={'source': '3826', 'row': 40}, page_content='Temperature (K): 3826\\nLuminosity(L/Lo): 200000\\nRadius(R/Ro): 19\\nAbsolute magnitude(Mv): -6.93\\nStar type: 4\\nStar color: Red\\nSpectral Class: M'),\n",
       " Document(metadata={'source': '3365', 'row': 41}, page_content='Temperature (K): 3365\\nLuminosity(L/Lo): 340000\\nRadius(R/Ro): 23\\nAbsolute magnitude(Mv): -6.2\\nStar type: 4\\nStar color: Red\\nSpectral Class: M'),\n",
       " Document(metadata={'source': '3270', 'row': 42}, page_content='Temperature (K): 3270\\nLuminosity(L/Lo): 150000\\nRadius(R/Ro): 88\\nAbsolute magnitude(Mv): -6.02\\nStar type: 4\\nStar color: Red\\nSpectral Class: M'),\n",
       " Document(metadata={'source': '3200', 'row': 43}, page_content='Temperature (K): 3200\\nLuminosity(L/Lo): 195000\\nRadius(R/Ro): 17\\nAbsolute magnitude(Mv): -7.22\\nStar type: 4\\nStar color: Red\\nSpectral Class: M'),\n",
       " Document(metadata={'source': '3008', 'row': 44}, page_content='Temperature (K): 3008\\nLuminosity(L/Lo): \\nRadius(R/Ro): 25\\nAbsolute magnitude(Mv): -6\\nStar type: 4\\nStar color: Red\\nSpectral Class: M'),\n",
       " Document(metadata={'source': '3600', 'row': 45}, page_content='Temperature (K): 3600\\nLuminosity(L/Lo): 320000\\nRadius(R/Ro): 29\\nAbsolute magnitude(Mv): -6.6\\nStar type: 4\\nStar color: Red\\nSpectral Class: M'),\n",
       " Document(metadata={'source': '3575', 'row': 46}, page_content='Temperature (K): 3575\\nLuminosity(L/Lo): 123000\\nRadius(R/Ro): 45\\nAbsolute magnitude(Mv): -6.78\\nStar type: 4\\nStar color: Red\\nSpectral Class: M'),\n",
       " Document(metadata={'source': '3574', 'row': 47}, page_content='Temperature (K): 3574\\nLuminosity(L/Lo): 200000\\nRadius(R/Ro): 89\\nAbsolute magnitude(Mv): -5.24\\nStar type: 4\\nStar color: Red\\nSpectral Class: M'),\n",
       " Document(metadata={'source': '3625', 'row': 48}, page_content='Temperature (K): 3625\\nLuminosity(L/Lo): 184000\\nRadius(R/Ro): 84\\nAbsolute magnitude(Mv): -6.74\\nStar type: 4\\nStar color: Red\\nSpectral Class: M'),\n",
       " Document(metadata={'source': '33750', 'row': 49}, page_content='Temperature (K): 33750\\nLuminosity(L/Lo): 220000\\nRadius(R/Ro): 26\\nAbsolute magnitude(Mv): -6.1\\nStar type: 4\\nStar color: Blue\\nSpectral Class: B'),\n",
       " Document(metadata={'source': '3490', 'row': 50}, page_content='Temperature (K): 3490\\nLuminosity(L/Lo): 270000\\nRadius(R/Ro): 1520\\nAbsolute magnitude(Mv): -9.4\\nStar type: 5\\nStar color: Red\\nSpectral Class: M'),\n",
       " Document(metadata={'source': '3750', 'row': 51}, page_content='Temperature (K): 3750\\nLuminosity(L/Lo): 283000\\nRadius(R/Ro): 1260\\nAbsolute magnitude(Mv): \\nStar type: 5\\nStar color: Red\\nSpectral Class: M'),\n",
       " Document(metadata={'source': '3834', 'row': 52}, page_content='Temperature (K): 3834\\nLuminosity(L/Lo): 272000\\nRadius(R/Ro): 1183\\nAbsolute magnitude(Mv): -9.2\\nStar type: 5\\nStar color: Red\\nSpectral Class: M'),\n",
       " Document(metadata={'source': '3749', 'row': 53}, page_content='Temperature (K): 3749\\nLuminosity(L/Lo): 550000\\nRadius(R/Ro): 1648\\nAbsolute magnitude(Mv): -8.05\\nStar type: 5\\nStar color: Red\\nSpectral Class: M'),\n",
       " Document(metadata={'source': '3650', 'row': 54}, page_content='Temperature (K): 3650\\nLuminosity(L/Lo): 310000\\nRadius(R/Ro): 1324\\nAbsolute magnitude(Mv): -7.79\\nStar type: 5\\nStar color: Red\\nSpectral Class: M'),\n",
       " Document(metadata={'source': '3450', 'row': 55}, page_content='Temperature (K): 3450\\nLuminosity(L/Lo): 263000\\nRadius(R/Ro): 1349\\nAbsolute magnitude(Mv): -11.75\\nStar type: 5\\nStar color: Red\\nSpectral Class: M'),\n",
       " Document(metadata={'source': '3660', 'row': 56}, page_content='Temperature (K): 3660\\nLuminosity(L/Lo): 363000\\nRadius(R/Ro): 1673\\nAbsolute magnitude(Mv): -11.92\\nStar type: 5\\nStar color: Red\\nSpectral Class: M'),\n",
       " Document(metadata={'source': '3450', 'row': 57}, page_content='Temperature (K): 3450\\nLuminosity(L/Lo): 174000\\nRadius(R/Ro): 1284\\nAbsolute magnitude(Mv): -11.28\\nStar type: 5\\nStar color: Red\\nSpectral Class: M'),\n",
       " Document(metadata={'source': '3752', 'row': 58}, page_content='Temperature (K): 3752\\nLuminosity(L/Lo): 209000\\nRadius(R/Ro): 955\\nAbsolute magnitude(Mv): \\nStar type: 5\\nStar color: Red\\nSpectral Class: '),\n",
       " Document(metadata={'source': '3535', 'row': 59}, page_content='Temperature (K): 3535\\nLuminosity(L/Lo): 195000\\nRadius(R/Ro): 1546\\nAbsolute magnitude(Mv): -11.36\\nStar type: 5\\nStar color: Red\\nSpectral Class: M'),\n",
       " Document(metadata={'source': '3341', 'row': 60}, page_content='Temperature (K): 3341\\nLuminosity(L/Lo): 0.0056\\nRadius(R/Ro): 0.057\\nAbsolute magnitude(Mv): 16.23\\nStar type: 0\\nStar color: Red\\nSpectral Class: M'),\n",
       " Document(metadata={'source': '3432', 'row': 61}, page_content='Temperature (K): 3432\\nLuminosity(L/Lo): 0.00067\\nRadius(R/Ro): 0.19\\nAbsolute magnitude(Mv): 16.94\\nStar type: 0\\nStar color: Red\\nSpectral Class: M'),\n",
       " Document(metadata={'source': '2983', 'row': 62}, page_content='Temperature (K): 2983\\nLuminosity(L/Lo): 0.00024\\nRadius(R/Ro): 0.094\\nAbsolute magnitude(Mv): 16.09\\nStar type: 0\\nStar color: Red\\nSpectral Class: M'),\n",
       " Document(metadata={'source': '2835', 'row': 63}, page_content='Temperature (K): 2835\\nLuminosity(L/Lo): 0.00034\\nRadius(R/Ro): 0.0918\\nAbsolute magnitude(Mv): 16.96\\nStar type: 0\\nStar color: Red\\nSpectral Class: M'),\n",
       " Document(metadata={'source': '2935', 'row': 64}, page_content='Temperature (K): 2935\\nLuminosity(L/Lo): 0.00014\\nRadius(R/Ro): 0.116\\nAbsolute magnitude(Mv): 18.89\\nStar type: 0\\nStar color: Red\\nSpectral Class: M'),\n",
       " Document(metadata={'source': '3295', 'row': 65}, page_content='Temperature (K): 3295\\nLuminosity(L/Lo): 0.00098\\nRadius(R/Ro): \\nAbsolute magnitude(Mv): 17.13\\nStar type: 0\\nStar color: Red\\nSpectral Class: M'),\n",
       " Document(metadata={'source': '2945', 'row': 66}, page_content='Temperature (K): 2945\\nLuminosity(L/Lo): 0.00032\\nRadius(R/Ro): 0.093\\nAbsolute magnitude(Mv): 18.34\\nStar type: 0\\nStar color: Red\\nSpectral Class: M'),\n",
       " Document(metadata={'source': '2817', 'row': 67}, page_content='Temperature (K): 2817\\nLuminosity(L/Lo): 0.00098\\nRadius(R/Ro): 0.0911\\nAbsolute magnitude(Mv): 16.45\\nStar type: 0\\nStar color: Red\\nSpectral Class: M'),\n",
       " Document(metadata={'source': '2774', 'row': 68}, page_content='Temperature (K): 2774\\nLuminosity(L/Lo): 0.00036\\nRadius(R/Ro): 0.118\\nAbsolute magnitude(Mv): 17.39\\nStar type: 0\\nStar color: Red\\nSpectral Class: M'),\n",
       " Document(metadata={'source': '2871', 'row': 69}, page_content='Temperature (K): 2871\\nLuminosity(L/Lo): 0.00072\\nRadius(R/Ro): 0.12\\nAbsolute magnitude(Mv): 19.43\\nStar type: 0\\nStar color: Red\\nSpectral Class: M'),\n",
       " Document(metadata={'source': '3345', 'row': 70}, page_content='Temperature (K): 3345\\nLuminosity(L/Lo): 0.021\\nRadius(R/Ro): 0.273\\nAbsolute magnitude(Mv): 12.3\\nStar type: 1\\nStar color: Red\\nSpectral Class: M'),\n",
       " Document(metadata={'source': '3607', 'row': 71}, page_content='Temperature (K): 3607\\nLuminosity(L/Lo): 0.022\\nRadius(R/Ro): 0.38\\nAbsolute magnitude(Mv): 10.12\\nStar type: 1\\nStar color: Red\\nSpectral Class: M'),\n",
       " Document(metadata={'source': '3304', 'row': 72}, page_content='Temperature (K): 3304\\nLuminosity(L/Lo): 0.0085\\nRadius(R/Ro): 0.18\\nAbsolute magnitude(Mv): \\nStar type: 1\\nStar color: Red\\nSpectral Class: M'),\n",
       " Document(metadata={'source': '3150', 'row': 73}, page_content='Temperature (K): 3150\\nLuminosity(L/Lo): 0.0088\\nRadius(R/Ro): 0.35\\nAbsolute magnitude(Mv): 11.94\\nStar type: 1\\nStar color: Red\\nSpectral Class: M'),\n",
       " Document(metadata={'source': '3550', 'row': 74}, page_content='Temperature (K): 3550\\nLuminosity(L/Lo): 0.004\\nRadius(R/Ro): 0.291\\nAbsolute magnitude(Mv): 10.89\\nStar type: 1\\nStar color: Red\\nSpectral Class: M'),\n",
       " Document(metadata={'source': '3180', 'row': 75}, page_content='Temperature (K): 3180\\nLuminosity(L/Lo): 0.001\\nRadius(R/Ro): 0.35\\nAbsolute magnitude(Mv): 11.76\\nStar type: 1\\nStar color: Red\\nSpectral Class: M'),\n",
       " Document(metadata={'source': '2890', 'row': 76}, page_content='Temperature (K): 2890\\nLuminosity(L/Lo): 0.0034\\nRadius(R/Ro): 0.24\\nAbsolute magnitude(Mv): 13.46\\nStar type: 1\\nStar color: Red\\nSpectral Class: M'),\n",
       " Document(metadata={'source': '3342', 'row': 77}, page_content='Temperature (K): 3342\\nLuminosity(L/Lo): 0.0015\\nRadius(R/Ro): 0.307\\nAbsolute magnitude(Mv): 11.87\\nStar type: 1\\nStar color: Red\\nSpectral Class: M'),\n",
       " Document(metadata={'source': '2621', 'row': 78}, page_content='Temperature (K): 2621\\nLuminosity(L/Lo): 0.0006\\nRadius(R/Ro): 0.098\\nAbsolute magnitude(Mv): 12.81\\nStar type: 1\\nStar color: Red\\nSpectral Class: M'),\n",
       " Document(metadata={'source': '3158', 'row': 79}, page_content='Temperature (K): 3158\\nLuminosity(L/Lo): 0.00135\\nRadius(R/Ro): 0.161\\nAbsolute magnitude(Mv): 13.98\\nStar type: 1\\nStar color: Red\\nSpectral Class: M'),\n",
       " Document(metadata={'source': '7100', 'row': 80}, page_content='Temperature (K): 7100\\nLuminosity(L/Lo): 0.00029\\nRadius(R/Ro): 0.012\\nAbsolute magnitude(Mv): 14.09\\nStar type: 2\\nStar color: Yellow-White\\nSpectral Class: F'),\n",
       " Document(metadata={'source': '10574', 'row': 81}, page_content='Temperature (K): 10574\\nLuminosity(L/Lo): 0.00014\\nRadius(R/Ro): \\nAbsolute magnitude(Mv): 12.02\\nStar type: 2\\nStar color: White\\nSpectral Class: F'),\n",
       " Document(metadata={'source': '8930', 'row': 82}, page_content='Temperature (K): 8930\\nLuminosity(L/Lo): 0.00056\\nRadius(R/Ro): 0.0095\\nAbsolute magnitude(Mv): 13.78\\nStar type: 2\\nStar color: White\\nSpectral Class: A'),\n",
       " Document(metadata={'source': '17200', 'row': 83}, page_content='Temperature (K): 17200\\nLuminosity(L/Lo): 0.00098\\nRadius(R/Ro): 0.015\\nAbsolute magnitude(Mv): 12.45\\nStar type: 2\\nStar color: Blue-White\\nSpectral Class: B'),\n",
       " Document(metadata={'source': '14100', 'row': 84}, page_content='Temperature (K): 14100\\nLuminosity(L/Lo): 0.00067\\nRadius(R/Ro): 0.0089\\nAbsolute magnitude(Mv): 12.17\\nStar type: 2\\nStar color: Blue-White\\nSpectral Class: B'),\n",
       " Document(metadata={'source': '9675', 'row': 85}, page_content='Temperature (K): 9675\\nLuminosity(L/Lo): 0.00045\\nRadius(R/Ro): 0.0109\\nAbsolute magnitude(Mv): 13.98\\nStar type: 2\\nStar color: Blue-White\\nSpectral Class: A'),\n",
       " Document(metadata={'source': '12010', 'row': 86}, page_content='Temperature (K): 12010\\nLuminosity(L/Lo): 0.00078\\nRadius(R/Ro): 0.0092\\nAbsolute magnitude(Mv): 12.13\\nStar type: 2\\nStar color: Blue-White\\nSpectral Class: B'),\n",
       " Document(metadata={'source': '10980', 'row': 87}, page_content='Temperature (K): 10980\\nLuminosity(L/Lo): 0.00074\\nRadius(R/Ro): 0.0087\\nAbsolute magnitude(Mv): 11.19\\nStar type: 2\\nStar color: Blue-White\\nSpectral Class: B'),\n",
       " Document(metadata={'source': '13720', 'row': 88}, page_content='Temperature (K): 13720\\nLuminosity(L/Lo): 0.00018\\nRadius(R/Ro): 0.00892\\nAbsolute magnitude(Mv): 12.97\\nStar type: 2\\nStar color: White\\nSpectral Class: F'),\n",
       " Document(metadata={'source': '19860', 'row': 89}, page_content='Temperature (K): 19860\\nLuminosity(L/Lo): \\nRadius(R/Ro): 0.0131\\nAbsolute magnitude(Mv): 11.34\\nStar type: 2\\nStar color: Blue\\nSpectral Class: B'),\n",
       " Document(metadata={'source': '5300', 'row': 90}, page_content='Temperature (K): 5300\\nLuminosity(L/Lo): 0.59\\nRadius(R/Ro): 0.91\\nAbsolute magnitude(Mv): 5.49\\nStar type: 3\\nStar color: Yellow-White\\nSpectral Class: F'),\n",
       " Document(metadata={'source': '4526', 'row': 91}, page_content='Temperature (K): 4526\\nLuminosity(L/Lo): 0.153\\nRadius(R/Ro): 0.865\\nAbsolute magnitude(Mv): 6.506\\nStar type: 3\\nStar color: \\nSpectral Class: K'),\n",
       " Document(metadata={'source': '4077', 'row': 92}, page_content='Temperature (K): 4077\\nLuminosity(L/Lo): 0.085\\nRadius(R/Ro): 0.795\\nAbsolute magnitude(Mv): 6.228\\nStar type: 3\\nStar color: Yellow-White\\nSpectral Class: K'),\n",
       " Document(metadata={'source': '4980', 'row': 93}, page_content='Temperature (K): 4980\\nLuminosity(L/Lo): 0.357\\nRadius(R/Ro): 1.13\\nAbsolute magnitude(Mv): 4.78\\nStar type: 3\\nStar color: Yellow-White\\nSpectral Class: K'),\n",
       " Document(metadata={'source': '9030', 'row': 94}, page_content='Temperature (K): 9030\\nLuminosity(L/Lo): 45\\nRadius(R/Ro): 2.63\\nAbsolute magnitude(Mv): 1.45\\nStar type: 3\\nStar color: Blue-White\\nSpectral Class: A'),\n",
       " Document(metadata={'source': '11250', 'row': 95}, page_content='Temperature (K): 11250\\nLuminosity(L/Lo): 672\\nRadius(R/Ro): 6.98\\nAbsolute magnitude(Mv): -2.3\\nStar type: 3\\nStar color: Blue-White\\nSpectral Class: A'),\n",
       " Document(metadata={'source': '5112', 'row': 96}, page_content='Temperature (K): 5112\\nLuminosity(L/Lo): 0.63\\nRadius(R/Ro): 0.876\\nAbsolute magnitude(Mv): 4.68\\nStar type: 3\\nStar color: Red\\nSpectral Class: K'),\n",
       " Document(metadata={'source': '7720', 'row': 97}, page_content='Temperature (K): 7720\\nLuminosity(L/Lo): 7.92\\nRadius(R/Ro): 1.34\\nAbsolute magnitude(Mv): 2.44\\nStar type: 3\\nStar color: Yellow-White\\nSpectral Class: F'),\n",
       " Document(metadata={'source': '12098', 'row': 98}, page_content='Temperature (K): 12098\\nLuminosity(L/Lo): 689\\nRadius(R/Ro): 7.01\\nAbsolute magnitude(Mv): 0.02\\nStar type: 3\\nStar color: Blue-White\\nSpectral Class: A'),\n",
       " Document(metadata={'source': '36108', 'row': 99}, page_content='Temperature (K): 36108\\nLuminosity(L/Lo): 198000\\nRadius(R/Ro): 10.2\\nAbsolute magnitude(Mv): -4.4\\nStar type: 3\\nStar color: Blue\\nSpectral Class: O'),\n",
       " Document(metadata={'source': '33300', 'row': 100}, page_content='Temperature (K): 33300\\nLuminosity(L/Lo): 240000\\nRadius(R/Ro): \\nAbsolute magnitude(Mv): -6.5\\nStar type: 4\\nStar color: \\nSpectral Class: B'),\n",
       " Document(metadata={'source': '40000', 'row': 101}, page_content='Temperature (K): 40000\\nLuminosity(L/Lo): 813000\\nRadius(R/Ro): 14\\nAbsolute magnitude(Mv): -6.23\\nStar type: 4\\nStar color: Blue\\nSpectral Class: O'),\n",
       " Document(metadata={'source': '23000', 'row': 102}, page_content='Temperature (K): 23000\\nLuminosity(L/Lo): 127000\\nRadius(R/Ro): 36\\nAbsolute magnitude(Mv): -5.76\\nStar type: 4\\nStar color: Blue\\nSpectral Class: O'),\n",
       " Document(metadata={'source': '17120', 'row': 103}, page_content='Temperature (K): 17120\\nLuminosity(L/Lo): 235000\\nRadius(R/Ro): 83\\nAbsolute magnitude(Mv): -6.89\\nStar type: 4\\nStar color: Blue\\nSpectral Class: O'),\n",
       " Document(metadata={'source': '11096', 'row': 104}, page_content='Temperature (K): 11096\\nLuminosity(L/Lo): 112000\\nRadius(R/Ro): 12\\nAbsolute magnitude(Mv): -5.91\\nStar type: 4\\nStar color: Blue\\nSpectral Class: O'),\n",
       " Document(metadata={'source': '14245', 'row': 105}, page_content='Temperature (K): 14245\\nLuminosity(L/Lo): 231000\\nRadius(R/Ro): 42\\nAbsolute magnitude(Mv): -6.12\\nStar type: 4\\nStar color: Blue\\nSpectral Class: O'),\n",
       " Document(metadata={'source': '24630', 'row': 106}, page_content='Temperature (K): 24630\\nLuminosity(L/Lo): 363000\\nRadius(R/Ro): 63\\nAbsolute magnitude(Mv): -5.83\\nStar type: 4\\nStar color: Blue\\nSpectral Class: O'),\n",
       " Document(metadata={'source': '12893', 'row': 107}, page_content='Temperature (K): 12893\\nLuminosity(L/Lo): 184000\\nRadius(R/Ro): 36\\nAbsolute magnitude(Mv): -6.34\\nStar type: 4\\nStar color: Blue\\nSpectral Class: O'),\n",
       " Document(metadata={'source': '24345', 'row': 108}, page_content='Temperature (K): 24345\\nLuminosity(L/Lo): 142000\\nRadius(R/Ro): 57\\nAbsolute magnitude(Mv): -6.24\\nStar type: 4\\nStar color: Blue\\nSpectral Class: O'),\n",
       " Document(metadata={'source': '33421', 'row': 109}, page_content='Temperature (K): 33421\\nLuminosity(L/Lo): 352000\\nRadius(R/Ro): 67\\nAbsolute magnitude(Mv): -5.79\\nStar type: 4\\nStar color: Blue\\nSpectral Class: O'),\n",
       " Document(metadata={'source': '3459', 'row': 110}, page_content='Temperature (K): 3459\\nLuminosity(L/Lo): 100000\\nRadius(R/Ro): 1289\\nAbsolute magnitude(Mv): -10.7\\nStar type: 5\\nStar color: Red\\nSpectral Class: M'),\n",
       " Document(metadata={'source': '3605', 'row': 111}, page_content='Temperature (K): 3605\\nLuminosity(L/Lo): 126000\\nRadius(R/Ro): 1124\\nAbsolute magnitude(Mv): -10.81\\nStar type: 5\\nStar color: Red\\nSpectral Class: M'),\n",
       " Document(metadata={'source': '3615', 'row': 112}, page_content='Temperature (K): 3615\\nLuminosity(L/Lo): 200000\\nRadius(R/Ro): 1635\\nAbsolute magnitude(Mv): -11.33\\nStar type: 5\\nStar color: Red\\nSpectral Class: M'),\n",
       " Document(metadata={'source': '3399', 'row': 113}, page_content='Temperature (K): 3399\\nLuminosity(L/Lo): 117000\\nRadius(R/Ro): 1486\\nAbsolute magnitude(Mv): -10.92\\nStar type: 5\\nStar color: Red\\nSpectral Class: M'),\n",
       " Document(metadata={'source': ' ', 'row': 114}, page_content='Temperature (K): \\nLuminosity(L/Lo): 132000\\nRadius(R/Ro): \\nAbsolute magnitude(Mv): -10.86\\nStar type: 5\\nStar color: Red\\nSpectral Class: M'),\n",
       " Document(metadata={'source': '3553', 'row': 115}, page_content='Temperature (K): 3553\\nLuminosity(L/Lo): 145000\\nRadius(R/Ro): 1324\\nAbsolute magnitude(Mv): -11.03\\nStar type: 5\\nStar color: Red\\nSpectral Class: M'),\n",
       " Document(metadata={'source': '4015', 'row': 116}, page_content='Temperature (K): 4015\\nLuminosity(L/Lo): 282000\\nRadius(R/Ro): 1534\\nAbsolute magnitude(Mv): -11.39\\nStar type: 5\\nStar color: Red\\nSpectral Class: K'),\n",
       " Document(metadata={'source': '3625', 'row': 117}, page_content='Temperature (K): 3625\\nLuminosity(L/Lo): 74000\\nRadius(R/Ro): 876\\nAbsolute magnitude(Mv): -10.25\\nStar type: 5\\nStar color: Red\\nSpectral Class: M'),\n",
       " Document(metadata={'source': '6850', 'row': 118}, page_content='Temperature (K): 6850\\nLuminosity(L/Lo): 229000\\nRadius(R/Ro): 1467\\nAbsolute magnitude(Mv): -10.07\\nStar type: 5\\nStar color: Red\\nSpectral Class: G'),\n",
       " Document(metadata={'source': '3780', 'row': 119}, page_content='Temperature (K): 3780\\nLuminosity(L/Lo): 200000\\nRadius(R/Ro): 1324\\nAbsolute magnitude(Mv): -10.7\\nStar type: 5\\nStar color: Red\\nSpectral Class: M'),\n",
       " Document(metadata={'source': '3323', 'row': 120}, page_content='Temperature (K): 3323\\nLuminosity(L/Lo): 0.00043\\nRadius(R/Ro): 0.0912\\nAbsolute magnitude(Mv): 17.16\\nStar type: 0\\nStar color: Red\\nSpectral Class: M'),\n",
       " Document(metadata={'source': '3531', 'row': 121}, page_content='Temperature (K): 3531\\nLuminosity(L/Lo): 0.00093\\nRadius(R/Ro): 0.0976\\nAbsolute magnitude(Mv): 19.94\\nStar type: 0\\nStar color: Red\\nSpectral Class: M'),\n",
       " Document(metadata={'source': '3218', 'row': 122}, page_content='Temperature (K): 3218\\nLuminosity(L/Lo): 0.00054\\nRadius(R/Ro): 0.11\\nAbsolute magnitude(Mv): 20.02\\nStar type: 0\\nStar color: Red\\nSpectral Class: M'),\n",
       " Document(metadata={'source': '3146', 'row': 123}, page_content='Temperature (K): 3146\\nLuminosity(L/Lo): 0.00015\\nRadius(R/Ro): 0.0932\\nAbsolute magnitude(Mv): 16.92\\nStar type: 0\\nStar color: Red\\nSpectral Class: M'),\n",
       " Document(metadata={'source': '3511', 'row': 124}, page_content='Temperature (K): 3511\\nLuminosity(L/Lo): 0.00064\\nRadius(R/Ro): 0.109\\nAbsolute magnitude(Mv): 17.12\\nStar type: 0\\nStar color: Red\\nSpectral Class: M'),\n",
       " Document(metadata={'source': '3225', 'row': 125}, page_content='Temperature (K): 3225\\nLuminosity(L/Lo): 0.00076\\nRadius(R/Ro): 0.121\\nAbsolute magnitude(Mv): 19.63\\nStar type: 0\\nStar color: Red\\nSpectral Class: M'),\n",
       " Document(metadata={'source': '2935', 'row': 126}, page_content='Temperature (K): 2935\\nLuminosity(L/Lo): 0.00087\\nRadius(R/Ro): 0.0932\\nAbsolute magnitude(Mv): 16.88\\nStar type: 0\\nStar color: Red\\nSpectral Class: M'),\n",
       " Document(metadata={'source': '2861', 'row': 127}, page_content='Temperature (K): 2861\\nLuminosity(L/Lo): 0.00019\\nRadius(R/Ro): 0.0899\\nAbsolute magnitude(Mv): 16.71\\nStar type: 0\\nStar color: Red\\nSpectral Class: M'),\n",
       " Document(metadata={'source': '2856', 'row': 128}, page_content='Temperature (K): 2856\\nLuminosity(L/Lo): 0.000896\\nRadius(R/Ro): 0.0782\\nAbsolute magnitude(Mv): 19.56\\nStar type: 0\\nStar color: Red\\nSpectral Class: M'),\n",
       " Document(metadata={'source': '2731', 'row': 129}, page_content='Temperature (K): 2731\\nLuminosity(L/Lo): 0.000437\\nRadius(R/Ro): 0.0856\\nAbsolute magnitude(Mv): 18.09\\nStar type: 0\\nStar color: Red\\nSpectral Class: M'),\n",
       " Document(metadata={'source': '3095', 'row': 130}, page_content='Temperature (K): 3095\\nLuminosity(L/Lo): 0.00019\\nRadius(R/Ro): 0.492\\nAbsolute magnitude(Mv): 10.87\\nStar type: 1\\nStar color: Red\\nSpectral Class: M'),\n",
       " Document(metadata={'source': '3607', 'row': 131}, page_content='Temperature (K): 3607\\nLuminosity(L/Lo): 0.00023\\nRadius(R/Ro): 0.38\\nAbsolute magnitude(Mv): 10.34\\nStar type: 1\\nStar color: Red\\nSpectral Class: M'),\n",
       " Document(metadata={'source': '3100', 'row': 132}, page_content='Temperature (K): 3100\\nLuminosity(L/Lo): 0.008\\nRadius(R/Ro): 0.31\\nAbsolute magnitude(Mv): 11.17\\nStar type: 1\\nStar color: Red\\nSpectral Class: M'),\n",
       " Document(metadata={'source': '2989', 'row': 133}, page_content='Temperature (K): 2989\\nLuminosity(L/Lo): 0.0087\\nRadius(R/Ro): 0.34\\nAbsolute magnitude(Mv): 13.12\\nStar type: 1\\nStar color: Red\\nSpectral Class: M'),\n",
       " Document(metadata={'source': '3542', 'row': 134}, page_content='Temperature (K): 3542\\nLuminosity(L/Lo): 0.0009\\nRadius(R/Ro): 0.62\\nAbsolute magnitude(Mv): 14.23\\nStar type: 1\\nStar color: Red\\nSpectral Class: M'),\n",
       " Document(metadata={'source': '3243', 'row': 135}, page_content='Temperature (K): 3243\\nLuminosity(L/Lo): 0.0023\\nRadius(R/Ro): 0.73\\nAbsolute magnitude(Mv): 14.75\\nStar type: 1\\nStar color: Red\\nSpectral Class: M'),\n",
       " Document(metadata={'source': '3091', 'row': 136}, page_content='Temperature (K): 3091\\nLuminosity(L/Lo): 0.0081\\nRadius(R/Ro): 0.24\\nAbsolute magnitude(Mv): 11.43\\nStar type: 1\\nStar color: Red\\nSpectral Class: M'),\n",
       " Document(metadata={'source': '3598', 'row': 137}, page_content='Temperature (K): 3598\\nLuminosity(L/Lo): 0.0011\\nRadius(R/Ro): 0.56\\nAbsolute magnitude(Mv): 14.26\\nStar type: 1\\nStar color: Red\\nSpectral Class: M'),\n",
       " Document(metadata={'source': '3324', 'row': 138}, page_content='Temperature (K): 3324\\nLuminosity(L/Lo): 0.0034\\nRadius(R/Ro): 0.34\\nAbsolute magnitude(Mv): 12.23\\nStar type: 1\\nStar color: Red\\nSpectral Class: M'),\n",
       " Document(metadata={'source': '3541', 'row': 139}, page_content='Temperature (K): 3541\\nLuminosity(L/Lo): 0.0013\\nRadius(R/Ro): 0.256\\nAbsolute magnitude(Mv): 14.33\\nStar type: 1\\nStar color: Red\\nSpectral Class: M'),\n",
       " Document(metadata={'source': '13420', 'row': 140}, page_content='Temperature (K): 13420\\nLuminosity(L/Lo): 0.00059\\nRadius(R/Ro): 0.00981\\nAbsolute magnitude(Mv): 13.67\\nStar type: 2\\nStar color: Blue-White\\nSpectral Class: B'),\n",
       " Document(metadata={'source': ' ', 'row': 141}, page_content='Temperature (K): \\nLuminosity(L/Lo): 0.0015\\nRadius(R/Ro): 0.0112\\nAbsolute magnitude(Mv): 11.52\\nStar type: 2\\nStar color: Blue\\nSpectral Class: B'),\n",
       " Document(metadata={'source': '18290', 'row': 142}, page_content='Temperature (K): 18290\\nLuminosity(L/Lo): 0.0013\\nRadius(R/Ro): 0.00934\\nAbsolute magnitude(Mv): 12.78\\nStar type: 2\\nStar color: Blue\\nSpectral Class: B'),\n",
       " Document(metadata={'source': '14520', 'row': 143}, page_content='Temperature (K): 14520\\nLuminosity(L/Lo): 0.00082\\nRadius(R/Ro): 0.00972\\nAbsolute magnitude(Mv): 11.92\\nStar type: 2\\nStar color: Blue-White\\nSpectral Class: B'),\n",
       " Document(metadata={'source': '11900', 'row': 144}, page_content='Temperature (K): 11900\\nLuminosity(L/Lo): 0.00067\\nRadius(R/Ro): 0.00898\\nAbsolute magnitude(Mv): 11.38\\nStar type: 2\\nStar color: Blue-White\\nSpectral Class: B'),\n",
       " Document(metadata={'source': '8924', 'row': 145}, page_content='Temperature (K): 8924\\nLuminosity(L/Lo): 0.00028\\nRadius(R/Ro): 0.00879\\nAbsolute magnitude(Mv): 14.87\\nStar type: 2\\nStar color: Blue-White\\nSpectral Class: A'),\n",
       " Document(metadata={'source': '12912', 'row': 146}, page_content='Temperature (K): 12912\\nLuminosity(L/Lo): 0.00071\\nRadius(R/Ro): 0.00945\\nAbsolute magnitude(Mv): 12.83\\nStar type: 2\\nStar color: Blue-White\\nSpectral Class: B'),\n",
       " Document(metadata={'source': '14732', 'row': 147}, page_content='Temperature (K): 14732\\nLuminosity(L/Lo): 0.00011\\nRadius(R/Ro): 0.00892\\nAbsolute magnitude(Mv): 12.89\\nStar type: 2\\nStar color: White\\nSpectral Class: F'),\n",
       " Document(metadata={'source': '7723', 'row': 148}, page_content='Temperature (K): 7723\\nLuminosity(L/Lo): 0.00014\\nRadius(R/Ro): 0.00878\\nAbsolute magnitude(Mv): 14.81\\nStar type: 2\\nStar color: White\\nSpectral Class: A'),\n",
       " Document(metadata={'source': '12984', 'row': 149}, page_content='Temperature (K): 12984\\nLuminosity(L/Lo): 0.00088\\nRadius(R/Ro): 0.00996\\nAbsolute magnitude(Mv): 11.23\\nStar type: 2\\nStar color: Blue-White\\nSpectral Class: B'),\n",
       " Document(metadata={'source': '29560', 'row': 150}, page_content='Temperature (K): 29560\\nLuminosity(L/Lo): 188000\\nRadius(R/Ro): 6.02\\nAbsolute magnitude(Mv): -4.01\\nStar type: 3\\nStar color: Blue-White\\nSpectral Class: B'),\n",
       " Document(metadata={'source': '8945', 'row': 151}, page_content='Temperature (K): 8945\\nLuminosity(L/Lo): 38\\nRadius(R/Ro): 2.487\\nAbsolute magnitude(Mv): 0.12\\nStar type: 3\\nStar color: Blue-White\\nSpectral Class: A'),\n",
       " Document(metadata={'source': '14060', 'row': 152}, page_content='Temperature (K): 14060\\nLuminosity(L/Lo): 1092\\nRadius(R/Ro): 5.745\\nAbsolute magnitude(Mv): -2.04\\nStar type: 3\\nStar color: Blue-White\\nSpectral Class: A'),\n",
       " Document(metadata={'source': '16390', 'row': 153}, page_content='Temperature (K): 16390\\nLuminosity(L/Lo): 1278\\nRadius(R/Ro): 5.68\\nAbsolute magnitude(Mv): -3.32\\nStar type: 3\\nStar color: Blue-White\\nSpectral Class: B'),\n",
       " Document(metadata={'source': '25070', 'row': 154}, page_content='Temperature (K): 25070\\nLuminosity(L/Lo): 14500\\nRadius(R/Ro): 5.92\\nAbsolute magnitude(Mv): -3.98\\nStar type: 3\\nStar color: Blue-White\\nSpectral Class: B'),\n",
       " Document(metadata={'source': '28700', 'row': 155}, page_content='Temperature (K): 28700\\nLuminosity(L/Lo): 16790\\nRadius(R/Ro): 6.4\\nAbsolute magnitude(Mv): -4.09\\nStar type: 3\\nStar color: Blue-White\\nSpectral Class: B'),\n",
       " Document(metadata={'source': '26140', 'row': 156}, page_content='Temperature (K): 26140\\nLuminosity(L/Lo): 14520\\nRadius(R/Ro): 5.49\\nAbsolute magnitude(Mv): -3.8\\nStar type: 3\\nStar color: Blue-White\\nSpectral Class: B'),\n",
       " Document(metadata={'source': '20120', 'row': 157}, page_content='Temperature (K): 20120\\nLuminosity(L/Lo): 4720\\nRadius(R/Ro): 6.78\\nAbsolute magnitude(Mv): -3.4\\nStar type: 3\\nStar color: Blue-White\\nSpectral Class: B'),\n",
       " Document(metadata={'source': '13023', 'row': 158}, page_content='Temperature (K): 13023\\nLuminosity(L/Lo): 998\\nRadius(R/Ro): 6.21\\nAbsolute magnitude(Mv): -1.38\\nStar type: 3\\nStar color: Blue-White\\nSpectral Class: A'),\n",
       " Document(metadata={'source': '37800', 'row': 159}, page_content='Temperature (K): 37800\\nLuminosity(L/Lo): 202900\\nRadius(R/Ro): 6.86\\nAbsolute magnitude(Mv): -4.56\\nStar type: 3\\nStar color: Blue\\nSpectral Class: O'),\n",
       " Document(metadata={'source': '25390', 'row': 160}, page_content='Temperature (K): 25390\\nLuminosity(L/Lo): 223000\\nRadius(R/Ro): 57\\nAbsolute magnitude(Mv): -5.92\\nStar type: 4\\nStar color: Blue\\nSpectral Class: O'),\n",
       " Document(metadata={'source': '11567', 'row': 161}, page_content='Temperature (K): 11567\\nLuminosity(L/Lo): 251000\\nRadius(R/Ro): 36\\nAbsolute magnitude(Mv): -6.245\\nStar type: 4\\nStar color: Blue\\nSpectral Class: O'),\n",
       " Document(metadata={'source': '12675', 'row': 162}, page_content='Temperature (K): 12675\\nLuminosity(L/Lo): \\nRadius(R/Ro): 83\\nAbsolute magnitude(Mv): -5.62\\nStar type: 4\\nStar color: Blue\\nSpectral Class: O'),\n",
       " Document(metadata={'source': '5752', 'row': 163}, page_content='Temperature (K): 5752\\nLuminosity(L/Lo): 245000\\nRadius(R/Ro): 97\\nAbsolute magnitude(Mv): -6.63\\nStar type: 4\\nStar color: Blue\\nSpectral Class: O'),\n",
       " Document(metadata={'source': '8927', 'row': 164}, page_content='Temperature (K): 8927\\nLuminosity(L/Lo): 239000\\nRadius(R/Ro): 35\\nAbsolute magnitude(Mv): -7.34\\nStar type: 4\\nStar color: Blue\\nSpectral Class: O'),\n",
       " Document(metadata={'source': '7282', 'row': 165}, page_content='Temperature (K): 7282\\nLuminosity(L/Lo): 131000\\nRadius(R/Ro): 24\\nAbsolute magnitude(Mv): -7.22\\nStar type: 4\\nStar color: Blue\\nSpectral Class: O'),\n",
       " Document(metadata={'source': '19923', 'row': 166}, page_content='Temperature (K): 19923\\nLuminosity(L/Lo): 152000\\nRadius(R/Ro): 73\\nAbsolute magnitude(Mv): -5.69\\nStar type: 4\\nStar color: Blue\\nSpectral Class: O'),\n",
       " Document(metadata={'source': '26373', 'row': 167}, page_content='Temperature (K): 26373\\nLuminosity(L/Lo): 198000\\nRadius(R/Ro): 39\\nAbsolute magnitude(Mv): -5.83\\nStar type: 4\\nStar color: Blue\\nSpectral Class: O'),\n",
       " Document(metadata={'source': '17383', 'row': 168}, page_content='Temperature (K): 17383\\nLuminosity(L/Lo): 342900\\nRadius(R/Ro): 30\\nAbsolute magnitude(Mv): -6.09\\nStar type: 4\\nStar color: Blue\\nSpectral Class: O'),\n",
       " Document(metadata={'source': '9373', 'row': 169}, page_content='Temperature (K): 9373\\nLuminosity(L/Lo): 424520\\nRadius(R/Ro): 24\\nAbsolute magnitude(Mv): -5.99\\nStar type: 4\\nStar color: Blue\\nSpectral Class: O'),\n",
       " Document(metadata={'source': '3570', 'row': 170}, page_content='Temperature (K): 3570\\nLuminosity(L/Lo): 320000\\nRadius(R/Ro): 1480\\nAbsolute magnitude(Mv): -7.58\\nStar type: 5\\nStar color: Red\\nSpectral Class: M'),\n",
       " Document(metadata={'source': '3500', 'row': 171}, page_content='Temperature (K): 3500\\nLuminosity(L/Lo): 138000\\nRadius(R/Ro): 1420\\nAbsolute magnitude(Mv): -8.18\\nStar type: 5\\nStar color: Red\\nSpectral Class: M'),\n",
       " Document(metadata={'source': '4287', 'row': 172}, page_content='Temperature (K): 4287\\nLuminosity(L/Lo): 630000\\nRadius(R/Ro): 1315\\nAbsolute magnitude(Mv): -9.2\\nStar type: 5\\nStar color: Red\\nSpectral Class: K'),\n",
       " Document(metadata={'source': '26000', 'row': 173}, page_content='Temperature (K): 26000\\nLuminosity(L/Lo): 316000\\nRadius(R/Ro): 1679\\nAbsolute magnitude(Mv): -9.1\\nStar type: 5\\nStar color: Blue\\nSpectral Class: B'),\n",
       " Document(metadata={'source': '3600', 'row': 174}, page_content='Temperature (K): 3600\\nLuminosity(L/Lo): 240000\\nRadius(R/Ro): 1190\\nAbsolute magnitude(Mv): -7.89\\nStar type: 5\\nStar color: Red\\nSpectral Class: M'),\n",
       " Document(metadata={'source': '3614', 'row': 175}, page_content='Temperature (K): 3614\\nLuminosity(L/Lo): 145000\\nRadius(R/Ro): 1553\\nAbsolute magnitude(Mv): \\nStar type: 5\\nStar color: Red\\nSpectral Class: M'),\n",
       " Document(metadata={'source': '18000', 'row': 176}, page_content='Temperature (K): 18000\\nLuminosity(L/Lo): 200000\\nRadius(R/Ro): 1045\\nAbsolute magnitude(Mv): -8.3\\nStar type: 5\\nStar color: Blue\\nSpectral Class: O'),\n",
       " Document(metadata={'source': '11000', 'row': 177}, page_content='Temperature (K): 11000\\nLuminosity(L/Lo): 170000\\nRadius(R/Ro): 1779\\nAbsolute magnitude(Mv): -9.9\\nStar type: 5\\nStar color: Blue-White\\nSpectral Class: B'),\n",
       " Document(metadata={'source': '12100', 'row': 178}, page_content='Temperature (K): 12100\\nLuminosity(L/Lo): 120000\\nRadius(R/Ro): 708.9\\nAbsolute magnitude(Mv): -7.84\\nStar type: 5\\nStar color: Blue-White\\nSpectral Class: B'),\n",
       " Document(metadata={'source': '24490', 'row': 179}, page_content='Temperature (K): 24490\\nLuminosity(L/Lo): 248490\\nRadius(R/Ro): 1134.5\\nAbsolute magnitude(Mv): -8.24\\nStar type: 5\\nStar color: Blue-White\\nSpectral Class: B'),\n",
       " Document(metadata={'source': '2831', 'row': 180}, page_content='Temperature (K): 2831\\nLuminosity(L/Lo): 0.000231\\nRadius(R/Ro): 0.0915\\nAbsolute magnitude(Mv): 16.21\\nStar type: 0\\nStar color: Red\\nSpectral Class: M'),\n",
       " Document(metadata={'source': '2914', 'row': 181}, page_content='Temperature (K): 2914\\nLuminosity(L/Lo): 0.000631\\nRadius(R/Ro): 0.116\\nAbsolute magnitude(Mv): 18.39\\nStar type: 0\\nStar color: Red\\nSpectral Class: M'),\n",
       " Document(metadata={'source': '3419', 'row': 182}, page_content='Temperature (K): 3419\\nLuminosity(L/Lo): 0.000245\\nRadius(R/Ro): 0.126\\nAbsolute magnitude(Mv): 17.56\\nStar type: 0\\nStar color: Red\\nSpectral Class: M'),\n",
       " Document(metadata={'source': '3218', 'row': 183}, page_content='Temperature (K): 3218\\nLuminosity(L/Lo): 0.000452\\nRadius(R/Ro): 0.0987\\nAbsolute magnitude(Mv): 17.34\\nStar type: 0\\nStar color: Red\\nSpectral Class: M'),\n",
       " Document(metadata={'source': '3453', 'row': 184}, page_content='Temperature (K): 3453\\nLuminosity(L/Lo): 0.000621\\nRadius(R/Ro): 0.0773\\nAbsolute magnitude(Mv): 17.08\\nStar type: 0\\nStar color: Red\\nSpectral Class: M'),\n",
       " Document(metadata={'source': '2889', 'row': 185}, page_content='Temperature (K): 2889\\nLuminosity(L/Lo): 0.000352\\nRadius(R/Ro): 0.0973\\nAbsolute magnitude(Mv): 16.93\\nStar type: 0\\nStar color: Red\\nSpectral Class: M'),\n",
       " Document(metadata={'source': '2968', 'row': 186}, page_content='Temperature (K): 2968\\nLuminosity(L/Lo): 0.000461\\nRadius(R/Ro): 0.119\\nAbsolute magnitude(Mv): 17.45\\nStar type: 0\\nStar color: Red\\nSpectral Class: M'),\n",
       " Document(metadata={'source': '3484', 'row': 187}, page_content='Temperature (K): 3484\\nLuminosity(L/Lo): 0.000551\\nRadius(R/Ro): 0.0998\\nAbsolute magnitude(Mv): 16.67\\nStar type: 0\\nStar color: Red\\nSpectral Class: M'),\n",
       " Document(metadata={'source': '2778', 'row': 188}, page_content='Temperature (K): 2778\\nLuminosity(L/Lo): 0.000849\\nRadius(R/Ro): 0.112\\nAbsolute magnitude(Mv): 19.45\\nStar type: 0\\nStar color: Red\\nSpectral Class: M'),\n",
       " Document(metadata={'source': '3523', 'row': 189}, page_content='Temperature (K): 3523\\nLuminosity(L/Lo): 0.000957\\nRadius(R/Ro): 0.129\\nAbsolute magnitude(Mv): 16.35\\nStar type: 0\\nStar color: Red\\nSpectral Class: M'),\n",
       " Document(metadata={'source': '3462', 'row': 190}, page_content='Temperature (K): 3462\\nLuminosity(L/Lo): 0.0053\\nRadius(R/Ro): 0.148\\nAbsolute magnitude(Mv): 11.47\\nStar type: 1\\nStar color: \\nSpectral Class: M'),\n",
       " Document(metadata={'source': '3257', 'row': 191}, page_content='Temperature (K): 3257\\nLuminosity(L/Lo): 0.0024\\nRadius(R/Ro): 0.46\\nAbsolute magnitude(Mv): 10.73\\nStar type: 1\\nStar color: Red\\nSpectral Class: M'),\n",
       " Document(metadata={'source': '2994', 'row': 192}, page_content='Temperature (K): 2994\\nLuminosity(L/Lo): 0.0072\\nRadius(R/Ro): 0.28\\nAbsolute magnitude(Mv): 13.45\\nStar type: 1\\nStar color: Red\\nSpectral Class: M'),\n",
       " Document(metadata={'source': '3212', 'row': 193}, page_content='Temperature (K): 3212\\nLuminosity(L/Lo): 0.0016\\nRadius(R/Ro): 0.378\\nAbsolute magnitude(Mv): 12.854\\nStar type: 1\\nStar color: Red\\nSpectral Class: M'),\n",
       " Document(metadata={'source': '3523', 'row': 194}, page_content='Temperature (K): 3523\\nLuminosity(L/Lo): 0.0054\\nRadius(R/Ro): 0.319\\nAbsolute magnitude(Mv): 12.43\\nStar type: 1\\nStar color: Red\\nSpectral Class: M'),\n",
       " Document(metadata={'source': '3598', 'row': 195}, page_content='Temperature (K): 3598\\nLuminosity(L/Lo): 0.0027\\nRadius(R/Ro): 0.67\\nAbsolute magnitude(Mv): 13.667\\nStar type: 1\\nStar color: Red\\nSpectral Class: M'),\n",
       " Document(metadata={'source': '3142', 'row': 196}, page_content='Temperature (K): 3142\\nLuminosity(L/Lo): 0.00132\\nRadius(R/Ro): 0.258\\nAbsolute magnitude(Mv): 14.12\\nStar type: 1\\nStar color: Red\\nSpectral Class: M'),\n",
       " Document(metadata={'source': '3496', 'row': 197}, page_content='Temperature (K): 3496\\nLuminosity(L/Lo): 0.00125\\nRadius(R/Ro): 0.336\\nAbsolute magnitude(Mv): 14.94\\nStar type: 1\\nStar color: Red\\nSpectral Class: M'),\n",
       " Document(metadata={'source': '3324', 'row': 198}, page_content='Temperature (K): 3324\\nLuminosity(L/Lo): 0.0065\\nRadius(R/Ro): 0.471\\nAbsolute magnitude(Mv): 12.78\\nStar type: 1\\nStar color: Red\\nSpectral Class: M'),\n",
       " Document(metadata={'source': '3463', 'row': 199}, page_content='Temperature (K): 3463\\nLuminosity(L/Lo): 0.0027\\nRadius(R/Ro): 0.675\\nAbsolute magnitude(Mv): 14.776\\nStar type: 1\\nStar color: Red\\nSpectral Class: M'),\n",
       " Document(metadata={'source': '16790', 'row': 200}, page_content='Temperature (K): 16790\\nLuminosity(L/Lo): 0.0014\\nRadius(R/Ro): 0.0121\\nAbsolute magnitude(Mv): 12.87\\nStar type: 2\\nStar color: Blue\\nSpectral Class: B'),\n",
       " Document(metadata={'source': '15680', 'row': 201}, page_content='Temperature (K): 15680\\nLuminosity(L/Lo): 0.00122\\nRadius(R/Ro): 0.0114\\nAbsolute magnitude(Mv): 11.92\\nStar type: 2\\nStar color: Blue\\nSpectral Class: B'),\n",
       " Document(metadata={'source': '14982', 'row': 202}, page_content='Temperature (K): 14982\\nLuminosity(L/Lo): 0.00118\\nRadius(R/Ro): 0.0113\\nAbsolute magnitude(Mv): 12.23\\nStar type: 2\\nStar color: Blue\\nSpectral Class: B'),\n",
       " Document(metadata={'source': '13340', 'row': 203}, page_content='Temperature (K): 13340\\nLuminosity(L/Lo): 0.00109\\nRadius(R/Ro): 0.0116\\nAbsolute magnitude(Mv): 12.9\\nStar type: 2\\nStar color: Blue\\nSpectral Class: B'),\n",
       " Document(metadata={'source': '18340', 'row': 204}, page_content='Temperature (K): 18340\\nLuminosity(L/Lo): 0.00134\\nRadius(R/Ro): 0.0124\\nAbsolute magnitude(Mv): 11.22\\nStar type: 2\\nStar color: Blue\\nSpectral Class: B'),\n",
       " Document(metadata={'source': '19920', 'row': 205}, page_content='Temperature (K): 19920\\nLuminosity(L/Lo): 0.00156\\nRadius(R/Ro): 0.0142\\nAbsolute magnitude(Mv): 11.34\\nStar type: 2\\nStar color: Blue\\nSpectral Class: B'),\n",
       " Document(metadata={'source': '24020', 'row': 206}, page_content='Temperature (K): 24020\\nLuminosity(L/Lo): 0.00159\\nRadius(R/Ro): 0.0127\\nAbsolute magnitude(Mv): 10.55\\nStar type: 2\\nStar color: Blue\\nSpectral Class: B'),\n",
       " Document(metadata={'source': '23092', 'row': 207}, page_content='Temperature (K): 23092\\nLuminosity(L/Lo): 0.00132\\nRadius(R/Ro): 0.0104\\nAbsolute magnitude(Mv): 10.18\\nStar type: 2\\nStar color: Blue\\nSpectral Class: B'),\n",
       " Document(metadata={'source': '17920', 'row': 208}, page_content='Temperature (K): 17920\\nLuminosity(L/Lo): 0.00111\\nRadius(R/Ro): 0.0106\\nAbsolute magnitude(Mv): 11.66\\nStar type: 2\\nStar color: Blue\\nSpectral Class: B'),\n",
       " Document(metadata={'source': '19360', 'row': 209}, page_content='Temperature (K): 19360\\nLuminosity(L/Lo): 0.00125\\nRadius(R/Ro): \\nAbsolute magnitude(Mv): 11.62\\nStar type: 2\\nStar color: Blue\\nSpectral Class: B'),\n",
       " Document(metadata={'source': '22350', 'row': 210}, page_content='Temperature (K): 22350\\nLuminosity(L/Lo): 12450\\nRadius(R/Ro): 6.36\\nAbsolute magnitude(Mv): -3.67\\nStar type: 3\\nStar color: Blue-White\\nSpectral Class: B'),\n",
       " Document(metadata={'source': '10012', 'row': 211}, page_content='Temperature (K): 10012\\nLuminosity(L/Lo): 552\\nRadius(R/Ro): 5.856\\nAbsolute magnitude(Mv): 0.013\\nStar type: 3\\nStar color: Blue-White\\nSpectral Class: A'),\n",
       " Document(metadata={'source': '13089', 'row': 212}, page_content='Temperature (K): 13089\\nLuminosity(L/Lo): 788\\nRadius(R/Ro): 5.992\\nAbsolute magnitude(Mv): -0.12\\nStar type: 3\\nStar color: Blue-White\\nSpectral Class: A'),\n",
       " Document(metadata={'source': '22012', 'row': 213}, page_content='Temperature (K): 22012\\nLuminosity(L/Lo): 6748\\nRadius(R/Ro): 6.64\\nAbsolute magnitude(Mv): -2.55\\nStar type: 3\\nStar color: Blue-White\\nSpectral Class: B'),\n",
       " Document(metadata={'source': '34190', 'row': 214}, page_content='Temperature (K): 34190\\nLuminosity(L/Lo): 198200\\nRadius(R/Ro): 6.39\\nAbsolute magnitude(Mv): -4.57\\nStar type: 3\\nStar color: Blue\\nSpectral Class: O'),\n",
       " Document(metadata={'source': '32460', 'row': 215}, page_content='Temperature (K): 32460\\nLuminosity(L/Lo): 173800\\nRadius(R/Ro): 6.237\\nAbsolute magnitude(Mv): -4.36\\nStar type: 3\\nStar color: Blue\\nSpectral Class: O'),\n",
       " Document(metadata={'source': '9320', 'row': 216}, page_content='Temperature (K): 9320\\nLuminosity(L/Lo): 29\\nRadius(R/Ro): 1.91\\nAbsolute magnitude(Mv): 1.236\\nStar type: 3\\nStar color: Blue-White\\nSpectral Class: A'),\n",
       " Document(metadata={'source': '19400', 'row': 217}, page_content='Temperature (K): 19400\\nLuminosity(L/Lo): 10920\\nRadius(R/Ro): 6.03\\nAbsolute magnitude(Mv): -3.08\\nStar type: 3\\nStar color: Blue-White\\nSpectral Class: B'),\n",
       " Document(metadata={'source': '17140', 'row': 218}, page_content='Temperature (K): 17140\\nLuminosity(L/Lo): 883\\nRadius(R/Ro): 5.653\\nAbsolute magnitude(Mv): -2.64\\nStar type: 3\\nStar color: Blue-White\\nSpectral Class: B'),\n",
       " Document(metadata={'source': '8250', 'row': 219}, page_content='Temperature (K): 8250\\nLuminosity(L/Lo): 9.25\\nRadius(R/Ro): 1.93\\nAbsolute magnitude(Mv): -0.98\\nStar type: 3\\nStar color: Yellow-White\\nSpectral Class: F'),\n",
       " Document(metadata={'source': '23678', 'row': 220}, page_content='Temperature (K): 23678\\nLuminosity(L/Lo): 244290\\nRadius(R/Ro): 35\\nAbsolute magnitude(Mv): -6.27\\nStar type: 4\\nStar color: Blue\\nSpectral Class: O'),\n",
       " Document(metadata={'source': '12749', 'row': 221}, page_content='Temperature (K): 12749\\nLuminosity(L/Lo): 332520\\nRadius(R/Ro): \\nAbsolute magnitude(Mv): -7.02\\nStar type: 4\\nStar color: Blue\\nSpectral Class: O'),\n",
       " Document(metadata={'source': '9383', 'row': 222}, page_content='Temperature (K): 9383\\nLuminosity(L/Lo): 342940\\nRadius(R/Ro): 98\\nAbsolute magnitude(Mv): -6.98\\nStar type: 4\\nStar color: Blue\\nSpectral Class: O'),\n",
       " Document(metadata={'source': '23440', 'row': 223}, page_content='Temperature (K): 23440\\nLuminosity(L/Lo): 537430\\nRadius(R/Ro): 81\\nAbsolute magnitude(Mv): -5.975\\nStar type: 4\\nStar color: Blue\\nSpectral Class: O'),\n",
       " Document(metadata={'source': '16787', 'row': 224}, page_content='Temperature (K): 16787\\nLuminosity(L/Lo): 246730\\nRadius(R/Ro): 62\\nAbsolute magnitude(Mv): -6.35\\nStar type: 4\\nStar color: Blue\\nSpectral Class: O'),\n",
       " Document(metadata={'source': '18734', 'row': 225}, page_content='Temperature (K): 18734\\nLuminosity(L/Lo): 224780\\nRadius(R/Ro): 46\\nAbsolute magnitude(Mv): -7.45\\nStar type: 4\\nStar color: Blue\\nSpectral Class: O'),\n",
       " Document(metadata={'source': '9892', 'row': 226}, page_content='Temperature (K): 9892\\nLuminosity(L/Lo): 593900\\nRadius(R/Ro): 80\\nAbsolute magnitude(Mv): -7.262\\nStar type: 4\\nStar color: Blue\\nSpectral Class: O'),\n",
       " Document(metadata={'source': '10930', 'row': 227}, page_content='Temperature (K): 10930\\nLuminosity(L/Lo): 783930\\nRadius(R/Ro): 25\\nAbsolute magnitude(Mv): -6.224\\nStar type: 4\\nStar color: Blue\\nSpectral Class: O'),\n",
       " Document(metadata={'source': '23095', 'row': 228}, page_content='Temperature (K): 23095\\nLuminosity(L/Lo): 347820\\nRadius(R/Ro): 86\\nAbsolute magnitude(Mv): -5.905\\nStar type: 4\\nStar color: Blue\\nSpectral Class: O'),\n",
       " Document(metadata={'source': '21738', 'row': 229}, page_content='Temperature (K): 21738\\nLuminosity(L/Lo): 748890\\nRadius(R/Ro): 92\\nAbsolute magnitude(Mv): -7.346\\nStar type: 4\\nStar color: Blue\\nSpectral Class: O'),\n",
       " Document(metadata={'source': '24145', 'row': 230}, page_content='Temperature (K): 24145\\nLuminosity(L/Lo): 382993\\nRadius(R/Ro): 1494\\nAbsolute magnitude(Mv): -8.84\\nStar type: 5\\nStar color: Blue-White\\nSpectral Class: B'),\n",
       " Document(metadata={'source': '38234', 'row': 231}, page_content='Temperature (K): 38234\\nLuminosity(L/Lo): 272830\\nRadius(R/Ro): 1356\\nAbsolute magnitude(Mv): -9.29\\nStar type: 5\\nStar color: Blue\\nSpectral Class: '),\n",
       " Document(metadata={'source': '32489', 'row': 232}, page_content='Temperature (K): 32489\\nLuminosity(L/Lo): 648430\\nRadius(R/Ro): 1948.5\\nAbsolute magnitude(Mv): -10.84\\nStar type: 5\\nStar color: Blue\\nSpectral Class: O'),\n",
       " Document(metadata={'source': '27739', 'row': 233}, page_content='Temperature (K): 27739\\nLuminosity(L/Lo): 849420\\nRadius(R/Ro): 1252\\nAbsolute magnitude(Mv): -7.59\\nStar type: 5\\nStar color: Blue-White\\nSpectral Class: B'),\n",
       " Document(metadata={'source': '21904', 'row': 234}, page_content='Temperature (K): 21904\\nLuminosity(L/Lo): 748490\\nRadius(R/Ro): 1130\\nAbsolute magnitude(Mv): -7.67\\nStar type: 5\\nStar color: Blue-White\\nSpectral Class: B'),\n",
       " Document(metadata={'source': '38940', 'row': 235}, page_content='Temperature (K): 38940\\nLuminosity(L/Lo): 374830\\nRadius(R/Ro): 1356\\nAbsolute magnitude(Mv): -9.93\\nStar type: 5\\nStar color: Blue\\nSpectral Class: O'),\n",
       " Document(metadata={'source': '30839', 'row': 236}, page_content='Temperature (K): 30839\\nLuminosity(L/Lo): 834042\\nRadius(R/Ro): 1194\\nAbsolute magnitude(Mv): -10.63\\nStar type: 5\\nStar color: Blue\\nSpectral Class: O'),\n",
       " Document(metadata={'source': '8829', 'row': 237}, page_content='Temperature (K): 8829\\nLuminosity(L/Lo): 537493\\nRadius(R/Ro): 1423\\nAbsolute magnitude(Mv): -10.73\\nStar type: 5\\nStar color: White\\nSpectral Class: A'),\n",
       " Document(metadata={'source': '9235', 'row': 238}, page_content='Temperature (K): 9235\\nLuminosity(L/Lo): 404940\\nRadius(R/Ro): 1112\\nAbsolute magnitude(Mv): -11.23\\nStar type: 5\\nStar color: White\\nSpectral Class: A'),\n",
       " Document(metadata={'source': '37882', 'row': 239}, page_content='Temperature (K): 37882\\nLuminosity(L/Lo): 294903\\nRadius(R/Ro): 1783\\nAbsolute magnitude(Mv): -7.8\\nStar type: 5\\nStar color: Blue\\nSpectral Class: O')]"
      ]
     },
     "execution_count": 29,
     "metadata": {},
     "output_type": "execute_result"
    }
   ],
   "source": [
    "csv_data"
   ]
  },
  {
   "cell_type": "code",
   "execution_count": 31,
   "id": "c18dec10-2e50-425b-a0ac-9d760bdfceb9",
   "metadata": {
    "scrolled": true
   },
   "outputs": [
    {
     "data": {
      "text/plain": [
       "{'source': '3042', 'row': 1}"
      ]
     },
     "execution_count": 31,
     "metadata": {},
     "output_type": "execute_result"
    }
   ],
   "source": [
    "csv_data[1].metadata"
   ]
  },
  {
   "cell_type": "markdown",
   "id": "14e7d548-2359-4ec5-8f97-626510d945bf",
   "metadata": {},
   "source": [
    "Data from URls"
   ]
  },
  {
   "cell_type": "code",
   "execution_count": 44,
   "id": "b252e416-4975-4eba-8138-3704024fde9a",
   "metadata": {},
   "outputs": [
    {
     "name": "stdout",
     "output_type": "stream",
     "text": [
      "Requirement already satisfied: unstructured in c:\\users\\sree ram\\appdata\\local\\programs\\python\\python312\\lib\\site-packages (0.15.13)Note: you may need to restart the kernel to use updated packages.\n",
      "\n",
      "Requirement already satisfied: chardet in c:\\users\\sree ram\\appdata\\local\\programs\\python\\python312\\lib\\site-packages (from unstructured) (5.2.0)\n",
      "Requirement already satisfied: filetype in c:\\users\\sree ram\\appdata\\local\\programs\\python\\python312\\lib\\site-packages (from unstructured) (1.2.0)\n",
      "Requirement already satisfied: python-magic in c:\\users\\sree ram\\appdata\\local\\programs\\python\\python312\\lib\\site-packages (from unstructured) (0.4.27)\n",
      "Requirement already satisfied: lxml in c:\\users\\sree ram\\appdata\\local\\programs\\python\\python312\\lib\\site-packages (from unstructured) (5.3.0)\n",
      "Requirement already satisfied: nltk in c:\\users\\sree ram\\appdata\\local\\programs\\python\\python312\\lib\\site-packages (from unstructured) (3.9.1)\n",
      "Requirement already satisfied: tabulate in c:\\users\\sree ram\\appdata\\local\\programs\\python\\python312\\lib\\site-packages (from unstructured) (0.9.0)\n",
      "Requirement already satisfied: requests in c:\\users\\sree ram\\appdata\\local\\programs\\python\\python312\\lib\\site-packages (from unstructured) (2.31.0)\n",
      "Requirement already satisfied: beautifulsoup4 in c:\\users\\sree ram\\appdata\\local\\programs\\python\\python312\\lib\\site-packages (from unstructured) (4.12.3)\n",
      "Requirement already satisfied: emoji in c:\\users\\sree ram\\appdata\\local\\programs\\python\\python312\\lib\\site-packages (from unstructured) (2.14.0)\n",
      "Requirement already satisfied: dataclasses-json in c:\\users\\sree ram\\appdata\\local\\programs\\python\\python312\\lib\\site-packages (from unstructured) (0.6.7)\n",
      "Requirement already satisfied: python-iso639 in c:\\users\\sree ram\\appdata\\local\\programs\\python\\python312\\lib\\site-packages (from unstructured) (2024.4.27)\n",
      "Requirement already satisfied: langdetect in c:\\users\\sree ram\\appdata\\local\\programs\\python\\python312\\lib\\site-packages (from unstructured) (1.0.9)\n",
      "Requirement already satisfied: numpy<2 in c:\\users\\sree ram\\appdata\\local\\programs\\python\\python312\\lib\\site-packages (from unstructured) (1.26.4)\n",
      "Requirement already satisfied: rapidfuzz in c:\\users\\sree ram\\appdata\\local\\programs\\python\\python312\\lib\\site-packages (from unstructured) (3.10.0)\n",
      "Requirement already satisfied: backoff in c:\\users\\sree ram\\appdata\\local\\programs\\python\\python312\\lib\\site-packages (from unstructured) (2.2.1)\n",
      "Requirement already satisfied: typing-extensions in c:\\users\\sree ram\\appdata\\local\\programs\\python\\python312\\lib\\site-packages (from unstructured) (4.12.2)\n",
      "Requirement already satisfied: unstructured-client in c:\\users\\sree ram\\appdata\\local\\programs\\python\\python312\\lib\\site-packages (from unstructured) (0.26.0)\n",
      "Requirement already satisfied: wrapt in c:\\users\\sree ram\\appdata\\local\\programs\\python\\python312\\lib\\site-packages (from unstructured) (1.16.0)\n",
      "Requirement already satisfied: tqdm in c:\\users\\sree ram\\appdata\\local\\programs\\python\\python312\\lib\\site-packages (from unstructured) (4.66.5)\n",
      "Requirement already satisfied: psutil in c:\\users\\sree ram\\appdata\\local\\programs\\python\\python312\\lib\\site-packages (from unstructured) (5.9.8)\n",
      "Requirement already satisfied: python-oxmsg in c:\\users\\sree ram\\appdata\\local\\programs\\python\\python312\\lib\\site-packages (from unstructured) (0.0.1)\n",
      "Requirement already satisfied: soupsieve>1.2 in c:\\users\\sree ram\\appdata\\local\\programs\\python\\python312\\lib\\site-packages (from beautifulsoup4->unstructured) (2.5)\n",
      "Requirement already satisfied: marshmallow<4.0.0,>=3.18.0 in c:\\users\\sree ram\\appdata\\local\\programs\\python\\python312\\lib\\site-packages (from dataclasses-json->unstructured) (3.22.0)\n",
      "Requirement already satisfied: typing-inspect<1,>=0.4.0 in c:\\users\\sree ram\\appdata\\local\\programs\\python\\python312\\lib\\site-packages (from dataclasses-json->unstructured) (0.9.0)\n",
      "Requirement already satisfied: six in c:\\users\\sree ram\\appdata\\local\\programs\\python\\python312\\lib\\site-packages (from langdetect->unstructured) (1.16.0)\n",
      "Requirement already satisfied: click in c:\\users\\sree ram\\appdata\\local\\programs\\python\\python312\\lib\\site-packages (from nltk->unstructured) (8.1.7)\n",
      "Requirement already satisfied: joblib in c:\\users\\sree ram\\appdata\\local\\programs\\python\\python312\\lib\\site-packages (from nltk->unstructured) (1.4.2)\n",
      "Requirement already satisfied: regex>=2021.8.3 in c:\\users\\sree ram\\appdata\\local\\programs\\python\\python312\\lib\\site-packages (from nltk->unstructured) (2024.9.11)\n",
      "Requirement already satisfied: olefile in c:\\users\\sree ram\\appdata\\local\\programs\\python\\python312\\lib\\site-packages (from python-oxmsg->unstructured) (0.47)\n",
      "Requirement already satisfied: charset-normalizer<4,>=2 in c:\\users\\sree ram\\appdata\\local\\programs\\python\\python312\\lib\\site-packages (from requests->unstructured) (3.3.2)\n",
      "Requirement already satisfied: idna<4,>=2.5 in c:\\users\\sree ram\\appdata\\local\\programs\\python\\python312\\lib\\site-packages (from requests->unstructured) (3.6)\n",
      "Requirement already satisfied: urllib3<3,>=1.21.1 in c:\\users\\sree ram\\appdata\\local\\programs\\python\\python312\\lib\\site-packages (from requests->unstructured) (2.2.1)\n",
      "Requirement already satisfied: certifi>=2017.4.17 in c:\\users\\sree ram\\appdata\\local\\programs\\python\\python312\\lib\\site-packages (from requests->unstructured) (2024.2.2)\n",
      "Requirement already satisfied: colorama in c:\\users\\sree ram\\appdata\\local\\programs\\python\\python312\\lib\\site-packages (from tqdm->unstructured) (0.4.6)\n",
      "Requirement already satisfied: cryptography>=3.1 in c:\\users\\sree ram\\appdata\\local\\programs\\python\\python312\\lib\\site-packages (from unstructured-client->unstructured) (43.0.1)\n",
      "Requirement already satisfied: eval-type-backport<0.3.0,>=0.2.0 in c:\\users\\sree ram\\appdata\\local\\programs\\python\\python312\\lib\\site-packages (from unstructured-client->unstructured) (0.2.0)\n",
      "Requirement already satisfied: httpx>=0.27.0 in c:\\users\\sree ram\\appdata\\local\\programs\\python\\python312\\lib\\site-packages (from unstructured-client->unstructured) (0.27.2)\n",
      "Requirement already satisfied: jsonpath-python<2.0.0,>=1.0.6 in c:\\users\\sree ram\\appdata\\local\\programs\\python\\python312\\lib\\site-packages (from unstructured-client->unstructured) (1.0.6)\n",
      "Requirement already satisfied: nest-asyncio>=1.6.0 in c:\\users\\sree ram\\appdata\\local\\programs\\python\\python312\\lib\\site-packages (from unstructured-client->unstructured) (1.6.0)\n",
      "Requirement already satisfied: pydantic<2.10.0,>=2.9.0 in c:\\users\\sree ram\\appdata\\local\\programs\\python\\python312\\lib\\site-packages (from unstructured-client->unstructured) (2.9.2)\n",
      "Requirement already satisfied: pypdf>=4.0 in c:\\users\\sree ram\\appdata\\local\\programs\\python\\python312\\lib\\site-packages (from unstructured-client->unstructured) (5.0.1)\n",
      "Requirement already satisfied: python-dateutil==2.8.2 in c:\\users\\sree ram\\appdata\\local\\programs\\python\\python312\\lib\\site-packages (from unstructured-client->unstructured) (2.8.2)\n",
      "Requirement already satisfied: requests-toolbelt>=1.0.0 in c:\\users\\sree ram\\appdata\\local\\programs\\python\\python312\\lib\\site-packages (from unstructured-client->unstructured) (1.0.0)\n",
      "Requirement already satisfied: cffi>=1.12 in c:\\users\\sree ram\\appdata\\local\\programs\\python\\python312\\lib\\site-packages (from cryptography>=3.1->unstructured-client->unstructured) (1.16.0)\n",
      "Requirement already satisfied: anyio in c:\\users\\sree ram\\appdata\\local\\programs\\python\\python312\\lib\\site-packages (from httpx>=0.27.0->unstructured-client->unstructured) (4.3.0)\n",
      "Requirement already satisfied: httpcore==1.* in c:\\users\\sree ram\\appdata\\local\\programs\\python\\python312\\lib\\site-packages (from httpx>=0.27.0->unstructured-client->unstructured) (1.0.3)\n",
      "Requirement already satisfied: sniffio in c:\\users\\sree ram\\appdata\\local\\programs\\python\\python312\\lib\\site-packages (from httpx>=0.27.0->unstructured-client->unstructured) (1.3.0)\n",
      "Requirement already satisfied: h11<0.15,>=0.13 in c:\\users\\sree ram\\appdata\\local\\programs\\python\\python312\\lib\\site-packages (from httpcore==1.*->httpx>=0.27.0->unstructured-client->unstructured) (0.14.0)\n",
      "Requirement already satisfied: packaging>=17.0 in c:\\users\\sree ram\\appdata\\local\\programs\\python\\python312\\lib\\site-packages (from marshmallow<4.0.0,>=3.18.0->dataclasses-json->unstructured) (23.2)\n",
      "Requirement already satisfied: annotated-types>=0.6.0 in c:\\users\\sree ram\\appdata\\local\\programs\\python\\python312\\lib\\site-packages (from pydantic<2.10.0,>=2.9.0->unstructured-client->unstructured) (0.7.0)\n",
      "Requirement already satisfied: pydantic-core==2.23.4 in c:\\users\\sree ram\\appdata\\local\\programs\\python\\python312\\lib\\site-packages (from pydantic<2.10.0,>=2.9.0->unstructured-client->unstructured) (2.23.4)\n",
      "Requirement already satisfied: mypy-extensions>=0.3.0 in c:\\users\\sree ram\\appdata\\local\\programs\\python\\python312\\lib\\site-packages (from typing-inspect<1,>=0.4.0->dataclasses-json->unstructured) (1.0.0)\n",
      "Requirement already satisfied: pycparser in c:\\users\\sree ram\\appdata\\local\\programs\\python\\python312\\lib\\site-packages (from cffi>=1.12->cryptography>=3.1->unstructured-client->unstructured) (2.21)\n"
     ]
    }
   ],
   "source": [
    "pip install unstructured"
   ]
  },
  {
   "cell_type": "code",
   "execution_count": 45,
   "id": "b183f1ca-c478-4d76-aa24-f58941c336e3",
   "metadata": {},
   "outputs": [],
   "source": [
    "from langchain.document_loaders import UnstructuredURLLoader"
   ]
  },
  {
   "cell_type": "code",
   "execution_count": 47,
   "id": "7d6e5f8b-e402-45fa-931c-929ddafee8ea",
   "metadata": {},
   "outputs": [],
   "source": [
    "loader=UnstructuredURLLoader(urls = [\n",
    "    \"https://en.wikipedia.org/wiki/Python_(programming_language)\",\n",
    "    \"https://www.bbc.com/news/technology\",\n",
    "    \"https://openai.com/research/gpt-3\"\n",
    "])\n",
    "urldata=loader.load()"
   ]
  },
  {
   "cell_type": "code",
   "execution_count": 49,
   "id": "f084da74-c7cd-4749-8e6c-e366e6f37192",
   "metadata": {},
   "outputs": [
    {
     "data": {
      "text/plain": [
       "[Document(metadata={'source': 'https://en.wikipedia.org/wiki/Python_(programming_language)'}, page_content='Python (programming language)\\n\\nAfrikaans\\n\\nAlemannisch\\n\\nالعربية\\n\\nAragonés\\n\\nঅসমীয়া\\n\\nAsturianu\\n\\nAzərbaycanca\\n\\nتۆرکجه\\n\\nBasa Bali\\n\\nবাংলা\\n\\n閩南語 / Bân-lâm-gú\\n\\nБеларуская\\n\\nБеларуская (тарашкевіца)\\n\\nभोजपुरी\\n\\nБългарски\\n\\nBosanski\\n\\nBrezhoneg\\n\\nCatalà\\n\\nCebuano\\n\\nČeština\\n\\nCymraeg\\n\\nDansk\\n\\nDeutsch\\n\\nEesti\\n\\nΕλληνικά\\n\\nEspañol\\n\\nEsperanto\\n\\nEuskara\\n\\nفارسی\\n\\nFrançais\\n\\nGalego\\n\\nગુજરાતી\\n\\n한국어\\n\\nHausa\\n\\nՀայերեն\\n\\nहिन्दी\\n\\nHrvatski\\n\\nIdo\\n\\nBahasa Indonesia\\n\\nInterlingua\\n\\nÍslenska\\n\\nItaliano\\n\\nעברית\\n\\nქართული\\n\\nҚазақша\\n\\nKiswahili\\n\\nKurdî\\n\\nКыргызча\\n\\nLatina\\n\\nLatviešu\\n\\nLietuvių\\n\\nLa .lojban.\\n\\nLombard\\n\\nMagyar\\n\\nМакедонски\\n\\nമലയാളം\\n\\nमराठी\\n\\nBahasa Melayu\\n\\nМонгол\\n\\nမြန်မာဘာသာ\\n\\nNa Vosa Vakaviti\\n\\nNederlands\\n\\nनेपाली\\n\\n日本語\\n\\nߒߞߏ\\n\\nNorsk bokmål\\n\\nNorsk nynorsk\\n\\nଓଡ଼ିଆ\\n\\nOʻzbekcha / ўзбекча\\n\\nਪੰਜਾਬੀ\\n\\nپنجابی\\n\\nភាសាខ្មែរ\\n\\nPlattdüütsch\\n\\nPolski\\n\\nPortuguês\\n\\nQaraqalpaqsha\\n\\nRomână\\n\\nRuna Simi\\n\\nРусский\\n\\nСаха тыла\\n\\nᱥᱟᱱᱛᱟᱲᱤ\\n\\nScots\\n\\nShqip\\n\\nසිංහල\\n\\nSimple English\\n\\nSlovenčina\\n\\nSlovenščina\\n\\nکوردی\\n\\nСрпски / srpski\\n\\nSrpskohrvatski / српскохрватски\\n\\nSuomi\\n\\nSvenska\\n\\nTagalog\\n\\nதமிழ்\\n\\nТатарча / tatarça\\n\\nၽႃႇသႃႇတႆး\\n\\nతెలుగు\\n\\nไทย\\n\\nТоҷикӣ\\n\\nTürkçe\\n\\nBasa Ugi\\n\\nУкраїнська\\n\\nاردو\\n\\nئۇيغۇرچە / Uyghurche\\n\\nTiếng Việt\\n\\nWalon\\n\\n文言\\n\\nWinaray\\n\\n吴语\\n\\n粵語\\n\\n中文\\n\\nEdit links\\n\\nFrom Wikipedia, the free encyclopedia\\n\\nGeneral-purpose programming language\\n\\nParadigm Multi-paradigm : object-oriented , [ 1 ] procedural ( imperative ), functional , structured , reflective Designed\\xa0by Guido van Rossum Developer Python Software Foundation First\\xa0appeared 20\\xa0February 1991 ; 33 years ago ( 1991-02-20 ) [ 2 ]  Stable release 3.13.0 / 7 October 2024 ; 3 days ago ( 7 October 2024 )  Typing discipline duck , dynamic , strong ; [ 3 ] optional type annotations (since 3.5, but those hints are ignored, except with unofficial tools) [ 4 ] OS Tier 1 : 64-bit Linux , macOS ; 64- and 32-bit Windows 10+ [ 5 ] Tier 2 : E.g. 32-bit WebAssembly (WASI) Tier 3 : 64-bit Android 5.0+, [ 6 ] iOS , FreeBSD , and (32-bit) Raspberry Pi OS Unofficial (or has been known to work): Other Unix-like / BSD variants) and a few other platforms [ 7 ] [ 8 ] [ 9 ] License Python Software Foundation License Filename extensions .py, .pyw, .pyz, [ 10 ] .pyi, .pyc, .pyd Website python.org Major implementations CPython , PyPy , Stackless Python , MicroPython , CircuitPython , IronPython , Jython Dialects Cython , RPython , Starlark [ 11 ] Influenced by ABC , [ 12 ] Ada , [ 13 ] ALGOL 68 , [ 14 ] APL , [ 15 ] C , [ 16 ] C++ , [ 17 ] CLU , [ 18 ] Dylan , [ 19 ] Haskell , [ 20 ] [ 15 ] Icon , [ 21 ] Lisp , [ 22 ] Modula-3 , [ 14 ] [ 17 ] Perl , [ 23 ] Standard ML [ 15 ] Influenced Apache Groovy , Boo , Cobra , CoffeeScript , [ 24 ] D , F# , GDScript , Go , JavaScript , [ 25 ] [ 26 ] Julia , [ 27 ] Mojo , [ 28 ] Nim , Ring , [ 29 ] Ruby , [ 30 ] Swift [ 31 ] Python Programming at Wikibooks\\n\\nPython is a high-level, general-purpose programming language. Its design philosophy emphasizes code readability with the use of significant indentation.[32]\\n\\nPython is dynamically typed and garbage-collected. It supports multiple programming paradigms, including structured (particularly procedural), object-oriented and functional programming. It is often described as a \"batteries included\" language due to its comprehensive standard library.[33][34]\\n\\nGuido van Rossum began working on Python in the late 1980s as a successor to the ABC programming language and first released it in 1991 as Python 0.9.0.[35] Python 2.0 was released in 2000. Python 3.0, released in 2008, was a major revision not completely backward-compatible with earlier versions. Python 2.7.18, released in 2020, was the last release of Python 2.[36]\\n\\nPython consistently ranks as one of the most popular programming languages, and has gained widespread use in the machine learning community.[37][38][39][40]\\n\\nHistory\\n\\n[edit]\\n\\nMain article: History of Python\\n\\nPython was invented in the late 1980s[41] by Guido van Rossum at Centrum Wiskunde & Informatica (CWI) in the Netherlands as a successor to the ABC programming language, which was inspired by SETL,[42] capable of exception handling and interfacing with the Amoeba operating system.[12] Its implementation began in December 1989.[43] Van Rossum shouldered sole responsibility for the project, as the lead developer, until 12 July 2018, when he announced his \"permanent vacation\" from his responsibilities as Python\\'s \"benevolent dictator for life\" (BDFL), a title the Python community bestowed upon him to reflect his long-term commitment as the project\\'s chief decision-maker[44] (he has since come out of retirement and is self-titled \"BDFL-emeritus\"). In January 2019, active Python core developers elected a five-member Steering Council to lead the project.[45][46]\\n\\nPython 2.0 was released on 16 October 2000, with many major new features such as list comprehensions, cycle-detecting garbage collection, reference counting, and Unicode support.[47] Python 3.0 was released on 3 December 2008, with many of its major features backported to Python 2.6.x[48] and 2.7.x. Releases of Python 3 include the 2to3 utility, which automates the translation of Python 2 code to Python 3.[49]\\n\\nPython 2.7\\'s end-of-life was initially set for 2015, then postponed to 2020 out of concern that a large body of existing code could not easily be forward-ported to Python 3.[50][51] No further security patches or other improvements will be released for it.[52][53] Currently only 3.9 and later are supported (2023 security issues were fixed in e.g. 3.7.17, the final 3.7.x release[54]). While Python 2.7 and older is officially unsupported, a different unofficial Python implementation, PyPy, continues to support Python 2, i.e. \"2.7.18+\" (plus 3.10), with the plus meaning (at least some) \"backported security updates\".[55]\\n\\nIn 2021 (and again twice in 2022, and in September 2024 for Python 3.12.6 down to 3.8.20), security updates were expedited, since all Python versions were insecure (including 2.7[56]) because of security issues leading to possible remote code execution[57] and web-cache poisoning.[58] In 2022, Python 3.10.4 and 3.9.12 were expedited[59] and 3.8.13, because of many security issues.[60] When Python 3.9.13 was released in May 2022, it was announced that the 3.9 series (joining the older series 3.8 and 3.7) would only receive security fixes in the future.[61] On 7 September 2022, four new releases were made due to a potential denial-of-service attack: 3.10.7, 3.9.14, 3.8.14, and 3.7.14.[62][63]\\n\\nEvery Python release since 3.5 has added some syntax to the language. 3.10 added the | union type operator[64] and the match and case keywords (for structural pattern matching statements). 3.11 expanded exception handling functionality. Python 3.12 added the new keyword type. Notable changes in 3.11 from 3.10 include increased program execution speed and improved error reporting.[65] Python 3.11 claims to be between 10 and 60% faster than Python 3.10, and Python 3.12 adds another 5% on top of that. It also has improved error messages, and many other changes.\\n\\nPython 3.13 introduces more syntax for types, a new and improved interactive interpreter (REPL), featuring multi-line editing and color support; an incremental garbage collector (producing shorter pauses for collection in programs with a lot of objects, and addition to the improved speed in 3.11 and 3.12), and an experimental just-in-time (JIT) compiler (such features, can/needs to be enabled specifically for the increase in speed),[66] and an experimental free-threaded build mode, which disables the global interpreter lock (GIL), allowing threads to run more concurrently, that latter feature enabled with python3.13t or python3.13t.exe.\\n\\nPython 3.13 introduces some change in behavior, i.e. new \"well-defined semantics\", fixing bugs (plus many removals of deprecated classes, functions and methods, and removed some of the C API and outdated modules): \"The [old] implementation of locals() and frame.f_locals is slow, inconsistent and buggy [and it has] has many corner cases and oddities. Code that works around those may need to be changed. Code that uses locals() for simple templating, or print debugging, will continue to work correctly.\"[67]\\n\\nSince 7 October 2024[update], Python 3.13 is the latest stable release, and 3.13 and 3.12 are the only versions with active (as opposed to just security) support and Python 3.9 is the oldest supported version of Python (albeit in the \\'security support\\' phase), due to Python 3.8 reaching end-of-life.[68] Starting with 3.13, it and later versions have 2 years of full support (up from one and a half); followed by 3 years of security support (for same total support as before).\\n\\nSome (more) standard library modules and many deprecated classes, functions and methods, will be removed in Python 3.15 or 3.16.[69][70]\\n\\nDesign philosophy and features\\n\\n[edit]\\n\\nPython is a multi-paradigm programming language. Object-oriented programming and structured programming are fully supported, and many of their features support functional programming and aspect-oriented programming (including metaprogramming[71] and metaobjects).[72] Many other paradigms are supported via extensions, including design by contract[73][74] and logic programming.[75] Python is known as a glue language,[76] able to work very well with many other languages with ease of access.\\n\\nPython uses dynamic typing and a combination of reference counting and a cycle-detecting garbage collector for memory management.[77] It uses dynamic name resolution (late binding), which binds method and variable names during program execution.\\n\\nIts design offers some support for functional programming in the Lisp tradition. It has filter,mapandreduce functions; list comprehensions, dictionaries, sets, and generator expressions.[78] The standard library has two modules (itertools and functools) that implement functional tools borrowed from Haskell and Standard ML.[79]\\n\\nIts core philosophy is summarized in the Zen of Python (PEP 20), which includes aphorisms such as:[80]\\n\\nBeautiful is better than ugly.\\n\\nExplicit is better than implicit.\\n\\nSimple is better than complex.\\n\\nComplex is better than complicated.\\n\\nReadability counts.\\n\\nHowever, Python features regularly violate these principles and have received criticism for adding unnecessary language bloat.[81] Responses to these criticisms are that the Zen of Python is a guideline rather than a rule.[82] The addition of some new features had been so controversial that Guido van Rossum resigned as Benevolent Dictator for Life following vitriol over the addition of the assignment expression operator in Python 3.8.[83][84]\\n\\nNevertheless, rather than building all of its functionality into its core, Python was designed to be highly extensible via modules. This compact modularity has made it particularly popular as a means of adding programmable interfaces to existing applications. Van Rossum\\'s vision of a small core language with a large standard library and easily extensible interpreter stemmed from his frustrations with ABC, which espoused the opposite approach.[41]\\n\\nPython claims to strive for a simpler, less-cluttered syntax and grammar while giving developers a choice in their coding methodology. In contrast to Perl\\'s \"there is more than one way to do it\" motto, Python embraces a \"there should be one—and preferably only one—obvious way to do it.\" philosophy.[80] In practice, however, Python provides many ways to achieve the same task. There are, for example, at least three ways to format a string literal, with no certainty as to which one a programmer should use.[85] Alex Martelli, a Fellow at the Python Software Foundation and Python book author, wrote: \"To describe something as \\'clever\\' is not considered a compliment in the Python culture.\"[86]\\n\\nPython\\'s developers usually strive to avoid premature optimization and reject patches to non-critical parts of the CPython reference implementation that would offer marginal increases in speed at the cost of clarity.[87] Execution speed can be improved by moving speed-critical functions to extension modules written in languages such as C, or by using a just-in-time compiler like PyPy. It is also possible to cross-compile to other languages, but it either doesn\\'t provide the full speed-up that might be expected, since Python is a very dynamic language, or a restricted subset of Python is compiled, and possibly semantics are slightly changed.[88]\\n\\nPython\\'s developers aim for it to be fun to use. This is reflected in its name—a tribute to the British comedy group Monty Python[89]—and in occasionally playful approaches to tutorials and reference materials, such as the use of the terms \"spam\" and \"eggs\" (a reference to a Monty Python sketch) in examples, instead of the often-used \"foo\" and \"bar\".[90][91] A common neologism in the Python community is pythonic, which has a wide range of meanings related to program style. \"Pythonic\" code may use Python idioms well, be natural or show fluency in the language, or conform with Python\\'s minimalist philosophy and emphasis on readability. Code that is difficult to understand or reads like a rough transcription from another programming language is called unpythonic.[92]\\n\\nSyntax and semantics\\n\\n[edit]\\n\\nMain article: Python syntax and semantics\\n\\nPython is meant to be an easily readable language. Its formatting is visually uncluttered and often uses English keywords where other languages use punctuation. Unlike many other languages, it does not use curly brackets to delimit blocks, and semicolons after statements are allowed but rarely used. It has fewer syntactic exceptions and special cases than C or Pascal.[93]\\n\\nIndentation\\n\\n[edit]\\n\\nMain article: Python syntax and semantics § Indentation\\n\\nPython uses whitespace indentation, rather than curly brackets or keywords, to delimit blocks. An increase in indentation comes after certain statements; a decrease in indentation signifies the end of the current block.[94] Thus, the program\\'s visual structure accurately represents its semantic structure.[95] This feature is sometimes termed the off-side rule. Some other languages use indentation this way; but in most, indentation has no semantic meaning. The recommended indent size is four spaces.[96]\\n\\nStatements and control flow\\n\\n[edit]\\n\\nPython\\'s statements include:\\n\\nThe assignment statement, using a single equals sign =\\n\\nThe if statement, which conditionally executes a block of code, along with else and elif (a contraction of else-if)\\n\\nThe for statement, which iterates over an iterable object, capturing each element to a local variable for use by the attached block\\n\\nThe while statement, which executes a block of code as long as its condition is true\\n\\nThe try statement, which allows exceptions raised in its attached code block to be caught and handled by except clauses (or new syntax except* in Python 3.11 for exception groups[97]); it also ensures that clean-up code in a finally block is always run regardless of how the block exits\\n\\nThe raise statement, used to raise a specified exception or re-raise a caught exception\\n\\nThe class statement, which executes a block of code and attaches its local namespace to a class, for use in object-oriented programming\\n\\nThe def statement, which defines a function or method\\n\\nThe with statement, which encloses a code block within a context manager (for example, acquiring a lock before it is run, then releasing the lock; or opening and closing a file), allowing resource-acquisition-is-initialization (RAII)-like behavior and replacing a common try/finally idiom[98]\\n\\nThe break statement, which exits a loop\\n\\nThe continue statement, which skips the rest of the current iteration and continues with the next\\n\\nThe del statement, which removes a variable—deleting the reference from the name to the value, and producing an error if the variable is referred to before it is redefined\\n\\nThe pass statement, serving as a NOP, syntactically needed to create an empty code block\\n\\nThe assert statement, used in debugging to check for conditions that should apply\\n\\nThe yield statement, which returns a value from a generator function (and also an operator); used to implement coroutines\\n\\nThe return statement, used to return a value from a function\\n\\nThe import and from statements, used to import modules whose functions or variables can be used in the current program\\n\\nThe match and case statements, an analog of the switch statement construct, that compares an expression against one or more cases as a control-of-flow measure.\\n\\nThe assignment statement (=) binds a name as a reference to a separate, dynamically allocated object. Variables may subsequently be rebound at any time to any object. In Python, a variable name is a generic reference holder without a fixed data type; however, it always refers to some object with a type. This is called dynamic typing—in contrast to statically-typed languages, where each variable may contain only a value of a certain type.\\n\\nPython does not support tail call optimization or first-class continuations, and, according to Van Rossum, it never will.[99][100] However, better support for coroutine-like functionality is provided by extending Python\\'s generators.[101] Before 2.5, generators were lazy iterators; data was passed unidirectionally out of the generator. From Python 2.5 on, it is possible to pass data back into a generator function; and from version 3.3, it can be passed through multiple stack levels.[102]\\n\\nExpressions\\n\\n[edit]\\n\\nPython\\'s expressions include:\\n\\nThe +, -, and * operators for mathematical addition, subtraction, and multiplication are similar to other languages, but the behavior of division differs. There are two types of divisions in Python: floor division (or integer division) // and floating-point/division.[103] Python uses the ** operator for exponentiation.\\n\\nPython uses the + operator for string concatenation. Python uses the * operator for duplicating a string a specified number of times.\\n\\nThe @ infix operator. It is intended to be used by libraries such as NumPy for matrix multiplication.[104][105]\\n\\nThe syntax :=, called the \"walrus operator\", was introduced in Python 3.8. It assigns values to variables as part of a larger expression.[106]\\n\\nIn Python, == compares by value. Python\\'s is operator may be used to compare object identities (comparison by reference), and comparisons may be chained—for example, a <= b <= c.\\n\\nPython uses and, or, and not as Boolean operators.\\n\\nPython has a type of expression named a list comprehension, and a more general expression named a generator expression.[78]\\n\\nAnonymous functions are implemented using lambda expressions; however, there may be only one expression in each body.\\n\\nConditional expressions are written as x if c else y[107] (different in order of operands from the c ? x : y operator common to many other languages).\\n\\nPython makes a distinction between lists and tuples. Lists are written as [1, 2, 3], are mutable, and cannot be used as the keys of dictionaries (dictionary keys must be immutable in Python). Tuples, written as (1, 2, 3), are immutable and thus can be used as keys of dictionaries, provided all of the tuple\\'s elements are immutable. The + operator can be used to concatenate two tuples, which does not directly modify their contents, but produces a new tuple containing the elements of both. Thus, given the variable t initially equal to (1, 2, 3), executing t = t + (4, 5) first evaluates t + (4, 5), which yields (1, 2, 3, 4, 5), which is then assigned back to t—thereby effectively \"modifying the contents\" of t while conforming to the immutable nature of tuple objects. Parentheses are optional for tuples in unambiguous contexts.[108]\\n\\nPython features sequence unpacking where multiple expressions, each evaluating to anything that can be assigned (to a variable, writable property, etc.) are associated in an identical manner to that forming tuple literals—and, as a whole, are put on the left-hand side of the equal sign in an assignment statement. The statement expects an iterable object on the right-hand side of the equal sign that produces the same number of values as the provided writable expressions; when iterated through them, it assigns each of the produced values to the corresponding expression on the left.[109]\\n\\nPython has a \"string format\" operator % that functions analogously to printf format strings in C—e.g. \"spam=%s eggs=%d\" % (\"blah\", 2) evaluates to \"spam=blah eggs=2\". In Python 2.6+ and 3+, this was supplemented by the format() method of the str class, e.g. \"spam={0} eggs={1}\".format(\"blah\", 2). Python 3.6 added \"f-strings\": spam = \"blah\"; eggs = 2; f\\'spam={spam} eggs={eggs}\\'.[110]\\n\\nStrings in Python can be concatenated by \"adding\" them (with the same operator as for adding integers and floats), e.g. \"spam\" + \"eggs\" returns \"spameggs\". If strings contain numbers, they are added as strings rather than integers, e.g. \"2\" + \"2\" returns \"22\".\\n\\nPython has various string literals:\\n\\nDelimited by single or double quotes; unlike in Unix shells, Perl, and Perl-influenced languages, single and double quotes work the same. Both use the backslash (\\\\) as an escape character. String interpolation became available in Python 3.6 as \"formatted string literals\".[110]\\n\\nTriple-quoted (beginning and ending with three single or double quotes), which may span multiple lines and function like here documents in shells, Perl, and Ruby.\\n\\nRaw string varieties, denoted by prefixing the string literal with r. Escape sequences are not interpreted; hence raw strings are useful where literal backslashes are common, such as regular expressions and Windows-style paths. (Compare \"@-quoting\" in C#.)\\n\\nPython has array index and array slicing expressions in lists, denoted as a[key], a[start:stop] or a[start:stop:step]. Indexes are zero-based, and negative indexes are relative to the end. Slices take elements from the start index up to, but not including, the stop index. The third slice parameter, called step or stride, allows elements to be skipped and reversed. Slice indexes may be omitted—for example, a[:] returns a copy of the entire list. Each element of a slice is a shallow copy.\\n\\nIn Python, a distinction between expressions and statements is rigidly enforced, in contrast to languages such as Common Lisp, Scheme, or Ruby. This leads to duplicating some functionality. For example:\\n\\nList comprehensions vs. for-loops\\n\\nConditional expressions vs. if blocks\\n\\nThe eval() vs. exec() built-in functions (in Python 2, exec is a statement); the former is for expressions, the latter is for statements\\n\\nStatements cannot be a part of an expression—so list and other comprehensions or lambda expressions, all being expressions, cannot contain statements. A particular case is that an assignment statement such as a = 1 cannot form part of the conditional expression of a conditional statement.\\n\\nMethods\\n\\n[edit]\\n\\nMethods on objects are functions attached to the object\\'s class; the syntax instance.method(argument) is, for normal methods and functions, syntactic sugar for Class.method(instance, argument). Python methods have an explicit self parameter to access instance data, in contrast to the implicit self (or this) in some other object-oriented programming languages (e.g., C++, Java, Objective-C, Ruby).[111] Python also provides methods, often called dunder methods (due to their names beginning and ending with double-underscores), to allow user-defined classes to modify how they are handled by native operations including length, comparison, in arithmetic operations and type conversion.[112]\\n\\nTyping\\n\\n[edit]\\n\\nPython uses duck typing and has typed objects but untyped variable names. Type constraints are not checked at compile time; rather, operations on an object may fail, signifying that it is not of a suitable type. Despite being dynamically typed, Python is strongly typed, forbidding operations that are not well-defined (for example, adding a number to a string) rather than silently attempting to make sense of them.\\n\\nPython allows programmers to define their own types using classes, most often used for object-oriented programming. New instances of classes are constructed by calling the class (for example, SpamClass() or EggsClass()), and the classes are instances of the metaclass type (itself an instance of itself), allowing metaprogramming and reflection.\\n\\nBefore version 3.0, Python had two kinds of classes (both using the same syntax): old-style and new-style;[113] current Python versions only support the semantics of the new style.\\n\\nPython supports optional type annotations.[4][114] These annotations are not enforced by the language, but may be used by external tools such as mypy to catch errors.[115][116] Mypy also supports a Python compiler called mypyc, which leverages type annotations for optimization.[117]\\n\\nType Mutability Description Syntax examples bool immutable Boolean value True False bytearray mutable Sequence of bytes bytearray ( b \\'Some ASCII\\' ) bytearray ( b \"Some ASCII\" ) bytearray ([ 119 , 105 , 107 , 105 ]) bytes immutable Sequence of bytes b \\'Some ASCII\\' b \"Some ASCII\" bytes ([ 119 , 105 , 107 , 105 ]) complex immutable Complex number with real and imaginary parts 3 + 2.7 j 3 + 2.7 j dict mutable Associative array (or dictionary) of key and value pairs; can contain mixed types (keys and values), keys must be a hashable type { \\'key1\\' : 1.0 , 3 : False } {} types.EllipsisType immutable An ellipsis placeholder to be used as an index in NumPy arrays ... Ellipsis float immutable Double-precision floating-point number . The precision is machine-dependent but in practice is generally implemented as a 64-bit IEEE\\xa0754 number with 53\\xa0bits of precision. [ 118 ] 1.33333 frozenset immutable Unordered set , contains no duplicates; can contain mixed types, if hashable frozenset ([ 4.0 , \\'string\\' , True ]) int immutable Integer of unlimited magnitude [ 119 ] 42 list mutable List , can contain mixed types [ 4.0 , \\'string\\' , True ] [] types.NoneType immutable An object representing the absence of a value, often called null in other languages None types.NotImplementedType immutable A placeholder that can be returned from overloaded operators to indicate unsupported operand types. NotImplemented range immutable An immutable sequence of numbers commonly used for looping a specific number of times in for loops [ 120 ] range ( − 1 , 10 ) range ( 10 , − 5 , − 2 ) set mutable Unordered set , contains no duplicates; can contain mixed types, if hashable { 4.0 , \\'string\\' , True } set () str immutable A character string : sequence of Unicode codepoints \\'Wikipedia\\' \"Wikipedia\" \"\"\"Spanning multiple lines\"\"\" Spanning multiple lines tuple immutable Can contain mixed types ( 4.0 , \\'string\\' , True ) ( \\'single element\\' ,) ()\\n\\nArithmetic operations\\n\\n[edit]\\n\\nPython has the usual symbols for arithmetic operators (+, -, *, /), the floor division operator // and the modulo operation % (where the remainder can be negative, e.g. 4 % -3 == -2). It also has ** for exponentiation, e.g. 5**3 == 125 and 9**0.5 == 3.0, and a matrix‑multiplication operator @ .[121] These operators work like in traditional math; with the same precedence rules, the operators infix (+ and - can also be unary to represent positive and negative numbers respectively).\\n\\nThe division between integers produces floating-point results. The behavior of division has changed significantly over time:[122]\\n\\nCurrent Python (i.e. since 3.0) changed / to always be floating-point division, e.g. 5/2 == 2.5.\\n\\nThe floor division // operator was introduced. So 7//3 == 2, -7//3 == -3, 7.5//3 == 2.0 and -7.5//3 == -3.0. Adding from __future__ import division causes a module used in Python 2.7 to use Python 3.0 rules for division (see above).\\n\\nIn Python terms, / is true division (or simply division), and // is floor division. / before version 3.0 is classic division.[122]\\n\\nRounding towards negative infinity, though different from most languages, adds consistency. For instance, it means that the equation (a + b)//b == a//b + 1 is always true. It also means that the equation b*(a//b) + a%b == a is valid for both positive and negative values of a. However, maintaining the validity of this equation means that while the result of a%b is, as expected, in the half-open interval [0, b), where b is a positive integer, it has to lie in the interval (b, 0] when b is negative.[123]\\n\\nPython provides a round function for rounding a float to the nearest integer. For tie-breaking, Python 3 uses round to even: round(1.5) and round(2.5) both produce 2.[124] Versions before 3 used round-away-from-zero: round(0.5) is 1.0, round(-0.5) is −1.0.[125]\\n\\nPython allows Boolean expressions with multiple equality relations in a manner that is consistent with general use in mathematics. For example, the expression a < b < c tests whether a is less than b and b is less than c.[126] C-derived languages interpret this expression differently: in C, the expression would first evaluate a < b, resulting in 0 or 1, and that result would then be compared with c.[127]\\n\\nPython uses arbitrary-precision arithmetic for all integer operations. The Decimal type/class in the decimal module provides decimal floating-point numbers to a pre-defined arbitrary precision and several rounding modes.[128] The Fraction class in the fractions module provides arbitrary precision for rational numbers.[129]\\n\\nDue to Python\\'s extensive mathematics library, and the third-party library NumPy that further extends the native capabilities, it is frequently used as a scientific scripting language to aid in problems such as numerical data processing and manipulation.[130][131]\\n\\nProgramming examples\\n\\n[edit]\\n\\n\"Hello, World!\" program:\\n\\nprint(\\'Hello, world!\\')\\n\\nProgram to calculate the factorial of a positive integer:\\n\\nn = int(input(\\'Type a number, and its factorial will be printed: \\'))\\n\\nif n < 0:\\n    raise ValueError(\\'You must enter a non-negative integer\\')\\n\\nfactorial = 1\\nfor i in range(2, n + 1):\\n    factorial *= i\\n\\nprint(factorial)\\n\\nLibraries\\n\\n[edit]\\n\\nPython\\'s large standard library[132] provides tools suited to many tasks and is commonly cited as one of its greatest strengths. For Internet-facing applications, many standard formats and protocols such as MIME and HTTP are supported. It includes modules for creating graphical user interfaces, connecting to relational databases, generating pseudorandom numbers, arithmetic with arbitrary-precision decimals,[128] manipulating regular expressions, and unit testing.\\n\\nSome parts of the standard library are covered by specifications—for example, the Web Server Gateway Interface (WSGI) implementation wsgiref follows PEP 333[133]—but most are specified by their code, internal documentation, and test suites. However, because most of the standard library is cross-platform Python code, only a few modules need altering or rewriting for variant implementations.\\n\\nAs of 17 March 2024,[update] the Python Package Index (PyPI), the official repository for third-party Python software, contains over 523,000[134] packages with a wide range of functionality, including:\\n\\nAutomation\\n\\nData analytics\\n\\nDatabases\\n\\nDocumentation\\n\\nGraphical user interfaces\\n\\nImage processing\\n\\nMachine learning\\n\\nMobile apps\\n\\nMultimedia\\n\\nComputer networking\\n\\nScientific computing\\n\\nSystem administration\\n\\nTest frameworks\\n\\nText processing\\n\\nWeb frameworks\\n\\nWeb scraping\\n\\nDevelopment environments\\n\\n[edit]\\n\\nSee also: Comparison of integrated development environments § Python\\n\\nMost Python implementations (including CPython) include a read–eval–print loop (REPL), permitting them to function as a command line interpreter for which users enter statements sequentially and receive results immediately.\\n\\nPython also comes with an Integrated development environment (IDE) called IDLE, which is more beginner-oriented.\\n\\nOther shells, including IDLE and IPython, add further abilities such as improved auto-completion, session state retention, and syntax highlighting.\\n\\nAs well as standard desktop integrated development environments including PyCharm, IntelliJ Idea, Visual Studio Code etc, there are web browser-based IDEs, including SageMath, for developing science- and math-related programs; PythonAnywhere, a browser-based IDE and hosting environment; and Canopy IDE, a commercial IDE emphasizing scientific computing.[135]\\n\\nImplementations\\n\\n[edit]\\n\\nSee also: List of Python software § Python implementations\\n\\nReference implementation\\n\\n[edit]\\n\\nCPython is the reference implementation of Python. It is written in C, meeting the C89 standard (Python 3.11 uses C11[136]) with several select C99 features. CPython includes its own C extensions, but third-party extensions are not limited to older C versions—e.g. they can be implemented with C11 or C++.[137][138] CPython compiles Python programs into an intermediate bytecode[139] which is then executed by its virtual machine.[140] CPython is distributed with a large standard library written in a mixture of C and native Python, and is available for many platforms, including Windows (starting with Python 3.9, the Python installer deliberately fails to install on Windows 7 and 8;[141][142] Windows XP was supported until Python 3.5) and most modern Unix-like systems, including macOS (and Apple M1 Macs, since Python 3.9.1, with experimental installer), with unofficial support for VMS.[143] Platform portability was one of its earliest priorities.[144] (During Python 1 and 2 development, even OS/2 and Solaris were supported,[145] but support has since been dropped for many platforms.)\\n\\nAll current Python versions (i.e. since 3.7) only support operating systems with multi-threading support.\\n\\nOther implementations\\n\\n[edit]\\n\\nPyPy is a fast, compliant interpreter of Python 2.7 and 3.10.[146][147] Its just-in-time compiler often brings a significant speed improvement over CPython, but some libraries written in C cannot be used with it.[148]\\n\\nStackless Python is a significant fork of CPython that implements microthreads; it does not use the call stack in the same way, thus allowing massively concurrent programs. PyPy also has a stackless version.[149]\\n\\nMicroPython and CircuitPython are Python 3 variants optimized for microcontrollers, including Lego Mindstorms EV3.[150]\\n\\nPyston is a variant of the Python runtime that uses just-in-time compilation to speed up the execution of Python programs.[151]\\n\\nCinder is a performance-oriented fork of CPython 3.8 that contains a number of optimizations, including bytecode inline caching, eager evaluation of coroutines, a method-at-a-time JIT, and an experimental bytecode compiler.[152]\\n\\nSnek[153][154][155] Embedded Computing Language (compatible with e.g. 8-bit AVR microcontrollers such as ATmega 328P-based Arduino, as well as larger ones compatible with MicroPython) \"is Python-inspired, but it is not Python. It is possible to write Snek programs that run under a full Python system, but most Python programs will not run under Snek.\"[156] It is an imperative language not including OOP / classes, unlike Python, and simplifying to one number type with 32-bit single-precision (similar to JavaScript, except smaller).\\n\\nNo longer supported implementations\\n\\n[edit]\\n\\nOther just-in-time Python compilers have been developed, but are now unsupported:\\n\\nGoogle began a project named Unladen Swallow in 2009, with the aim of speeding up the Python interpreter five-fold by using the LLVM, and of improving its multithreading ability to scale to thousands of cores,[157] while ordinary implementations suffer from the global interpreter lock.\\n\\nPsyco is a discontinued just-in-time specializing compiler that integrates with CPython and transforms bytecode to machine code at runtime. The emitted code is specialized for certain data types and is faster than the standard Python code. Psyco does not support Python 2.7 or later.\\n\\nPyS60 was a Python 2 interpreter for Series 60 mobile phones released by Nokia in 2005. It implemented many of the modules from the standard library and some additional modules for integrating with the Symbian operating system. The Nokia N900 also supports Python with GTK widget libraries, enabling programs to be written and run on the target device.[158]\\n\\nCross-compilers to other languages\\n\\n[edit]\\n\\nThere are several compilers/transpilers to high-level object languages, with either unrestricted Python, a restricted subset of Python, or a language similar to Python as the source language:\\n\\nBrython,[159] Transcrypt[160][161] and Pyjs (latest release in 2012) compile Python to JavaScript.\\n\\nCodon compiles a subset of statically typed Python[162] to machine code (via LLVM) and supports native multithreading.[163]\\n\\nCython compiles (a superset of) Python to C. The resulting code is also usable with Python via direct C-level API calls into the Python interpreter.\\n\\nPyJL compiles/transpiles a subset of Python to \"human-readable, maintainable, and high-performance Julia source code\".[88] Despite claiming high performance, no tool can claim to do that for arbitrary Python code; i.e. it\\'s known not possible to compile to a faster language or machine code. Unless semantics of Python are changed, but in many cases speedup is possible with few or no changes in the Python code. The faster Julia source code can then be used from Python, or compiled to machine code, and based that way.\\n\\nNuitka compiles Python into C.[164]\\n\\nNumba uses LLVM to compile a subset of Python to machine code.\\n\\nPythran compiles a subset of Python 3 to C++ (C++11).[165]\\n\\nRPython can be compiled to C, and is used to build the PyPy interpreter of Python.\\n\\nThe Python → 11l → C++ transpiler[166] compiles a subset of Python 3 to C++ (C++17).\\n\\nSpecialized:\\n\\nMyHDL is a Python-based hardware description language (HDL), that converts MyHDL code to Verilog or VHDL code.\\n\\nOlder projects (or not to be used with Python 3.x and latest syntax):\\n\\nGoogle\\'s Grumpy (latest release in 2017) transpiles Python 2 to Go.[167][168][169]\\n\\nIronPython allows running Python 2.7 programs (and an alpha, released in 2021, is also available for \"Python 3.4, although features and behaviors from later versions may be included\"[170]) on the .NET Common Language Runtime.[171]\\n\\nJython compiles Python 2.7 to Java bytecode, allowing the use of the Java libraries from a Python program.[172]\\n\\nPyrex (latest release in 2010) and Shed Skin (latest release in 2013) compile to C and C++ respectively.\\n\\nPerformance\\n\\n[edit]\\n\\nPerformance comparison of various Python implementations on a non-numerical (combinatorial) workload was presented at EuroSciPy \\'13.[173] Python\\'s performance compared to other programming languages is also benchmarked by The Computer Language Benchmarks Game.[174]\\n\\nDevelopment\\n\\n[edit]\\n\\nPython\\'s development is conducted largely through the Python Enhancement Proposal (PEP) process, the primary mechanism for proposing major new features, collecting community input on issues, and documenting Python design decisions.[175] Python coding style is covered in PEP 8.[176] Outstanding PEPs are reviewed and commented on by the Python community and the steering council.[175]\\n\\nEnhancement of the language corresponds with the development of the CPython reference implementation. The mailing list python-dev is the primary forum for the language\\'s development. Specific issues were originally discussed in the Roundup bug tracker hosted at by the foundation.[177] In 2022, all issues and discussions were migrated to GitHub.[178] Development originally took place on a self-hosted source-code repository running Mercurial, until Python moved to GitHub in January 2017.[179]\\n\\nCPython\\'s public releases come in three types, distinguished by which part of the version number is incremented:\\n\\nBackward-incompatible versions, where code is expected to break and needs to be manually ported. The first part of the version number is incremented. These releases happen infrequently—version 3.0 was released 8 years after 2.0. According to Guido van Rossum, a version 4.0 is very unlikely to ever happen.[180]\\n\\nMajor or \"feature\" releases are largely compatible with the previous version but introduce new features. The second part of the version number is incremented. Starting with Python 3.9, these releases are expected to happen annually.[181][182] Each major version is supported by bug fixes for several years after its release.[183]\\n\\nBugfix releases,[184] which introduce no new features, occur about every 3 months and are made when a sufficient number of bugs have been fixed upstream since the last release. Security vulnerabilities are also patched in these releases. The third and final part of the version number is incremented.[184]\\n\\nMany alpha, beta, and release-candidates are also released as previews and for testing before final releases. Although there is a rough schedule for each release, they are often delayed if the code is not ready. Python\\'s development team monitors the state of the code by running the large unit test suite during development.[185]\\n\\nThe major academic conference on Python is PyCon. There are also special Python mentoring programs, such as PyLadies.\\n\\nPython 3.12 removed wstr meaning Python extensions[186] need to be modified,[187] and 3.10 added pattern matching to the language.[188]\\n\\nPython 3.12 dropped some outdated modules, and more will be dropped in the future, deprecated as of 3.13; already deprecated array \\'u\\' format code will emit DeprecationWarning since 3.13 and will be removed in Python 3.16. The \\'w\\' format code should be used instead. Part of ctypes is also deprecated and http.server.CGIHTTPRequestHandler will emit a DeprecationWarning, and will be removed in 3.15. Using that code already has a high potential for both security and functionality bugs. Parts of the typing module are deprecated, e.g. creating a typing.NamedTuple class using keyword arguments to denote the fields and such (and more) will be disallowed in Python 3.15.\\n\\nAPI documentation generators\\n\\n[edit]\\n\\nTools that can generate documentation for Python API include pydoc (available as part of the standard library), Sphinx, Pdoc and its forks, Doxygen and Graphviz, among others.[189]\\n\\nNaming\\n\\n[edit]\\n\\nPython\\'s name is derived from the British comedy group Monty Python, whom Python creator Guido van Rossum enjoyed while developing the language. Monty Python references appear frequently in Python code and culture;[190] for example, the metasyntactic variables often used in Python literature are spam and eggs instead of the traditional foo and bar.[190][191] The official Python documentation also contains various references to Monty Python routines.[192][193] Users of Python are sometimes referred to as \"Pythonistas\".[194]\\n\\nThe prefix Py- is used to show that something is related to Python. Examples of the use of this prefix in names of Python applications or libraries include Pygame, a binding of Simple DirectMedia Layer to Python (commonly used to create games); PyQt and PyGTK, which bind Qt and GTK to Python respectively; and PyPy, a Python implementation originally written in Python.\\n\\nPopularity\\n\\n[edit]\\n\\nSince 2003, Python has consistently ranked in the top ten most popular programming languages in the TIOBE Programming Community Index where as of December 2022[update] it was the most popular language (ahead of C, C++, and Java).[39] It was selected as Programming Language of the Year (for \"the highest rise in ratings in a year\") in 2007, 2010, 2018, and 2020 (the only language to have done so four times as of 2020[update][195]).\\n\\nLarge organizations that use Python include Wikipedia, Google,[196] Yahoo!,[197] CERN,[198] NASA,[199] Facebook,[200] Amazon, Instagram,[201] Spotify,[202] and some smaller entities like Industrial Light & Magic[203] and ITA.[204] The social news networking site Reddit was written mostly in Python.[205] Organizations that partially use Python include Discord[206] and Baidu.[207]\\n\\nUses\\n\\n[edit]\\n\\nMain article: List of Python software\\n\\nPython can serve as a scripting language for web applications, e.g. via mod_wsgi for the Apache webserver.[208] With Web Server Gateway Interface, a standard API has evolved to facilitate these applications. Web frameworks like Django, Pylons, Pyramid, TurboGears, web2py, Tornado, Flask, Bottle, and Zope support developers in the design and maintenance of complex applications. Pyjs and IronPython can be used to develop the client-side of Ajax-based applications. SQLAlchemy can be used as a data mapper to a relational database. Twisted is a framework to program communications between computers, and is used (for example) by Dropbox.\\n\\nLibraries such as NumPy, SciPy and Matplotlib allow the effective use of Python in scientific computing,[209][210] with specialized libraries such as Biopython and Astropy providing domain-specific functionality. SageMath is a computer algebra system with a notebook interface programmable in Python: its library covers many aspects of mathematics, including algebra, combinatorics, numerical mathematics, number theory, and calculus.[211] OpenCV has Python bindings with a rich set of features for computer vision and image processing.[212]\\n\\nPython is commonly used in artificial intelligence projects and machine learning projects with the help of libraries like TensorFlow, Keras, Pytorch, scikit-learn and the Logic language ProbLog.[213][214][215][216][217] As a scripting language with a modular architecture, simple syntax, and rich text processing tools, Python is often used for natural language processing.[218]\\n\\nThe combination of Python and Prolog has proved to be particularly useful for AI applications, with Prolog providing knowledge representation and reasoning capabilities. The Janus system, in particular, exploits the similarities between these two languages, in part because of their use of dynamic typing, and the simple recursive nature of their data structures. Typical applications of this combination include natural language processing, visual query answering, geospatial reasoning, and handling of semantic web data.[219][220] The Natlog system, implemented in Python, uses Definite Clause Grammars (DCGs) as prompt generators for text-to-text generators like GPT3 and text-to-image generators like DALL-E or Stable Diffusion.[221]\\n\\nPython can also be used for graphical user interface (GUI) by using libraries like Tkinter.[222][223]\\n\\nPython has been successfully embedded in many software products as a scripting language, including in finite element method software such as Abaqus, 3D parametric modelers like FreeCAD, 3D animation packages such as 3ds Max, Blender, Cinema 4D, Lightwave, Houdini, Maya, modo, MotionBuilder, Softimage, the visual effects compositor Nuke, 2D imaging programs like GIMP,[224] Inkscape, Scribus and Paint Shop Pro,[225] and musical notation programs like scorewriter and capella. GNU Debugger uses Python as a pretty printer to show complex structures such as C++ containers. Esri promotes Python as the best choice for writing scripts in ArcGIS.[226] It has also been used in several video games,[227][228] and has been adopted as first of the three available programming languages in Google App Engine, the other two being Java and Go.[229]\\n\\nMany operating systems include Python as a standard component. It ships with most Linux distributions,[230] AmigaOS 4 (using Python 2.7), FreeBSD (as a package), NetBSD, and OpenBSD (as a package) and can be used from the command line (terminal). Many Linux distributions use installers written in Python: Ubuntu uses the Ubiquity installer, while Red Hat Linux and Fedora Linux use the Anaconda installer. Gentoo Linux uses Python in its package management system, Portage.\\n\\nPython is used extensively in the information security industry, including in exploit development.[231][232]\\n\\nMost of the Sugar software for the One Laptop per Child XO, developed at Sugar Labs as of 2008[update], is written in Python.[233] The Raspberry Pi single-board computer project has adopted Python as its main user-programming language.\\n\\nLibreOffice includes Python and intends to replace Java with Python. Its Python Scripting Provider is a core feature[234] since Version 4.0 from 7 February 2013.\\n\\nLanguages influenced by Python\\n\\n[edit]\\n\\nPython\\'s design and philosophy have influenced many other programming languages:\\n\\nBoo uses indentation, a similar syntax, and a similar object model.[235]\\n\\nCobra uses indentation and a similar syntax, and its Acknowledgements document lists Python first among languages that influenced it.[236]\\n\\nCoffeeScript, a programming language that cross-compiles to JavaScript, has Python-inspired syntax.\\n\\nECMAScript–JavaScript borrowed iterators and generators from Python.[237]\\n\\nGDScript, a scripting language very similar to Python, built-in to the Godot game engine.[238]\\n\\nGo is designed for the \"speed of working in a dynamic language like Python\"[239] and shares the same syntax for slicing arrays.\\n\\nGroovy was motivated by the desire to bring the Python design philosophy to Java.[240]\\n\\nJulia was designed to be \"as usable for general programming as Python\".[27]\\n\\nMojo is a non-strict[28][241] superset of Python (e.g. still missing classes, and adding e.g. struct).[242]\\n\\nNim uses indentation and similar syntax.[243]\\n\\nRuby\\'s creator, Yukihiro Matsumoto, has said: \"I wanted a scripting language that was more powerful than Perl, and more object-oriented than Python. That\\'s why I decided to design my own language.\"[244]\\n\\nSwift, a programming language developed by Apple, has some Python-inspired syntax.[245]\\n\\nKotlin blends Python and Java features, minimizing boilerplate code for enhanced developer efficiency.[246]\\n\\nPython\\'s development practices have also been emulated by other languages. For example, the practice of requiring a document describing the rationale for, and issues surrounding, a change to the language (in Python, a PEP) is also used in Tcl,[247] Erlang,[248] and Swift.[249]\\n\\nSee also\\n\\n[edit]\\n\\nComputer programming portal\\n\\nFree and open-source software portal\\n\\nPython syntax and semantics\\n\\npip (package manager)\\n\\nList of programming languages\\n\\nHistory of programming languages\\n\\nComparison of programming languages\\n\\nReferences\\n\\n[edit]\\n\\n^ \"General Python FAQ – Python 3 documentation\". docs.python.org. Retrieved 7 July 2024.\\n\\n^ \"Python 0.9.1 part 01/21\". alt.sources archives. Archived from the original on 11 August 2021. Retrieved 11 August 2021.\\n\\n^ \"Why is Python a dynamic language and also a strongly typed language\". Python Wiki. Archived from the original on 14 March 2021. Retrieved 27 January 2021.\\n\\n^ a b \"PEP 483 – The Theory of Type Hints\". Python.org. Archived from the original on 14 June 2020. Retrieved 14 June 2018.\\n\\n^ \"PEP 11 – CPython platform support | peps.python.org\". Python Enhancement Proposals (PEPs). Retrieved 22 April 2024.\\n\\n^ \"PEP 738 – Adding Android as a supported platform | peps.python.org\". Python Enhancement Proposals (PEPs). Retrieved 19 May 2024.\\n\\n^ \"Download Python for Other Platforms\". Python.org. Archived from the original on 27 November 2020. Retrieved 18 August 2023.\\n\\n^ \"test – Regression tests package for Python – Python 3.7.13 documentation\". docs.python.org. Archived from the original on 17 May 2022. Retrieved 17 May 2022.\\n\\n^ \"platform – Access to underlying platform\\'s identifying data – Python 3.10.4 documentation\". docs.python.org. Archived from the original on 17 May 2022. Retrieved 17 May 2022.\\n\\n^ Holth, Moore (30 March 2014). \"PEP 0441 – Improving Python ZIP Application Support\". Archived from the original on 26 December 2018. Retrieved 12 November 2015.\\n\\n^ \"Starlark Language\". Archived from the original on 15 June 2020. Retrieved 25 May 2019.\\n\\n^ a b \"Why was Python created in the first place?\". General Python FAQ. Python Software Foundation. Archived from the original on 24 October 2012. Retrieved 22 March 2007. I had extensive experience with implementing an interpreted language in the ABC group at CWI, and from working with this group I had learned a lot about language design. This is the origin of many Python features, including the use of indentation for statement grouping and the inclusion of very high-level data types (although the details are all different in Python).\\n\\n^ \"Ada 83 Reference Manual (raise statement)\". Archived from the original on 22 October 2019. Retrieved 7 January 2020.\\n\\n^ a b Kuchling, Andrew M. (22 December 2006). \"Interview with Guido van Rossum (July 1998)\". amk.ca. Archived from the original on 1 May 2007. Retrieved 12 March 2012. I\\'d spent a summer at DEC\\'s Systems Research Center, which introduced me to Modula-2+; the Modula-3 final report was being written there at about the same time. What I learned there later showed up in Python\\'s exception handling, modules, and the fact that methods explicitly contain \\'self\\' in their parameter list. String slicing came from Algol-68 and Icon.\\n\\n^ a b c \"itertools – Functions creating iterators for efficient looping – Python 3.7.1 documentation\". docs.python.org. Archived from the original on 14 June 2020. Retrieved 22 November 2016. This module implements a number of iterator building blocks inspired by constructs from APL, Haskell, and SML.\\n\\n^ van Rossum, Guido (1993). \"An Introduction to Python for UNIX/C Programmers\". Proceedings of the NLUUG Najaarsconferentie (Dutch UNIX Users Group). CiteSeerX 10.1.1.38.2023. even though the design of C is far from ideal, its influence on Python is considerable.\\n\\n^ a b \"Classes\". The Python Tutorial. Python Software Foundation. Archived from the original on 23 October 2012. Retrieved 20 February 2012. It is a mixture of the class mechanisms found in C++ and Modula-3\\n\\n^ Lundh, Fredrik. \"Call By Object\". effbot.org. Archived from the original on 23 November 2019. Retrieved 21 November 2017. replace \"CLU\" with \"Python\", \"record\" with \"instance\", and \"procedure\" with \"function or method\", and you get a pretty accurate description of Python\\'s object model.\\n\\n^ Simionato, Michele. \"The Python 2.3 Method Resolution Order\". Python Software Foundation. Archived from the original on 20 August 2020. Retrieved 29 July 2014. The C3 method itself has nothing to do with Python, since it was invented by people working on Dylan and it is described in a paper intended for lispers\\n\\n^ Kuchling, A. M. \"Functional Programming HOWTO\". Python v2.7.2 documentation. Python Software Foundation. Archived from the original on 24 October 2012. Retrieved 9 February 2012. List comprehensions and generator expressions [...] are a concise notation for such operations, borrowed from the functional programming language Haskell.\\n\\n^ Schemenauer, Neil; Peters, Tim; Hetland, Magnus Lie (18 May 2001). \"PEP 255 – Simple Generators\". Python Enhancement Proposals. Python Software Foundation. Archived from the original on 5 June 2020. Retrieved 9 February 2012.\\n\\n^ \"More Control Flow Tools\". Python 3 documentation. Python Software Foundation. Archived from the original on 4 June 2016. Retrieved 24 July 2015. By popular demand, a few features commonly found in functional programming languages like Lisp have been added to Python. With the lambda keyword, small anonymous functions can be created.\\n\\n^ \"re – Regular expression operations – Python 3.10.6 documentation\". docs.python.org. Archived from the original on 18 July 2018. Retrieved 6 September 2022. This module provides regular expression matching operations similar to those found in Perl.\\n\\n^ \"CoffeeScript\". coffeescript.org. Archived from the original on 12 June 2020. Retrieved 3 July 2018.\\n\\n^ \"Perl and Python influences in JavaScript\". www.2ality.com. 24 February 2013. Archived from the original on 26 December 2018. Retrieved 15 May 2015.\\n\\n^ Rauschmayer, Axel. \"Chapter 3: The Nature of JavaScript; Influences\". O\\'Reilly, Speaking JavaScript. Archived from the original on 26 December 2018. Retrieved 15 May 2015.\\n\\n^ a b \"Why We Created Julia\". Julia website. February 2012. Archived from the original on 2 May 2020. Retrieved 5 June 2014. We want something as usable for general programming as Python [...]\\n\\n^ a b Krill, Paul (4 May 2023). \"Mojo language marries Python and MLIR for AI development\". InfoWorld. Archived from the original on 5 May 2023. Retrieved 5 May 2023.\\n\\n^ Ring Team (4 December 2017). \"Ring and other languages\". ring-lang.net. ring-lang. Archived from the original on 25 December 2018. Retrieved 4 December 2017.\\n\\n^ Bini, Ola (2007). Practical JRuby on Rails Web 2.0 Projects: bringing Ruby on Rails to the Java platform. Berkeley: APress. p. 3. ISBN 978-1-59059-881-8.\\n\\n^ Lattner, Chris (3 June 2014). \"Chris Lattner\\'s Homepage\". Chris Lattner. Archived from the original on 25 December 2018. Retrieved 3 June 2014. The Swift language is the product of tireless effort from a team of language experts, documentation gurus, compiler optimization ninjas, and an incredibly important internal dogfooding group who provided feedback to help refine and battle-test ideas. Of course, it also greatly benefited from the experiences hard-won by many other languages in the field, drawing ideas from Objective-C, Rust, Haskell, Ruby, Python, C#, CLU, and far too many others to list.\\n\\n^ Kuhlman, Dave. \"A Python Book: Beginning Python, Advanced Python, and Python Exercises\". Section 1.1. Archived from the original (PDF) on 23 June 2012.\\n\\n^ \"About Python\". Python Software Foundation. Archived from the original on 20 April 2012. Retrieved 24 April 2012., second section \"Fans of Python use the phrase \"batteries included\" to describe the standard library, which covers everything from asynchronous processing to zip files.\"\\n\\n^ \"PEP 206 – Python Advanced Library\". Python.org. Archived from the original on 5 May 2021. Retrieved 11 October 2021.\\n\\n^ Rossum, Guido Van (20 January 2009). \"The History of Python: A Brief Timeline of Python\". The History of Python. Archived from the original on 5 June 2020. Retrieved 5 March 2021.\\n\\n^ Peterson, Benjamin (20 April 2020). \"Python 2.7.18, the last release of Python 2\". Python Insider. Archived from the original on 26 April 2020. Retrieved 27 April 2020.\\n\\n^ \"Stack Overflow Developer Survey 2022\". Stack Overflow. Archived from the original on 27 June 2022. Retrieved 12 August 2022.\\n\\n^ \"The State of Developer Ecosystem in 2020 Infographic\". JetBrains: Developer Tools for Professionals and Teams. Archived from the original on 1 March 2021. Retrieved 5 March 2021.\\n\\n^ a b \"TIOBE Index\". TIOBE. Archived from the original on 25 February 2018. Retrieved 3 January 2023. The TIOBE Programming Community index is an indicator of the popularity of programming languages Updated as required.\\n\\n^ \"PYPL PopularitY of Programming Language index\". pypl.github.io. Archived from the original on 14 March 2017. Retrieved 26 March 2021.\\n\\n^ a b Venners, Bill (13 January 2003). \"The Making of Python\". Artima Developer. Artima. Archived from the original on 1 September 2016. Retrieved 22 March 2007.\\n\\n^ van Rossum, Guido (29 August 2000). \"SETL (was: Lukewarm about range literals)\". Python-Dev (Mailing list). Archived from the original on 14 July 2018. Retrieved 13 March 2011.\\n\\n^ van Rossum, Guido (20 January 2009). \"A Brief Timeline of Python\". The History of Python. Archived from the original on 5 June 2020. Retrieved 20 January 2009.\\n\\n^ Fairchild, Carlie (12 July 2018). \"Guido van Rossum Stepping Down from Role as Python\\'s Benevolent Dictator For Life\". Linux Journal. Archived from the original on 13 July 2018. Retrieved 13 July 2018.\\n\\n^ \"PEP 8100\". Python Software Foundation. Archived from the original on 4 June 2020. Retrieved 4 May 2019.\\n\\n^ \"PEP 13 – Python Language Governance\". Python.org. Archived from the original on 27 May 2021. Retrieved 25 August 2021.\\n\\n^ Kuchling, A. M.; Zadka, Moshe (16 October 2000). \"What\\'s New in Python 2.0\". Python Software Foundation. Archived from the original on 23 October 2012. Retrieved 11 February 2012.\\n\\n^ van Rossum, Guido (5 April 2006). \"PEP 3000 – Python 3000\". Python Enhancement Proposals. Python Software Foundation. Archived from the original on 3 March 2016. Retrieved 27 June 2009.\\n\\n^ \"2to3 – Automated Python 2 to 3 code translation\". docs.python.org. Archived from the original on 4 June 2020. Retrieved 2 February 2021.\\n\\n^ \"PEP 373 – Python 2.7 Release Schedule\". python.org. Archived from the original on 19 May 2020. Retrieved 9 January 2017.\\n\\n^ \"PEP 466 – Network Security Enhancements for Python 2.7.x\". python.org. Archived from the original on 4 June 2020. Retrieved 9 January 2017.\\n\\n^ \"Sunsetting Python 2\". Python.org. Archived from the original on 12 January 2020. Retrieved 22 September 2019.\\n\\n^ \"PEP 373 – Python 2.7 Release Schedule\". Python.org. Archived from the original on 13 January 2020. Retrieved 22 September 2019.\\n\\n^ \"Python Release Python 3.7.17\". Python.org. Archived from the original on 31 July 2023. Retrieved 18 August 2023.\\n\\n^ mattip (25 December 2023). \"PyPy v7.3.14 release\". PyPy. Archived from the original on 5 January 2024. Retrieved 5 January 2024.\\n\\n^ \"CVE-2021-3177\". Red Hat Customer Portal. Archived from the original on 6 March 2021. Retrieved 26 February 2021.\\n\\n^ \"CVE-2021-3177\". CVE. Archived from the original on 27 February 2021. Retrieved 26 February 2021.\\n\\n^ \"CVE-2021-23336\". CVE. Archived from the original on 24 February 2021. Retrieved 26 February 2021.\\n\\n^ Langa, Łukasz (24 March 2022). \"Python 3.10.4 and 3.9.12 are now available out of schedule\". Python Insider. Archived from the original on 21 April 2022. Retrieved 19 April 2022.\\n\\n^ Langa, Łukasz (16 March 2022). \"Python 3.10.3, 3.9.11, 3.8.13, and 3.7.13 are now available with security content\". Python Insider. Archived from the original on 17 April 2022. Retrieved 19 April 2022.\\n\\n^ Langa, Łukasz (17 May 2022). \"Python 3.9.13 is now available\". Python Insider. Archived from the original on 17 May 2022. Retrieved 21 May 2022.\\n\\n^ Langa, Łukasz (7 September 2022). \"Python releases 3.10.7, 3.9.14, 3.8.14, and 3.7.14 are now available\". Python Insider. Archived from the original on 13 September 2022. Retrieved 16 September 2022.\\n\\n^ \"CVE-2020-10735\". CVE. Archived from the original on 20 September 2022. Retrieved 16 September 2022.\\n\\n^ \"Built-in Types\".\\n\\n^ corbet (24 October 2022). \"Python 3.11 released [LWN.net]\". lwn.net. Retrieved 15 November 2022.\\n\\n^ \"What\\'s New In Python 3.13\". Python documentation. Retrieved 30 April 2024.\\n\\n^ \"PEP 667 – Consistent views of namespaces | peps.python.org\". Python Enhancement Proposals (PEPs). Retrieved 7 October 2024.\\n\\n^ \"Status of Python versions\". Python Developer\\'s Guide. Retrieved 7 October 2024.\\n\\n^ Wouters, Thomas (9 April 2024). \"Python Insider: Python 3.12.3 and 3.13.0a6 released\". Python Insider. Retrieved 29 April 2024.\\n\\n^ \"PEP 594 – Removing dead batteries from the standard library\". Python Enhancement Proposals. Python Softtware Foundation. 20 May 2019.\\n\\n^ The Cain Gang Ltd. \"Python Metaclasses: Who? Why? When?\" (PDF). Archived from the original (PDF) on 30 May 2009. Retrieved 27 June 2009.\\n\\n^ \"3.3. Special method names\". The Python Language Reference. Python Software Foundation. Archived from the original on 15 December 2018. Retrieved 27 June 2009.\\n\\n^ \"PyDBC: method preconditions, method postconditions and class invariants for Python\". Archived from the original on 23 November 2019. Retrieved 24 September 2011.\\n\\n^ \"Contracts for Python\". Archived from the original on 15 June 2020. Retrieved 24 September 2011.\\n\\n^ \"PyDatalog\". Archived from the original on 13 June 2020. Retrieved 22 July 2012.\\n\\n^ \"Glue It All Together With Python\". Python.org. Retrieved 30 September 2024.\\n\\n^ \"Extending and Embedding the Python Interpreter: Reference Counts\". Docs.python.org. Archived from the original on 18 October 2012. Retrieved 5 June 2020. Since Python makes heavy use of malloc() and free(), it needs a strategy to avoid memory leaks as well as the use of freed memory. The chosen method is called reference counting.\\n\\n^ a b Hettinger, Raymond (30 January 2002). \"PEP 289 – Generator Expressions\". Python Enhancement Proposals. Python Software Foundation. Archived from the original on 14 June 2020. Retrieved 19 February 2012.\\n\\n^ \"6.5 itertools – Functions creating iterators for efficient looping\". Docs.python.org. Archived from the original on 14 June 2020. Retrieved 22 November 2016.\\n\\n^ a b Peters, Tim (19 August 2004). \"PEP 20 – The Zen of Python\". Python Enhancement Proposals. Python Software Foundation. Archived from the original on 26 December 2018. Retrieved 24 November 2008.\\n\\n^ Lutz, Mark (January 2022). \"Python Changes 2014+\". Learning Python. Archived from the original on 15 March 2024. Retrieved 25 February 2024.\\n\\n^ \"Confusion regarding a rule in The Zen of Python\". Python Help - Discussions on Python.org. 3 May 2022. Archived from the original on 25 February 2024. Retrieved 25 February 2024.\\n\\n^ Ambi, Chetan (4 July 2021). \"The Most Controversial Python Walrus Operator\". Python Simplified. Archived from the original on 27 August 2023. Retrieved 5 February 2024.\\n\\n^ Grifski, Jeremy (24 May 2020). \"The Controversy Behind The Walrus Operator in Python\". The Renegade Coder. Archived from the original on 28 December 2023. Retrieved 25 February 2024.\\n\\n^ Bader, Dan. \"Python String Formatting Best Practices\". Real Python. Archived from the original on 18 February 2024. Retrieved 25 February 2024.\\n\\n^ Martelli, Alex; Ravenscroft, Anna; Ascher, David (2005). Python Cookbook, 2nd Edition. O\\'Reilly Media. p. 230. ISBN 978-0-596-00797-3. Archived from the original on 23 February 2020. Retrieved 14 November 2015.\\n\\n^ \"Python Culture\". ebeab. 21 January 2014. Archived from the original on 30 January 2014.\\n\\n^ a b \"Transpiling Python to Julia using PyJL\" (PDF). Archived (PDF) from the original on 19 November 2023. Retrieved 20 September 2023. After manually modifying one line of code by specifying the necessary type information, we obtained a speedup of 52.6×, making the translated Julia code 19.5× faster than the original Python code.\\n\\n^ \"Why is it called Python?\". General Python FAQ. Docs.python.org. Archived from the original on 24 October 2012. Retrieved 3 January 2023.\\n\\n^ \"15 Ways Python Is a Powerful Force on the Web\". Archived from the original on 11 May 2019. Retrieved 3 July 2018.\\n\\n^ \"pprint – Data pretty printer – Python 3.11.0 documentation\". docs.python.org. Archived from the original on 22 January 2021. Retrieved 5 November 2022. stuff=[\\'spam\\', \\'eggs\\', \\'lumberjack\\', \\'knights\\', \\'ni\\']\\n\\n^ \"Code Style – The Hitchhiker\\'s Guide to Python\". docs.python-guide.org. Archived from the original on 27 January 2021. Retrieved 20 January 2021.\\n\\n^ \"Is Python a good language for beginning programmers?\". General Python FAQ. Python Software Foundation. Archived from the original on 24 October 2012. Retrieved 21 March 2007.\\n\\n^ \"Myths about indentation in Python\". Secnetix.de. Archived from the original on 18 February 2018. Retrieved 19 April 2011.\\n\\n^ Guttag, John V. (12 August 2016). Introduction to Computation and Programming Using Python: With Application to Understanding Data. MIT Press. ISBN 978-0-262-52962-4.\\n\\n^ \"PEP 8 – Style Guide for Python Code\". Python.org. Archived from the original on 17 April 2019. Retrieved 26 March 2019.\\n\\n^ \"8. Errors and Exceptions – Python 3.12.0a0 documentation\". docs.python.org. Archived from the original on 9 May 2022. Retrieved 9 May 2022.\\n\\n^ \"Highlights: Python 2.5\". Python.org. Archived from the original on 4 August 2019. Retrieved 20 March 2018.\\n\\n^ van Rossum, Guido (22 April 2009). \"Tail Recursion Elimination\". Neopythonic.blogspot.be. Archived from the original on 19 May 2018. Retrieved 3 December 2012.\\n\\n^ van Rossum, Guido (9 February 2006). \"Language Design Is Not Just Solving Puzzles\". Artima forums. Artima. Archived from the original on 17 January 2020. Retrieved 21 March 2007.\\n\\n^ van Rossum, Guido; Eby, Phillip J. (10 May 2005). \"PEP 342 – Coroutines via Enhanced Generators\". Python Enhancement Proposals. Python Software Foundation. Archived from the original on 29 May 2020. Retrieved 19 February 2012.\\n\\n^ \"PEP 380\". Python.org. Archived from the original on 4 June 2020. Retrieved 3 December 2012.\\n\\n^ \"division\". python.org. Archived from the original on 20 July 2006. Retrieved 30 July 2014.\\n\\n^ \"PEP 0465 – A dedicated infix operator for matrix multiplication\". python.org. Archived from the original on 4 June 2020. Retrieved 1 January 2016.\\n\\n^ \"Python 3.5.1 Release and Changelog\". python.org. Archived from the original on 14 May 2020. Retrieved 1 January 2016.\\n\\n^ \"What\\'s New in Python 3.8\". Archived from the original on 8 June 2020. Retrieved 14 October 2019.\\n\\n^ van Rossum, Guido; Hettinger, Raymond (7 February 2003). \"PEP 308 – Conditional Expressions\". Python Enhancement Proposals. Python Software Foundation. Archived from the original on 13 March 2016. Retrieved 13 July 2011.\\n\\n^ \"4. Built-in Types – Python 3.6.3rc1 documentation\". python.org. Archived from the original on 14 June 2020. Retrieved 1 October 2017.\\n\\n^ \"5.3. Tuples and Sequences – Python 3.7.1rc2 documentation\". python.org. Archived from the original on 10 June 2020. Retrieved 17 October 2018.\\n\\n^ a b \"PEP 498 – Literal String Interpolation\". python.org. Archived from the original on 15 June 2020. Retrieved 8 March 2017.\\n\\n^ \"Why must \\'self\\' be used explicitly in method definitions and calls?\". Design and History FAQ. Python Software Foundation. Archived from the original on 24 October 2012. Retrieved 19 February 2012.\\n\\n^ Sweigart, Al (2020). Beyond the Basic Stuff with Python: Best Practices for Writing Clean Code. No Starch Press. p. 322. ISBN 978-1-59327-966-0. Archived from the original on 13 August 2021. Retrieved 7 July 2021.\\n\\n^ \"The Python Language Reference, section 3.3. New-style and classic classes, for release 2.7.1\". Archived from the original on 26 October 2012. Retrieved 12 January 2011.\\n\\n^ \"PEP 484 – Type Hints | peps.python.org\". peps.python.org. Archived from the original on 27 November 2023. Retrieved 29 November 2023.\\n\\n^ \"typing — Support for type hints\". Python documentation. Python Software Foundation. Archived from the original on 21 February 2020. Retrieved 22 December 2023.\\n\\n^ \"mypy – Optional Static Typing for Python\". Archived from the original on 6 June 2020. Retrieved 28 January 2017.\\n\\n^ \"Introduction\". mypyc.readthedocs.io. Archived from the original on 22 December 2023. Retrieved 22 December 2023.\\n\\n^ \"15. Floating Point Arithmetic: Issues and Limitations – Python 3.8.3 documentation\". docs.python.org. Archived from the original on 6 June 2020. Retrieved 6 June 2020. Almost all machines today (November 2000) use IEEE-754 floating point arithmetic, and almost all platforms map Python floats to IEEE-754 \"double precision\".\\n\\n^ Zadka, Moshe; van Rossum, Guido (11 March 2001). \"PEP 237 – Unifying Long Integers and Integers\". Python Enhancement Proposals. Python Software Foundation. Archived from the original on 28 May 2020. Retrieved 24 September 2011.\\n\\n^ \"Built-in Types\". Archived from the original on 14 June 2020. Retrieved 3 October 2019.\\n\\n^ \"PEP 465 – A dedicated infix operator for matrix multiplication\". python.org. Archived from the original on 29 May 2020. Retrieved 3 July 2018.\\n\\n^ a b Zadka, Moshe; van Rossum, Guido (11 March 2001). \"PEP 238 – Changing the Division Operator\". Python Enhancement Proposals. Python Software Foundation. Archived from the original on 28 May 2020. Retrieved 23 October 2013.\\n\\n^ \"Why Python\\'s Integer Division Floors\". 24 August 2010. Archived from the original on 5 June 2020. Retrieved 25 August 2010.\\n\\n^ \"round\", The Python standard library, release 3.2, §2: Built-in functions, archived from the original on 25 October 2012, retrieved 14 August 2011\\n\\n^ \"round\", The Python standard library, release 2.7, §2: Built-in functions, archived from the original on 27 October 2012, retrieved 14 August 2011\\n\\n^ Beazley, David M. (2009). Python Essential Reference (4th ed.). Addison-Wesley Professional. p. 66. ISBN 9780672329784.\\n\\n^ Kernighan, Brian W.; Ritchie, Dennis M. (1988). The C Programming Language (2nd ed.). p. 206.\\n\\n^ a b Batista, Facundo (17 October 2003). \"PEP 327 – Decimal Data Type\". Python Enhancement Proposals. Python Software Foundation. Archived from the original on 4 June 2020. Retrieved 24 November 2008.\\n\\n^ \"What\\'s New in Python 2.6\". Python v2.6.9 documentation. 29 October 2013. Archived from the original on 23 December 2019. Retrieved 26 September 2015.\\n\\n^ \"10 Reasons Python Rocks for Research (And a Few Reasons it Doesn\\'t) – Hoyt Koepke\". University of Washington Department of Statistics. Archived from the original on 31 May 2020. Retrieved 3 February 2019.\\n\\n^ Shell, Scott (17 June 2014). \"An introduction to Python for scientific computing\" (PDF). Archived (PDF) from the original on 4 February 2019. Retrieved 3 February 2019.\\n\\n^ Piotrowski, Przemyslaw (July 2006). \"Build a Rapid Web Development Environment for Python Server Pages and Oracle\". Oracle Technology Network. Oracle. Archived from the original on 2 April 2019. Retrieved 12 March 2012.\\n\\n^ Eby, Phillip J. (7 December 2003). \"PEP 333 – Python Web Server Gateway Interface v1.0\". Python Enhancement Proposals. Python Software Foundation. Archived from the original on 14 June 2020. Retrieved 19 February 2012.\\n\\n^ \"PyPI\". PyPI. 17 March 2024. Archived from the original on 17 March 2024.\\n\\n^ Enthought, Canopy. \"Canopy\". www.enthought.com. Archived from the original on 15 July 2017. Retrieved 20 August 2016.\\n\\n^ \"PEP 7 – Style Guide for C Code | peps.python.org\". peps.python.org. Archived from the original on 24 April 2022. Retrieved 28 April 2022.\\n\\n^ \"4. Building C and C++ Extensions – Python 3.9.2 documentation\". docs.python.org. Archived from the original on 3 March 2021. Retrieved 1 March 2021.\\n\\n^ van Rossum, Guido (5 June 2001). \"PEP 7 – Style Guide for C Code\". Python Enhancement Proposals. Python Software Foundation. Archived from the original on 1 June 2020. Retrieved 24 November 2008.\\n\\n^ \"CPython byte code\". Docs.python.org. Archived from the original on 5 June 2020. Retrieved 16 February 2016.\\n\\n^ \"Python 2.5 internals\" (PDF). Archived (PDF) from the original on 6 August 2012. Retrieved 19 April 2011.\\n\\n^ \"Changelog – Python 3.9.0 documentation\". docs.python.org. Archived from the original on 7 February 2021. Retrieved 8 February 2021.\\n\\n^ \"Download Python\". Python.org. Archived from the original on 8 December 2020. Retrieved 13 December 2020.\\n\\n^ \"history [vmspython]\". www.vmspython.org. Archived from the original on 2 December 2020. Retrieved 4 December 2020.\\n\\n^ \"An Interview with Guido van Rossum\". Oreilly.com. Archived from the original on 16 July 2014. Retrieved 24 November 2008.\\n\\n^ \"Download Python for Other Platforms\". Python.org. Archived from the original on 27 November 2020. Retrieved 4 December 2020.\\n\\n^ \"PyPy compatibility\". Pypy.org. Archived from the original on 6 June 2020. Retrieved 3 December 2012.\\n\\n^ Team, The PyPy (28 December 2019). \"Download and Install\". PyPy. Archived from the original on 8 January 2022. Retrieved 8 January 2022.\\n\\n^ \"speed comparison between CPython and Pypy\". Speed.pypy.org. Archived from the original on 10 May 2021. Retrieved 3 December 2012.\\n\\n^ \"Application-level Stackless features – PyPy 2.0.2 documentation\". Doc.pypy.org. Archived from the original on 4 June 2020. Retrieved 17 July 2013.\\n\\n^ \"Python-for-EV3\". LEGO Education. Archived from the original on 7 June 2020. Retrieved 17 April 2019.\\n\\n^ Yegulalp, Serdar (29 October 2020). \"Pyston returns from the dead to speed Python\". InfoWorld. Archived from the original on 27 January 2021. Retrieved 26 January 2021.\\n\\n^ \"cinder: Instagram\\'s performance-oriented fork of CPython\". GitHub. Archived from the original on 4 May 2021. Retrieved 4 May 2021.\\n\\n^ Aroca, Rafael (7 August 2021). \"Snek Lang: feels like Python on Arduinos\". Yet Another Technology Blog. Archived from the original on 5 January 2024. Retrieved 4 January 2024.\\n\\n^ Aufranc (CNXSoft), Jean-Luc (16 January 2020). \"Snekboard Controls LEGO Power Functions with CircuitPython or Snek Programming Languages (Crowdfunding) – CNX Software\". CNX Software – Embedded Systems News. Archived from the original on 5 January 2024. Retrieved 4 January 2024.\\n\\n^ Kennedy (@mkennedy), Michael. \"Ready to find out if you\\'re git famous?\". pythonbytes.fm. Archived from the original on 5 January 2024. Retrieved 4 January 2024.\\n\\n^ Packard, Keith (20 December 2022). \"The Snek Programming Language: A Python-inspired Embedded Computing Language\" (PDF). Archived (PDF) from the original on 4 January 2024. Retrieved 4 January 2024.\\n\\n^ \"Plans for optimizing Python\". Google Project Hosting. 15 December 2009. Archived from the original on 11 April 2016. Retrieved 24 September 2011.\\n\\n^ \"Python on the Nokia N900\". Stochastic Geometry. 29 April 2010. Archived from the original on 20 June 2019. Retrieved 9 July 2015.\\n\\n^ \"Brython\". brython.info. Archived from the original on 3 August 2018. Retrieved 21 January 2021.\\n\\n^ \"Transcrypt – Python in the browser\". transcrypt.org. Archived from the original on 19 August 2018. Retrieved 22 December 2020.\\n\\n^ \"Transcrypt: Anatomy of a Python to JavaScript Compiler\". InfoQ. Archived from the original on 5 December 2020. Retrieved 20 January 2021.\\n\\n^ \"Codon: Differences with Python\". Archived from the original on 25 May 2023. Retrieved 28 August 2023.\\n\\n^ Lawson, Loraine (14 March 2023). \"MIT-Created Compiler Speeds up Python Code\". The New Stack. Archived from the original on 6 April 2023. Retrieved 28 August 2023.\\n\\n^ \"Nuitka Home | Nuitka Home\". nuitka.net. Archived from the original on 30 May 2020. Retrieved 18 August 2017.\\n\\n^ Guelton, Serge; Brunet, Pierrick; Amini, Mehdi; Merlini, Adrien; Corbillon, Xavier; Raynaud, Alan (16 March 2015). \"Pythran: enabling static optimization of scientific Python programs\". Computational Science & Discovery. 8 (1). IOP Publishing: 014001. Bibcode:2015CS&D....8a4001G. doi:10.1088/1749-4680/8/1/014001. ISSN 1749-4699.\\n\\n^ \"The Python → 11l → C++ transpiler\". Archived from the original on 24 September 2022. Retrieved 17 July 2022.\\n\\n^ \"google/grumpy\". 10 April 2020. Archived from the original on 15 April 2020. Retrieved 25 March 2020 – via GitHub.\\n\\n^ \"Projects\". opensource.google. Archived from the original on 24 April 2020. Retrieved 25 March 2020.\\n\\n^ Francisco, Thomas Claburn in San. \"Google\\'s Grumpy code makes Python Go\". www.theregister.com. Archived from the original on 7 March 2021. Retrieved 20 January 2021.\\n\\n^ \"GitHub – IronLanguages/ironpython3: Implementation of Python 3.x for .NET Framework that is built on top of the Dynamic Language Runtime\". GitHub. Archived from the original on 28 September 2021.\\n\\n^ \"IronPython.net /\". ironpython.net. Archived from the original on 17 April 2021.\\n\\n^ \"Jython FAQ\". www.jython.org. Archived from the original on 22 April 2021. Retrieved 22 April 2021.\\n\\n^ Murri, Riccardo (2013). Performance of Python runtimes on a non-numeric scientific code. European Conference on Python in Science (EuroSciPy). arXiv:1404.6388. Bibcode:2014arXiv1404.6388M.\\n\\n^ \"The Computer Language Benchmarks Game\". Archived from the original on 14 June 2020. Retrieved 30 April 2020.\\n\\n^ a b Warsaw, Barry; Hylton, Jeremy; Goodger, David (13 June 2000). \"PEP 1 – PEP Purpose and Guidelines\". Python Enhancement Proposals. Python Software Foundation. Archived from the original on 6 June 2020. Retrieved 19 April 2011.\\n\\n^ \"PEP 8 – Style Guide for Python Code\". Python.org. Archived from the original on 17 April 2019. Retrieved 26 March 2019.\\n\\n^ Cannon, Brett. \"Guido, Some Guys, and a Mailing List: How Python is Developed\". python.org. Python Software Foundation. Archived from the original on 1 June 2009. Retrieved 27 June 2009.\\n\\n^ \"Moving Python\\'s bugs to GitHub [LWN.net]\". Archived from the original on 2 October 2022. Retrieved 2 October 2022.\\n\\n^ \"Python Developer\\'s Guide – Python Developer\\'s Guide\". devguide.python.org. Archived from the original on 9 November 2020. Retrieved 17 December 2019.\\n\\n^ Hughes, Owen (24 May 2021). \"Programming languages: Why Python 4.0 might never arrive, according to its creator\". TechRepublic. Archived from the original on 14 July 2022. Retrieved 16 May 2022.\\n\\n^ \"PEP 602 – Annual Release Cycle for Python\". Python.org. Archived from the original on 14 June 2020. Retrieved 6 November 2019.\\n\\n^ \"Changing the Python release cadence [LWN.net]\". lwn.net. Archived from the original on 6 November 2019. Retrieved 6 November 2019.\\n\\n^ Norwitz, Neal (8 April 2002). \"[Python-Dev] Release Schedules (was Stability & change)\". Archived from the original on 15 December 2018. Retrieved 27 June 2009.\\n\\n^ a b Aahz; Baxter, Anthony (15 March 2001). \"PEP 6 – Bug Fix Releases\". Python Enhancement Proposals. Python Software Foundation. Archived from the original on 5 June 2020. Retrieved 27 June 2009.\\n\\n^ \"Python Buildbot\". Python Developer\\'s Guide. Python Software Foundation. Archived from the original on 5 June 2020. Retrieved 24 September 2011.\\n\\n^ \"1. Extending Python with C or C++ – Python 3.9.1 documentation\". docs.python.org. Archived from the original on 23 June 2020. Retrieved 14 February 2021.\\n\\n^ \"PEP 623 – Remove wstr from Unicode\". Python.org. Archived from the original on 5 March 2021. Retrieved 14 February 2021.\\n\\n^ \"PEP 634 – Structural Pattern Matching: Specification\". Python.org. Archived from the original on 6 May 2021. Retrieved 14 February 2021.\\n\\n^ \"Documentation Tools\". Python.org. Archived from the original on 11 November 2020. Retrieved 22 March 2021.\\n\\n^ a b \"Whetting Your Appetite\". The Python Tutorial. Python Software Foundation. Archived from the original on 26 October 2012. Retrieved 20 February 2012.\\n\\n^ \"In Python, should I use else after a return in an if block?\". Stack Overflow. Stack Exchange. 17 February 2011. Archived from the original on 20 June 2019. Retrieved 6 May 2011.\\n\\n^ Lutz, Mark (2009). Learning Python: Powerful Object-Oriented Programming. O\\'Reilly Media, Inc. p. 17. ISBN 9781449379322. Archived from the original on 17 July 2017. Retrieved 9 May 2017.\\n\\n^ Fehily, Chris (2002). Python. Peachpit Press. p. xv. ISBN 9780201748840. Archived from the original on 17 July 2017. Retrieved 9 May 2017.\\n\\n^ Lubanovic, Bill (2014). Introducing Python. Sebastopol, CA : O\\'Reilly Media. p. 305. ISBN 978-1-4493-5936-2. Retrieved 31 July 2023.\\n\\n^ Blake, Troy (18 January 2021). \"TIOBE Index for January 2021\". Technology News and Information by SeniorDBA. Archived from the original on 21 March 2021. Retrieved 26 February 2021.\\n\\n^ \"Quotes about Python\". Python Software Foundation. Archived from the original on 3 June 2020. Retrieved 8 January 2012.\\n\\n^ \"Organizations Using Python\". Python Software Foundation. Archived from the original on 21 August 2018. Retrieved 15 January 2009.\\n\\n^ \"Python : the holy grail of programming\". CERN Bulletin (31/2006). CERN Publications. 31 July 2006. Archived from the original on 15 January 2013. Retrieved 11 February 2012.\\n\\n^ Shafer, Daniel G. (17 January 2003). \"Python Streamlines Space Shuttle Mission Design\". Python Software Foundation. Archived from the original on 5 June 2020. Retrieved 24 November 2008.\\n\\n^ \"Tornado: Facebook\\'s Real-Time Web Framework for Python – Facebook for Developers\". Facebook for Developers. Archived from the original on 19 February 2019. Retrieved 19 June 2018.\\n\\n^ \"What Powers Instagram: Hundreds of Instances, Dozens of Technologies\". Instagram Engineering. 11 December 2016. Archived from the original on 15 June 2020. Retrieved 27 May 2019.\\n\\n^ \"How we use Python at Spotify\". Spotify Labs. 20 March 2013. Archived from the original on 10 June 2020. Retrieved 25 July 2018.\\n\\n^ Fortenberry, Tim (17 January 2003). \"Industrial Light & Magic Runs on Python\". Python Software Foundation. Archived from the original on 6 June 2020. Retrieved 11 February 2012.\\n\\n^ Taft, Darryl K. (5 March 2007). \"Python Slithers into Systems\". eWeek.com. Ziff Davis Holdings. Archived from the original on 13 August 2021. Retrieved 24 September 2011.\\n\\n^ GitHub – reddit-archive/reddit: historical code from reddit.com., The Reddit Archives, archived from the original on 1 June 2020, retrieved 20 March 2019\\n\\n^ \"Real time communication at scale with Elixir at Discord\". 8 October 2020.\\n\\n^ \"What Programming Language is Baidu Built In?\". 5 July 2018.\\n\\n^ \"Usage statistics and market share of Python for websites\". 2012. Archived from the original on 13 August 2021. Retrieved 18 December 2012.\\n\\n^ Oliphant, Travis (2007). \"Python for Scientific Computing\". Computing in Science and Engineering. 9 (3): 10–20. Bibcode:2007CSE.....9c..10O. CiteSeerX 10.1.1.474.6460. doi:10.1109/MCSE.2007.58. ISSN 1521-9615. S2CID 206457124. Archived from the original on 15 June 2020. Retrieved 10 April 2015.\\n\\n^ Millman, K. Jarrod; Aivazis, Michael (2011). \"Python for Scientists and Engineers\". Computing in Science and Engineering. 13 (2): 9–12. Bibcode:2011CSE....13b...9M. doi:10.1109/MCSE.2011.36. Archived from the original on 19 February 2019. Retrieved 7 July 2014.\\n\\n^ Science education with SageMath, Innovative Computing in Science Education, archived from the original on 15 June 2020, retrieved 22 April 2019\\n\\n^ \"OpenCV: OpenCV-Python Tutorials\". docs.opencv.org. Archived from the original on 23 September 2020. Retrieved 14 September 2020.\\n\\n^ Dean, Jeff; Monga, Rajat; et al. (9 November 2015). \"TensorFlow: Large-scale machine learning on heterogeneous systems\" (PDF). TensorFlow.org. Google Research. Archived (PDF) from the original on 20 November 2015. Retrieved 10 November 2015.\\n\\n^ Piatetsky, Gregory. \"Python eats away at R: Top Software for Analytics, Data Science, Machine Learning in 2018: Trends and Analysis\". KDnuggets. Archived from the original on 15 November 2019. Retrieved 30 May 2018.\\n\\n^ \"Who is using scikit-learn? – scikit-learn 0.20.1 documentation\". scikit-learn.org. Archived from the original on 6 May 2020. Retrieved 30 November 2018.\\n\\n^ Jouppi, Norm. \"Google supercharges machine learning tasks with TPU custom chip\". Google Cloud Platform Blog. Archived from the original on 18 May 2016. Retrieved 19 May 2016.\\n\\n^ De Raedt, Luc; Kimmig, Angelika (2015). \"Probabilistic (logic) programming concepts\". Machine Learning. 100 (1): 5–47. doi:10.1007/s10994-015-5494-z. S2CID 3166992.\\n\\n^ \"Natural Language Toolkit – NLTK 3.5b1 documentation\". www.nltk.org. Archived from the original on 13 June 2020. Retrieved 10 April 2020.\\n\\n^ Andersen, C. and Swift, T., 2023. The Janus System: a bridge to new prolog applications. In Prolog: The Next 50 Years (pp. 93–104). Cham: Springer Nature Switzerland.\\n\\n^ \"SWI-Prolog Python interface\". Archived from the original on 15 March 2024. Retrieved 15 March 2024.\\n\\n^ Tarau, P., 2023. Reflections on automation, learnability and expressiveness in logic-based programming languages. In Prolog: The Next 50 Years (pp. 359–371). Cham: Springer Nature Switzerland.\\n\\n^ \"Tkinter — Python interface to TCL/Tk\". Archived from the original on 18 October 2012. Retrieved 9 June 2023.\\n\\n^ \"Python Tkinter Tutorial\". 3 June 2020. Archived from the original on 9 June 2023. Retrieved 9 June 2023.\\n\\n^ \"Installers for GIMP for Windows – Frequently Asked Questions\". 26 July 2013. Archived from the original on 17 July 2013. Retrieved 26 July 2013.\\n\\n^ \"jasc psp9components\". Archived from the original on 19 March 2008.\\n\\n^ \"About getting started with writing geoprocessing scripts\". ArcGIS Desktop Help 9.2. Environmental Systems Research Institute. 17 November 2006. Archived from the original on 5 June 2020. Retrieved 11 February 2012.\\n\\n^ CCP porkbelly (24 August 2010). \"Stackless Python 2.7\". EVE Community Dev Blogs. CCP Games. Archived from the original on 11 January 2014. Retrieved 11 January 2014. As you may know, EVE has at its core the programming language known as Stackless Python.\\n\\n^ Caudill, Barry (20 September 2005). \"Modding Sid Meier\\'s Civilization IV\". Sid Meier\\'s Civilization IV Developer Blog. Firaxis Games. Archived from the original on 2 December 2010. we created three levels of tools ... The next level offers Python and XML support, letting modders with more experience manipulate the game world and everything in it.\\n\\n^ \"Python Language Guide (v1.0)\". Google Documents List Data API v1.0. Archived from the original on 15 July 2010.\\n\\n^ \"Python Setup and Usage\". Python Software Foundation. Archived from the original on 17 June 2020. Retrieved 10 January 2020.\\n\\n^ \"Immunity: Knowing You\\'re Secure\". Archived from the original on 16 February 2009.\\n\\n^ \"Core Security\". Core Security. Archived from the original on 9 June 2020. Retrieved 10 April 2020.\\n\\n^ \"What is Sugar?\". Sugar Labs. Archived from the original on 9 January 2009. Retrieved 11 February 2012.\\n\\n^ \"4.0 New Features and Fixes\". LibreOffice.org. The Document Foundation. 2013. Archived from the original on 9 February 2014. Retrieved 25 February 2013.\\n\\n^ \"Gotchas for Python Users\". boo.codehaus.org. Codehaus Foundation. Archived from the original on 11 December 2008. Retrieved 24 November 2008.\\n\\n^ Esterbrook, Charles. \"Acknowledgements\". cobra-language.com. Cobra Language. Archived from the original on 8 February 2008. Retrieved 7 April 2010.\\n\\n^ \"Proposals: iterators and generators [ES4 Wiki]\". wiki.ecmascript.org. Archived from the original on 20 October 2007. Retrieved 24 November 2008.\\n\\n^ \"Frequently asked questions\". Godot Engine documentation. Archived from the original on 28 April 2021. Retrieved 10 May 2021.\\n\\n^ Kincaid, Jason (10 November 2009). \"Google\\'s Go: A New Programming Language That\\'s Python Meets C++\". TechCrunch. Archived from the original on 18 January 2010. Retrieved 29 January 2010.\\n\\n^ Strachan, James (29 August 2003). \"Groovy – the birth of a new dynamic language for the Java platform\". Archived from the original on 5 April 2007. Retrieved 11 June 2007.\\n\\n^ \"Modular Docs – Why Mojo\". docs.modular.com. Archived from the original on 5 May 2023. Retrieved 5 May 2023. Mojo as a member of the Python family [..] Embracing Python massively simplifies our design efforts, because most of the syntax is already specified. [..] we decided that the right long-term goal for Mojo is to provide a superset of Python (i.e. be compatible with existing programs) and to embrace the CPython immediately for long-tail ecosystem enablement. To a Python programmer, we expect and hope that Mojo will be immediately familiar, while also providing new tools for developing systems-level code that enable you to do things that Python falls back to C and C++ for.\\n\\n^ Spencer, Michael (4 May 2023). \"What is Mojo Programming Language?\". datasciencelearningcenter.substack.com. Archived from the original on 5 May 2023. Retrieved 5 May 2023.\\n\\n^ Yegulalp, Serdar (16 January 2017). \"Nim language draws from best of Python, Rust, Go, and Lisp\". InfoWorld. Archived from the original on 13 October 2018. Retrieved 7 June 2020. Nim\\'s syntax is strongly reminiscent of Python\\'s, as it uses indented code blocks and some of the same syntax (such as the way if/elif/then/else blocks are constructed).\\n\\n^ \"An Interview with the Creator of Ruby\". Linuxdevcenter.com. Archived from the original on 28 April 2018. Retrieved 3 December 2012.\\n\\n^ Lattner, Chris (3 June 2014). \"Chris Lattner\\'s Homepage\". Chris Lattner. Archived from the original on 22 December 2015. Retrieved 3 June 2014. I started work on the Swift Programming Language in July of 2010. I implemented much of the basic language structure, with only a few people knowing of its existence. A few other (amazing) people started contributing in earnest late in 2011, and it became a major focus for the Apple Developer Tools group in July 2013 [...] drawing ideas from Objective-C, Rust, Haskell, Ruby, Python, C#, CLU, and far too many others to list.\\n\\n^ Jalan, Nishant Aanjaney (10 November 2022). \"Programming in Kotlin\". CodeX. Retrieved 29 April 2024.\\n\\n^ Kupries, Andreas; Fellows, Donal K. (14 September 2000). \"TIP #3: TIP Format\". tcl.tk. Tcl Developer Xchange. Archived from the original on 13 July 2017. Retrieved 24 November 2008.\\n\\n^ Gustafsson, Per; Niskanen, Raimo (29 January 2007). \"EEP 1: EEP Purpose and Guidelines\". erlang.org. Archived from the original on 15 June 2020. Retrieved 19 April 2011.\\n\\n^ \"Swift Evolution Process\". Swift Programming Language Evolution repository on GitHub. 18 February 2020. Archived from the original on 27 April 2020. Retrieved 27 April 2020.\\n\\nSources\\n\\n[edit]\\n\\n\"Python for Artificial Intelligence\". Python Wiki. 19 July 2012. Archived from the original on 1 November 2012. Retrieved 3 December 2012.\\n\\nPaine, Jocelyn, ed. (August 2005). \"AI in Python\". AI Expert Newsletter. Amzi!. Archived from the original on 26 March 2012. Retrieved 11 February 2012.\\n\\n\"PyAIML 0.8.5 : Python Package Index\". Pypi.python.org. Retrieved 17 July 2013.\\n\\nRussell, Stuart J. & Norvig, Peter (2009). Artificial Intelligence: A Modern Approach (3rd ed.). Upper Saddle River, NJ: Prentice Hall. ISBN 978-0-13-604259-4.\\n\\nFurther reading\\n\\n[edit]\\n\\nDowney, Allen B. (May 2012). Think Python: How to Think Like a Computer Scientist (version 1.6.6 ed.). Cambridge University Press. ISBN 978-0-521-72596-5.\\n\\nHamilton, Naomi (5 August 2008). \"The A-Z of Programming Languages: Python\". Computerworld. Archived from the original on 29 December 2008. Retrieved 31 March 2010.\\n\\nLutz, Mark (2013). Learning Python (5th ed.). O\\'Reilly Media. ISBN 978-0-596-15806-4.\\n\\nSummerfield, Mark (2009). Programming in Python 3 (2nd ed.). Addison-Wesley Professional. ISBN 978-0-321-68056-3.\\n\\nRamalho, Luciano (May 2022). Fluent Python. O\\'Reilly Media. ISBN 978-1-4920-5632-4.\\n\\nExternal links\\n\\n[edit]\\n\\nPython at Wikipedia\\'s sister projects\\n\\nMedia from Commons\\n\\nQuotations from Wikiquote\\n\\nTextbooks from Wikibooks\\n\\nResources from Wikiversity\\n\\nData from Wikidata\\n\\nOfficial website\\n\\nv t e Python Implementations CircuitPython CLPython CPython Cython MicroPython Numba IronPython Jython Psyco PyPy Python for S60 Shed Skin Stackless Python Unladen Swallow more ... IDEs eric IDLE Ninja-IDE PyCharm PyDev Spyder more ... Topics WSGI ASGI Designer Guido van Rossum Software (list) Python Software Foundation Python Conference (PyCon)\\n\\nv t e Programming languages Comparison Timeline History Ada ALGOL Simula APL Assembly BASIC Visual Basic classic .NET C C++ C# COBOL Erlang Forth Fortran Go Haskell Java JavaScript Julia Kotlin Lisp Lua MATLAB ML Pascal Object Pascal Perl PHP Prolog Python R Ruby Rust SQL Scratch Shell Smalltalk Swift more... Lists: Alphabetical Categorical Generational Non-English-based Category\\n\\nv t e Python web frameworks Bottle CherryPy CubicWeb Django FastAPI Flask Grok Nevow Pylons Pyramid Quixote TACTIC Tornado TurboGears TwistedWeb web2py Zope 2 more ...\\n\\nv t e Differentiable computing General Differentiable programming Information geometry Statistical manifold Automatic differentiation Neuromorphic engineering Pattern recognition Tensor calculus Computational learning theory Inductive bias Concepts Loss functions Regression Bias–variance tradeoff Double descent Overfitting Clustering Gradient descent SGD Quasi-Newton method Conjugate gradient descent Backpropagation Attention Convolution Normalization Batchnorm Activation Softmax Sigmoid Rectifier Gating Weight initialization Regularization Datasets Augmentation Diffusion Autoregression Adversary Hallucination Applications Machine learning In-context learning Artificial neural network Deep learning Scientific computing Artificial Intelligence Language model Large language model NMT Hardware IPU TPU VPU Memristor SpiNNaker Software libraries TensorFlow PyTorch Keras Theano JAX Flux.jl MindSpore Implementations Audio–visual AlexNet WaveNet Human image synthesis HWR OCR Speech synthesis Speech recognition Facial recognition AlphaFold Text-to-image models Latent diffusion model DALL-E Midjourney Stable Diffusion Text-to-video models Sora VideoPoet Whisper Text Word2vec Seq2seq GloVe BERT T5 Llama Chinchilla AI PaLM GPT 1 J 2 3 ChatGPT 4 Claude Gemini LaMDA Bard BLOOM Project Debater IBM Watson IBM Watsonx Granite PanGu-Σ Decisional AlphaGo AlphaZero Q-learning SARSA OpenAI Five Self-driving car MuZero Action selection Auto-GPT Robot control People Frank Rosenblatt Bernard Widrow Paul Werbos Yoshua Bengio Alex Graves Ian Goodfellow Stephen Grossberg Demis Hassabis Geoffrey Hinton Yann LeCun Fei-Fei Li Andrew Ng Jürgen Schmidhuber David Silver Ilya Sutskever Organizations Anthropic EleutherAI Google DeepMind Hugging Face OpenAI Meta AI Mila MIT CSAIL Huawei Architectures Neural Turing machine Differentiable neural computer Transformer Vision transformer (ViT) Recurrent neural network (RNN) Long short-term memory (LSTM) Gated recurrent unit (GRU) Echo state network Multilayer perceptron (MLP) Convolutional neural network (CNN) Residual neural network (RNN) Highway network Mamba Autoencoder Variational autoencoder (VAE) Generative adversarial network (GAN) Graph neural network (GNN) Portals Computer programming Technology Categories Artificial neural networks Machine learning\\n\\nv t e Free and open-source software General Alternative terms for free software Comparison of open-source and closed-source software Comparison of source-code-hosting facilities Free software Free software project directories Gratis versus libre Long-term support Open-source software Open-source software development Outline Timeline Software packages Audio Bioinformatics Codecs Configuration management Drivers Graphics Wireless Health Mathematics Office suites Operating systems Routing Television Video games Web applications E-commerce Android apps iOS apps Commercial Formerly proprietary Formerly open-source Community Free software movement History Open-source-software movement Events Advocacy Organisations Free Software Movement of India Free Software Foundation Licenses AFL Apache APSL Artistic Beerware BSD Creative Commons CDDL EPL Free Software Foundation GNU GPL GNU AGPL GNU LGPL ISC MIT MPL Python Python Software Foundation License Shared Source Initiative Sleepycat Unlicense WTFPL zlib Types and standards Comparison of licenses Contributor License Agreement Copyleft Debian Free Software Guidelines Definition of Free Cultural Works Free license The Free Software Definition The Open Source Definition Open-source license Permissive software license Public domain Challenges Digital rights management License proliferation Mozilla software rebranding Proprietary device drivers Proprietary firmware Proprietary software SCO/Linux controversies Software patents Software security Tivoization Trusted Computing Related topics Forking GNU Manifesto Microsoft Open Specification Promise Open-core model Open-source hardware Shared Source Initiative Source-available software The Cathedral and the Bazaar Revolution OS Portal Category\\n\\nv t e Statistical software Public domain Dataplot Epi Info CSPro X-12-ARIMA Open-source ADMB DAP gretl JASP JAGS JMulTi Julia Jupyter ( Ju lia, Py thon, R ) GNU Octave OpenBUGS Orange PSPP Python (statsmodels, PyMC3 , IPython , IDLE ) R ( RStudio ) SageMath SimFiT SOFA Statistics Stan XLispStat Freeware BV4.1 CumFreq SegReg XploRe WinBUGS Commercial Cross-platform Data Desk GAUSS GraphPad InStat GraphPad Prism IBM SPSS Statistics IBM SPSS Modeler JMP Maple Mathcad Mathematica MATLAB OxMetrics RATS Revolution Analytics SAS SmartPLS Stata StatView SUDAAN S-PLUS TSP World Programming System (WPS) Windows only BMDP EViews GenStat LIMDEP LISREL MedCalc Microfit Minitab MLwiN NCSS SHAZAM SigmaStat Statistica StatsDirect StatXact SYSTAT The Unscrambler UNISTAT Excel add-ons Analyse-it UNISTAT for Excel XLfit RExcel Category Comparison\\n\\nv t e Numerical-analysis software Free Advanced Simulation Library ADMB Chapel Euler FreeFem++ FreeMat Genius Gmsh GNU Octave gretl Julia Jupyter ( Ju lia, Pyt hon, R ; IPython ) MFEM OpenFOAM Python R SageMath Salome ScicosLab Scilab X10 Weka Discontinued Fortress Proprietary DADiSP FEATool Multiphysics GAUSS LabVIEW Maple Mathcad Mathematica MATLAB Speakeasy VisSim Comparison\\n\\nAuthority control databases International FAST National Germany United States France BnF data Czech Republic Israel Other IdRef\\n\\nRetrieved from \"https://en.wikipedia.org/w/index.php?title=Python_(programming_language)&oldid=1250212216\"\\n\\nCategories:\\n\\nPython (programming language)\\n\\nClass-based programming languages\\n\\nNotebook interface\\n\\nComputer science in the Netherlands\\n\\nConcurrent programming languages\\n\\nCross-platform free software\\n\\nCross-platform software\\n\\nDutch inventions\\n\\nDynamically typed programming languages\\n\\nEducational programming languages\\n\\nHigh-level programming languages\\n\\nInformation technology in the Netherlands\\n\\nMulti-paradigm programming languages\\n\\nObject-oriented programming languages\\n\\nPattern matching programming languages\\n\\nProgramming languages\\n\\nProgramming languages created in 1991\\n\\nScripting languages\\n\\nText-oriented programming languages\\n\\nHidden categories:\\n\\nArticles with short description\\n\\nShort description matches Wikidata\\n\\nUse dmy dates from November 2021\\n\\nArticles containing potentially dated statements from October 2024\\n\\nAll articles containing potentially dated statements\\n\\nArticles containing potentially dated statements from March 2024\\n\\nArticles containing potentially dated statements from December 2022\\n\\nArticles containing potentially dated statements from 2020\\n\\nArticles containing potentially dated statements from 2008\\n\\nPages using Sister project links with wikidata namespace mismatch\\n\\nPages using Sister project links with hidden wikidata\\n\\nArticles with example Python (programming language) code'),\n",
       " Document(metadata={'source': 'https://www.bbc.com/news/technology'}, page_content=\"Explorer Shackleton’s lost ship as never seen before\\n\\nA new 3D scan shows Endurance exactly as it is 3,000m down in Antarctica’s icy waters.\\n\\n5 hrs ago\\n\\nScience & Environment\\n\\nTesla to unveil Cybercab, its big bet on self-driving cars\\n\\nElon Musk will unveil a prototype for the long awaited robotaxi at a film studio in Hollywood.\\n\\n8 hrs ago\\n\\nTechnology\\n\\nTech Decoded: Sign up to our newsletter\\n\\nGet timely, trusted tech news from BBC correspondents around the world, every Monday and Friday.\\n\\nGoogle threatened with being broken up by US\\n\\nThe US Government considers whether Google should spin off the Android operating system and Chrome browser.\\n\\n17 hrs ago\\n\\nBusiness\\n\\nIs climate change making hurricanes and typhoons worse?\\n\\nThese powerful tropical storms are generally becoming more intense as the world warms.\\n\\n21 hrs ago\\n\\nScience & Environment\\n\\nTesla to unveil Cybercab, its big bet on self-driving cars\\n\\nElon Musk will unveil a prototype for the long awaited robotaxi at a film studio in Hollywood.\\n\\n8 hrs ago\\n\\nTechnology\\n\\nWhen an AI companion wants something more\\n\\nWith a loneliness epidemic gripping many parts of the world, some people are turning to AI chatbots for friendship and relationships. But is it really all just harmless fun?\\n\\n21 hrs ago\\n\\nFuture\\n\\nHow zoos protect animals when a hurricane hits\\n\\nFrom harbouring flamingos in bathrooms to ensuring koalas' specialised foods, when hurricanes hit, zoos need contingency plans at the ready.\\n\\n18 hrs ago\\n\\nFuture\\n\\nGoogle DeepMind boss wins Nobel for proteins breakthrough\\n\\nThree scientists share the prize for their revolutionary work on proteins, the buildings blocks of life.\\n\\n21 hrs ago\\n\\nScience & Environment\\n\\nTech Decoded: Sign up to our newsletter\\n\\nGet timely, trusted tech news from BBC correspondents around the world, every Monday and Friday.\\n\\nHow to reset your brain with your breath\\n\\nWith each inhalation and exhalation we have the ability to change the way we think and feel.\\n\\n3 hours ago\\n\\nExplore More\\n\\nThe vegetable that can protect you from cancer\\n\\n26 Sep 2024\\n\\nHealth Decoded\\n\\nA simple and tasty way to reduce wrinkles and keep your skin healthy\\n\\n12 Sep 2024\\n\\nHealth Decoded\\n\\nWhy improving your nutrition will help you think better\\n\\n29 Aug 2024\\n\\nHealth Decoded\\n\\nThe surprising benefits of self-soothing touch\\n\\n15 Aug 2024\\n\\nHealth Decoded\\n\\nHow your gut microbes shape your health\\n\\n25 Jul 2024\\n\\nHealth Decoded\\n\\nIs cold water swimming good for you?\\n\\n12 Jul 2024\\n\\nScience & Health\\n\\nWhy women 'need less exercise than men'\\n\\n28 Jun 2024\\n\\nScience & Health\\n\\nHow 'tapping therapy' can help calm your mind\\n\\n14 Jun 2024\\n\\nHealth Decoded\\n\\nCan this mineral help reduce anxiety?\\n\\n1 Jun 2024\\n\\nScience & Health\\n\\nFeatures\\n\\nWhen the brain's immune cells go rogue\\n\\nMicroglia are the brain's resident immune cells. Their job is to patrol the brain's blood vessels looking for invading pathogens to gobble up. But what happens when they go rogue?\\n\\nStupendously large: How big can black holes get?\\n\\nThe discovery of ultramassive black holes has raised questions about how these celestial objects first formed in the Universe, how they can grow to such immense sizes.\\n\\n3 days ago\\n\\nFuture\\n\\nThe puzzling rise of cancer in younger people\\n\\nThere are rising cases of breast, colorectal and other cancers in people in their 20s, 30s and 40s. What is going on?\\n\\n5 days ago\\n\\nFuture\\n\\nWhy an ADHD diagnosis can be a mixed blessing\\n\\nFor adults, an ADHD diagnosis can be life-saving. But it can also carry risks.\\n\\n6 days ago\\n\\nFuture\\n\\nHow tall can Mount Everest grow?\\n\\nArching over 8,849 metres (29,032ft) into the sky, Everest is the world’s tallest mountain. But will it always be?\\n\\n8 days ago\\n\\nFuture\\n\\nHow tech creates hidden work for women\\n\\nWhen it comes to using digital technology for both work and family, women are at greater risk than men of 'digital overload'.\\n\\n1 Oct 2024\\n\\nFuture\\n\\nMy journey to reclaim Jamaica's mother tongue\\n\\nCagney Roberts, who grew up in London's Jamaican community, explores the powerful history of Patwa – and how this once-mocked language is becoming a source of pride.\\n\\n29 Sep 2024\\n\\nFuture\\n\\nWatch\\n\\nThe threat of solar storms explained\\n\\nWhat damage could ferocious solar explosions wreak on our vulnerable planet?\\n\\n1 day ago\\n\\nScience & Health\\n\\nTackling digital threats to the US election\\n\\nBBC reporter Marc Cieslak explores a high-security hub monitoring digital threats ahead of the US election.\\n\\n5 days ago\\n\\nTechnology\\n\\nHow to limit your exposure to microplastics\\n\\nResearch has shown that we are becoming more exposed to microplastics. What can we do about it?\\n\\n7 days ago\\n\\nScience & Health\\n\\nWatch: Can BBC reporter's AI clone fool his colleagues?\\n\\nCyber Correspondent Joe Tidy has an AI clone of himself built to see how sophisticated they can be.\\n\\n27 Sep 2024\\n\\nTechnology\\n\\nMiami Heat: The basketball team turned tech startup\\n\\nThe iconic team has developed technology which spread to concerts, nightclubs, and other sports teams.\\n\\n7 Sep 2024\\n\\nTechnology\\n\\nTesting out smart swim goggles for the Paris Games\\n\\nA new generation of smart goggles provide real time visual feedback to enhance athletic performance.\\n\\n16 Aug 2024\\n\\nTechnology\\n\\nDriverless cars wake US residents with nighttime honking\\n\\nThe robotaxis were stationed in a San Francisco parking lot when a feature to avoid crashes set off the noise.\\n\\n14 Aug 2024\\n\\nTechnology\\n\\nHow to protect your brain from ageing\\n\\nLara Lewington travels to California to meet the scientists and experts researching our brain health.\\n\\n12 Aug 2024\\n\\nScience & Health\\n\\nHow to feel like an Olympian in your 50s\\n\\nAt 51, Andy Macdonald shows you're never too old to compete at the Olympics. But how can you keep fit as you age?\\n\\n10 Aug 2024\\n\\nScience & Health\\n\\n‘Pig butchering’ scammers target BBC reporter\\n\\nJoe Tidy played along for over two months to learn more about how the scams work.\\n\\n5 Aug 2024\\n\\nTechnology\\n\\nCan AI tell funnier jokes than a human?\\n\\nIn a clash of wit and technology, we bring together two unlikely adversaries: a comedian and an AI chatbot.\\n\\n26 Jul 2024\\n\\nArtificial Intelligence\\n\\n'My boarding pass and luggage tags were filled in manually'\\n\\nThe BBC's Samira Hussain is in Delhi, trying to catch a flight to go on holiday with her family.\\n\\n19 Jul 2024\\n\\nTechnology\\n\\nHow technology will power the Olympics opening ceremony\\n\\nA new network along the Seine in Paris will broadcast Olympic festivities from the river.\\n\\n18 Jul 2024\\n\\nTechnology\\n\\nWhy Olympic venues are using digital twins\\n\\nA peak inside both the real and virtual new Aquatic Centre built for the Paris Games.\\n\\n17 Jul 2024\\n\\nTechnology\\n\\nWhy we may have misunderstood the Universe\\n\\nResearch by a Nobel Prize winning astrophysicist suggests we have been wrong about the expansion of our Universe.\\n\\n4 Jul 2024\\n\\nScience\\n\\nMagic Johnson opens up on his HIV journey\\n\\nThe former NBA star on how he broke the devastating news to his wife and how that ultimately 'changed the world'.\\n\\n25 Jun 2024\\n\\nScience & Health\\n\\nHow does extreme weather affect our brains?\\n\\nHave you noticed any cognitive or mood swings when it’s too hot outside? You're not alone.\\n\\n24 Jun 2024\\n\\nScience & Health\\n\\nWhich hiccup remedies actually work?\\n\\nWhy do we get hiccups and how can we get rid of them?\\n\\n20 Jun 2024\\n\\nScience & Health\\n\\nUK college students on life without a smartphone\\n\\nTen teenagers swap their smartphones for brick phones as part of a week-long digital detox.\\n\\n11 Jun 2024\\n\\nTechnology\\n\\nWatch the movie that rewrites itself\\n\\nFilmmaker Gary Hustwit has created a documentary which can rewrite itself before every screening.\\n\\n7 Jun 2024\\n\\nArtificial Intelligence\\n\\nMore innovation\\n\\n15 hrs ago\\n\\nAI could save teachers 'hours' of marking time\\n\\nA pilot scheme will see every school in Liverpool offered the chance to use a pioneering platform.\\n\\n15 hrs ago\\n\\nLiverpool\\n\\n18 hrs ago\\n\\nAI tool helps tailor diabetes treatment\\n\\nResearchers say Bradford has one of the UK's highest occurrence rates for diabetes.\\n\\n18 hrs ago\\n\\n21 hrs ago\\n\\nMan denies being mysterious inventor of Bitcoin\\n\\nAttempting to identify the inventor, known only as Satoshi Nakamoto, has captivated the internet.\\n\\n21 hrs ago\\n\\nTechnology\\n\\n1 day ago\\n\\neBay to ban private e-bike sales in UK over fire fears\\n\\nThe platform will clamp down on the sale of e-bikes and e-bike batteries in the UK from 31 October.\\n\\n1 day ago\\n\\nTechnology\\n\\n2 days ago\\n\\nTeenager claims first ever Tetris 'rebirth'\\n\\nMichael Artiaga, 16, is the first known person to see the NES video game reset itself after beating it.\\n\\n2 days ago\\n\\nTechnology\\n\\n2 days ago\\n\\nWhat hurricane categories get wrong\\n\\nScientists are racing to update the imperfect system we rely on to warn just how deadly a storm will be.\\n\\n2 days ago\\n\\nFuture\\n\\n2 days ago\\n\\nImproved privacy for children's wristband scheme\\n\\nChildren in Guernsey are getting wristbands to monitor their health and improve wellness.\\n\\n2 days ago\\n\\nGuernsey\\n\\n2 days ago\\n\\nUS judge orders Google to open app store to rivals\\n\\nIt is among several remedies ordered in a case brought against the firm by Fortnite-maker Epic Games.\\n\\n2 days ago\\n\\nTechnology\\n\\n4 days ago\\n\\nTracking turtles during the 'lost years'\\n\\nMarine turtles spend almost their entire lives at sea – but little is known about the paths they take. Now, satellites are helping scientists map their movements.\\n\\n4 days ago\\n\\nFuture\"),\n",
       " Document(metadata={'source': 'https://openai.com/research/gpt-3'}, page_content='Please enable Cookies and reload the page.')]"
      ]
     },
     "execution_count": 49,
     "metadata": {},
     "output_type": "execute_result"
    }
   ],
   "source": [
    "urldata"
   ]
  },
  {
   "cell_type": "code",
   "execution_count": 50,
   "id": "18098471-b1b9-473a-b5af-b1594710b929",
   "metadata": {},
   "outputs": [
    {
     "data": {
      "text/plain": [
       "3"
      ]
     },
     "execution_count": 50,
     "metadata": {},
     "output_type": "execute_result"
    }
   ],
   "source": [
    "len(urldata)"
   ]
  },
  {
   "cell_type": "code",
   "execution_count": 51,
   "id": "dadf6d1d-079f-4c8f-831b-4bcce55f8855",
   "metadata": {},
   "outputs": [
    {
     "data": {
      "text/plain": [
       "{'source': 'https://en.wikipedia.org/wiki/Python_(programming_language)'}"
      ]
     },
     "execution_count": 51,
     "metadata": {},
     "output_type": "execute_result"
    }
   ],
   "source": [
    "urldata[0].metadata"
   ]
  },
  {
   "cell_type": "code",
   "execution_count": 52,
   "id": "684f2d22-b395-4865-b42b-8d6504cbc339",
   "metadata": {},
   "outputs": [
    {
     "data": {
      "text/plain": [
       "{'source': 'https://www.bbc.com/news/technology'}"
      ]
     },
     "execution_count": 52,
     "metadata": {},
     "output_type": "execute_result"
    }
   ],
   "source": [
    "urldata[1].metadata"
   ]
  },
  {
   "cell_type": "code",
   "execution_count": 53,
   "id": "8bd1fb0b-3f00-4f70-a69f-2bf1e0918c3b",
   "metadata": {},
   "outputs": [
    {
     "data": {
      "text/plain": [
       "{'source': 'https://openai.com/research/gpt-3'}"
      ]
     },
     "execution_count": 53,
     "metadata": {},
     "output_type": "execute_result"
    }
   ],
   "source": [
    "urldata[2].metadata"
   ]
  },
  {
   "cell_type": "markdown",
   "id": "a9f98e62-235b-4a84-998e-d2499c071bc1",
   "metadata": {},
   "source": [
    "Character textSplitter\n"
   ]
  },
  {
   "cell_type": "code",
   "execution_count": 5,
   "id": "be0be9fb-c873-48f6-86bf-e54176a2ac0e",
   "metadata": {},
   "outputs": [],
   "source": [
    "text=\"\"\"Tata Motors is one of India's largest and most prominent automotive manufacturers, known for its diverse range of vehicles, innovation, and global presence. Here’s a detailed, 3000-word exploration of Tata Motors, covering its history, products, innovations, and impact.\n",
    "\n",
    "History of Tata Motors\n",
    "Tata Motors is a part of the Tata Group, one of India's oldest and most respected conglomerates. The company was founded in 1945 as Tata Engineering and Locomotive Co. Ltd. (TELCO) to produce locomotives and other engineering products. However, it ventured into automotive manufacturing in 1954 after forming a collaboration with Daimler-Benz to produce commercial vehicles. This was a significant milestone that laid the foundation for what would become a giant in the Indian automotive industry.\n",
    "\n",
    "Tata Motors changed its name from TELCO to Tata Motors in 2003 to reflect its focus on the automotive business. Over the years, Tata Motors has expanded its reach and product lineup, moving from commercial vehicles to personal cars, buses, and more recently, electric vehicles. The company became a household name in India with vehicles that cater to different segments of the market, including affordable cars for the masses and premium cars for those who seek luxury.\n",
    "\n",
    "Commercial Vehicle Leadership\n",
    "Tata Motors began its journey in the automotive sector by focusing on commercial vehicles, which remains a core business to this day. The company has been the undisputed leader in the Indian commercial vehicle segment, and it also has a significant presence in markets abroad.\n",
    "\n",
    "The company offers a range of trucks, buses, and defense vehicles that are designed for different purposes, from urban deliveries to long-haul freight transportation. In fact, Tata Motors was among the first Indian companies to produce fully indigenous commercial vehicles.\n",
    "\n",
    "Tata’s commercial vehicle lineup includes trucks and buses that serve different industries like logistics, construction, agriculture, and passenger transport. The Tata Prima range of trucks is especially popular in the global market, known for its robust build, fuel efficiency, and reliability.\n",
    "\n",
    "One of Tata Motors' most remarkable achievements in this sector is the Tata Ace. Launched in 2005, the Ace is a mini truck that revolutionized the small cargo transport segment in India. It provided an affordable solution for small businesses, replacing hand-pulled carts and three-wheeled vehicles. The success of the Ace has been extraordinary, and it has even been exported to other developing markets.\n",
    "\n",
    "Passenger Vehicles: Revolutionizing Indian Mobility\n",
    "Tata Motors entered the passenger vehicle segment in 1991 with the launch of the Tata Sierra, an SUV designed for the Indian market. Over the years, Tata expanded its product range with sedans, hatchbacks, and utility vehicles to cater to various customer needs.\n",
    "\n",
    "One of Tata Motors' biggest breakthroughs in the passenger vehicle segment came in 1998 with the launch of the Tata Indica, India's first indigenously developed car. The Indica was a compact hatchback designed for the Indian middle class and became an instant success due to its spacious interiors, fuel efficiency, and affordability. The car also helped Tata Motors gain a foothold in the competitive Indian car market, which was dominated by foreign players.\n",
    "\n",
    "Tata Motors continued its momentum by introducing the Tata Safari, India's first fully indigenously designed SUV, which became an icon for adventurers and off-road enthusiasts.\n",
    "\n",
    "In 2008, Tata Motors made global headlines by launching the Tata Nano, touted as the world's cheapest car. The Nano was designed to provide affordable mobility for India's lower-income segments. Although the car was highly anticipated and received significant media attention, its commercial success was limited due to various factors, including marketing challenges, safety perceptions, and changing consumer preferences. Nevertheless, the Nano remains a symbol of Tata Motors' innovation and commitment to making mobility accessible to everyone.\n",
    "\n",
    "Acquisitions and Global Expansion\n",
    "A significant milestone in Tata Motors' journey came in 2008 when the company acquired the British luxury car brands Jaguar and Land Rover (JLR) from Ford. This acquisition was a bold move, as Tata Motors was primarily known for its mass-market vehicles in India, while JLR catered to the high-end luxury segment in global markets. The acquisition not only elevated Tata Motors' global standing but also provided access to cutting-edge technology and a prestigious brand portfolio.\n",
    "\n",
    "Initially, there were concerns about Tata Motors’ ability to manage JLR, especially during the global economic recession. However, Tata Motors turned the business around through strategic investments in new product development, electric vehicles, and expanding the global market reach. Today, Jaguar Land Rover contributes significantly to Tata Motors' overall revenue and profit.\n",
    "\n",
    "The JLR acquisition also opened doors for Tata Motors in international markets, particularly in Europe, China, and North America. Through JLR, Tata Motors has strengthened its global R&D capabilities, producing vehicles that compete with the likes of BMW, Mercedes-Benz, and Audi.\n",
    "\n",
    "In addition to JLR, Tata Motors also expanded its presence in other countries, including South Korea, South Africa, Thailand, and Indonesia, by forming joint ventures or acquiring local companies.\n",
    "\n",
    "Electric Vehicles and Sustainability\n",
    "In recent years, Tata Motors has taken significant strides in the electric vehicle (EV) space, aligning itself with the global shift towards sustainable and eco-friendly transportation. As climate change concerns grow and governments implement stricter emission norms, Tata Motors has made a strong commitment to green mobility.\n",
    "\n",
    "Tata Motors is part of the Tata Group's larger strategy to promote sustainability, with its subsidiary, Tata Power, setting up electric vehicle charging infrastructure across India. This move complements Tata Motors' EV product lineup, making it easier for customers to charge their electric vehicles conveniently.\n",
    "\n",
    "The Tata Nexon EV, launched in 2020, is one of India’s best-selling electric cars. It offers an impressive range, advanced features, and is affordably priced compared to other electric vehicles in the market. The Nexon EV has played a crucial role in driving EV adoption in India, where the electric vehicle market is still in its nascent stages.\n",
    "\n",
    "Tata Motors' focus on EVs isn't limited to passenger vehicles. The company has also introduced electric buses and trucks, partnering with various state governments and organizations to promote public transport electrification. The Tata Ultra Electric Bus is an example of Tata Motors’ commitment to sustainable mobility in public transportation.\n",
    "\n",
    "The company’s investments in EV technology also extend to developing more advanced batteries, efficient drivetrains, and other key components of electric vehicles. Tata Motors is actively working on localizing the production of these components to reduce costs and make EVs more accessible to the mass market.\n",
    "\n",
    "Innovation and Technology\n",
    "Innovation has always been at the heart of Tata Motors' philosophy. The company has made considerable investments in research and development (R&D) to bring new technologies to market. From the early days of producing India's first indigenously designed cars to its recent foray into electric and autonomous vehicles, Tata Motors has remained at the forefront of automotive innovation.\n",
    "\n",
    "Tata Motors has several R&D centers around the world, including in India, the UK, and South Korea. These centers work on a wide range of technologies, from electric vehicle powertrains to connected car technologies, lightweight materials, and advanced safety systems.\n",
    "\n",
    "The company’s emphasis on technology is evident in its vehicles, which come equipped with features like advanced driver assistance systems (ADAS), connected car services, and over-the-air (OTA) software updates. Tata Motors' connected car platform, iRA (Intelligent Real-Time Assist), provides features like live vehicle tracking, remote commands, and geofencing, enhancing the driving experience.\n",
    "\n",
    "The company's innovation extends beyond products to manufacturing processes as well. Tata Motors has adopted Industry 4.0 practices in its factories, including the use of automation, artificial intelligence, and robotics to improve productivity, quality, and safety. This has helped Tata Motors remain competitive in an increasingly globalized and technology-driven automotive industry.\n",
    "\n",
    "Impact on the Indian Economy\n",
    "Tata Motors plays a significant role in the Indian economy. As one of the largest automotive manufacturers in the country, the company directly and indirectly provides employment to hundreds of thousands of people. Tata Motors' extensive supply chain supports numerous industries, from steel production to electronics, contributing to the growth of India's manufacturing sector.\n",
    "\n",
    "Moreover, Tata Motors has been a major contributor to India's export earnings. The company exports its vehicles to several countries in Asia, Africa, the Middle East, and Latin America. Its commercial vehicles, in particular, are popular in developing markets due to their durability and affordability.\n",
    "\n",
    "Tata Motors is also actively involved in various corporate social responsibility (CSR) initiatives. The company has undertaken numerous projects in the areas of education, healthcare, and rural development, improving the lives of millions of people across India.\n",
    "\n",
    "Challenges and Future Outlook\n",
    "Despite its success, Tata Motors faces several challenges. The global automotive industry is undergoing a major transformation, with a shift towards electric and autonomous vehicles, stricter emission regulations, and changing consumer preferences. Tata Motors will need to continue investing in technology and innovation to stay competitive.\n",
    "\n",
    "The company also faces competition from both domestic and international players in the Indian market. While Tata Motors has a strong presence in the commercial vehicle segment, its passenger vehicle market share has fluctuated over the years. However, recent launches like the Nexon EV and Altroz hatchback have shown promise, indicating that Tata Motors is on the right path.\n",
    "\n",
    "In the global market, Tata Motors must navigate geopolitical uncertainties, fluctuating demand in different regions, and evolving trade policies. Additionally, managing the Jaguar Land Rover business in the face of changing luxury car market dynamics remains a key challenge.\n",
    "\n",
    "Conclusion\n",
    "Tata Motors is not just an automotive company; it is a symbol of India's industrial prowess and entrepreneurial spirit. From its humble beginnings in the locomotive business to becoming a global automotive powerhouse, Tata Motors has made significant contributions to the automotive industry and beyond. Its innovations in commercial vehicles, passenger cars, and electric mobility have not only shaped the Indian market but also earned it a respected place on the global stage.\n",
    "\n",
    "As the world moves towards more sustainable and connected forms of mobility, Tata Motors is well-positioned to lead the charge with its\"\"\""
   ]
  },
  {
   "cell_type": "code",
   "execution_count": 4,
   "id": "5fbdf3b4-fab9-44a7-9109-05f9cbab4fdb",
   "metadata": {},
   "outputs": [],
   "source": [
    "from langchain.text_splitter import CharacterTextSplitter"
   ]
  },
  {
   "cell_type": "code",
   "execution_count": 10,
   "id": "30ad0d03-c07a-4e57-bcb1-862ee5469a25",
   "metadata": {},
   "outputs": [],
   "source": [
    "splitter=CharacterTextSplitter(\n",
    "    separator=\"\\n\",\n",
    "    chunk_size=200,\n",
    "    chunk_overlap=5\n",
    ")"
   ]
  },
  {
   "cell_type": "code",
   "execution_count": 11,
   "id": "70fd86a2-5c44-4823-bc90-7097183fbe9b",
   "metadata": {},
   "outputs": [
    {
     "name": "stderr",
     "output_type": "stream",
     "text": [
      "Created a chunk of size 270, which is longer than the specified 200\n",
      "Created a chunk of size 497, which is longer than the specified 200\n",
      "Created a chunk of size 469, which is longer than the specified 200\n",
      "Created a chunk of size 276, which is longer than the specified 200\n",
      "Created a chunk of size 273, which is longer than the specified 200\n",
      "Created a chunk of size 295, which is longer than the specified 200\n",
      "Created a chunk of size 405, which is longer than the specified 200\n",
      "Created a chunk of size 262, which is longer than the specified 200\n",
      "Created a chunk of size 460, which is longer than the specified 200\n",
      "Created a chunk of size 547, which is longer than the specified 200\n",
      "Created a chunk of size 481, which is longer than the specified 200\n",
      "Created a chunk of size 380, which is longer than the specified 200\n",
      "Created a chunk of size 280, which is longer than the specified 200\n",
      "Created a chunk of size 328, which is longer than the specified 200\n",
      "Created a chunk of size 314, which is longer than the specified 200\n",
      "Created a chunk of size 346, which is longer than the specified 200\n",
      "Created a chunk of size 345, which is longer than the specified 200\n",
      "Created a chunk of size 309, which is longer than the specified 200\n",
      "Created a chunk of size 385, which is longer than the specified 200\n",
      "Created a chunk of size 267, which is longer than the specified 200\n",
      "Created a chunk of size 397, which is longer than the specified 200\n",
      "Created a chunk of size 386, which is longer than the specified 200\n",
      "Created a chunk of size 378, which is longer than the specified 200\n",
      "Created a chunk of size 302, which is longer than the specified 200\n",
      "Created a chunk of size 262, which is longer than the specified 200\n",
      "Created a chunk of size 342, which is longer than the specified 200\n",
      "Created a chunk of size 376, which is longer than the specified 200\n",
      "Created a chunk of size 275, which is longer than the specified 200\n",
      "Created a chunk of size 478, which is longer than the specified 200\n"
     ]
    }
   ],
   "source": [
    "chunks=splitter.split_text(text)"
   ]
  },
  {
   "cell_type": "code",
   "execution_count": 12,
   "id": "3b9ba139-a312-499e-a1ec-a3bfe2e9d024",
   "metadata": {},
   "outputs": [
    {
     "data": {
      "text/plain": [
       "41"
      ]
     },
     "execution_count": 12,
     "metadata": {},
     "output_type": "execute_result"
    }
   ],
   "source": [
    "len(chunks)"
   ]
  },
  {
   "cell_type": "code",
   "execution_count": 13,
   "id": "9d512187-b67c-4d18-bc79-8f0df30b25b3",
   "metadata": {},
   "outputs": [
    {
     "name": "stdout",
     "output_type": "stream",
     "text": [
      "270\n",
      "22\n",
      "497\n",
      "469\n",
      "29\n",
      "276\n",
      "273\n",
      "295\n",
      "405\n",
      "51\n",
      "262\n",
      "460\n",
      "176\n",
      "547\n",
      "33\n",
      "481\n",
      "380\n",
      "280\n",
      "196\n",
      "36\n",
      "328\n",
      "314\n",
      "346\n",
      "345\n",
      "309\n",
      "25\n",
      "385\n",
      "267\n",
      "397\n",
      "386\n",
      "28\n",
      "378\n",
      "302\n",
      "262\n",
      "29\n",
      "342\n",
      "376\n",
      "275\n",
      "10\n",
      "478\n",
      "135\n"
     ]
    }
   ],
   "source": [
    "for chunk in chunks:\n",
    "    print(len(chunk))"
   ]
  },
  {
   "cell_type": "markdown",
   "id": "ea7a9bbb-c939-4908-86f6-0f5b064c7a08",
   "metadata": {},
   "source": [
    "Recursive TextSplitter"
   ]
  },
  {
   "cell_type": "code",
   "execution_count": 16,
   "id": "a59c7ce0-0c44-48e8-beb5-0193f1b2e567",
   "metadata": {},
   "outputs": [],
   "source": [
    "from langchain.text_splitter import RecursiveCharacterTextSplitter"
   ]
  },
  {
   "cell_type": "code",
   "execution_count": 21,
   "id": "1ca1895f-5283-45fb-a040-21ba17a9a4cd",
   "metadata": {},
   "outputs": [],
   "source": [
    "splitter=RecursiveCharacterTextSplitter(\n",
    "    separators=[\"\\n\\n\",\"\\n\",\" \"],\n",
    "    chunk_size=200,\n",
    "    chunk_overlap=0,\n",
    "    length_function=len\n",
    ")"
   ]
  },
  {
   "cell_type": "code",
   "execution_count": 23,
   "id": "350b637f-06f8-4297-a960-23b604648d1a",
   "metadata": {},
   "outputs": [],
   "source": [
    "chunks=splitter.split_text(text)"
   ]
  },
  {
   "cell_type": "code",
   "execution_count": 25,
   "id": "408fcd25-c5ab-4b1b-b073-8316a8c46c54",
   "metadata": {},
   "outputs": [
    {
     "name": "stdout",
     "output_type": "stream",
     "text": [
      "200\n",
      "69\n",
      "22\n",
      "191\n",
      "193\n",
      "111\n",
      "194\n",
      "199\n",
      "74\n",
      "29\n",
      "190\n",
      "85\n",
      "197\n",
      "75\n",
      "192\n",
      "102\n",
      "198\n",
      "197\n",
      "8\n",
      "51\n",
      "193\n",
      "68\n",
      "190\n",
      "198\n",
      "70\n",
      "176\n",
      "194\n",
      "196\n",
      "155\n",
      "33\n",
      "197\n",
      "196\n",
      "86\n",
      "199\n",
      "180\n",
      "186\n",
      "93\n",
      "196\n",
      "36\n",
      "196\n",
      "131\n",
      "191\n",
      "122\n",
      "196\n",
      "149\n",
      "199\n",
      "145\n",
      "198\n",
      "110\n",
      "25\n",
      "199\n",
      "185\n",
      "197\n",
      "69\n",
      "193\n",
      "191\n",
      "11\n",
      "193\n",
      "192\n",
      "28\n",
      "193\n",
      "184\n",
      "189\n",
      "112\n",
      "193\n",
      "68\n",
      "29\n",
      "191\n",
      "150\n",
      "198\n",
      "177\n",
      "199\n",
      "75\n",
      "10\n",
      "194\n",
      "195\n",
      "87\n",
      "135\n"
     ]
    }
   ],
   "source": [
    "for chunk in chunks:\n",
    "    print(len(chunk))"
   ]
  },
  {
   "cell_type": "code",
   "execution_count": null,
   "id": "adfa1ed9-aa64-434b-973f-09dcab292fe3",
   "metadata": {},
   "outputs": [],
   "source": []
  }
 ],
 "metadata": {
  "kernelspec": {
   "display_name": "Python 3 (ipykernel)",
   "language": "python",
   "name": "python3"
  },
  "language_info": {
   "codemirror_mode": {
    "name": "ipython",
    "version": 3
   },
   "file_extension": ".py",
   "mimetype": "text/x-python",
   "name": "python",
   "nbconvert_exporter": "python",
   "pygments_lexer": "ipython3",
   "version": "3.12.0"
  }
 },
 "nbformat": 4,
 "nbformat_minor": 5
}
